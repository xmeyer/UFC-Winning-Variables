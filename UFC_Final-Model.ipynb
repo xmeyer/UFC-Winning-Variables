{
 "cells": [
  {
   "cell_type": "code",
   "execution_count": 2,
   "metadata": {},
   "outputs": [],
   "source": [
    "# Standard imports\n",
    "import numpy as np\n",
    "import pandas as pd\n",
    "import matplotlib.pyplot as plt\n",
    "%matplotlib inline"
   ]
  },
  {
   "cell_type": "code",
   "execution_count": 3,
   "metadata": {},
   "outputs": [
    {
     "data": {
      "text/html": [
       "<div>\n",
       "<style scoped>\n",
       "    .dataframe tbody tr th:only-of-type {\n",
       "        vertical-align: middle;\n",
       "    }\n",
       "\n",
       "    .dataframe tbody tr th {\n",
       "        vertical-align: top;\n",
       "    }\n",
       "\n",
       "    .dataframe thead th {\n",
       "        text-align: right;\n",
       "    }\n",
       "</style>\n",
       "<table border=\"1\" class=\"dataframe\">\n",
       "  <thead>\n",
       "    <tr style=\"text-align: right;\">\n",
       "      <th></th>\n",
       "      <th>R_fighter</th>\n",
       "      <th>B_fighter</th>\n",
       "      <th>Referee</th>\n",
       "      <th>date</th>\n",
       "      <th>location</th>\n",
       "      <th>Winner</th>\n",
       "      <th>title_bout</th>\n",
       "      <th>weight_class</th>\n",
       "      <th>no_of_rounds</th>\n",
       "      <th>B_current_lose_streak</th>\n",
       "      <th>...</th>\n",
       "      <th>R_win_by_KO/TKO</th>\n",
       "      <th>R_win_by_Submission</th>\n",
       "      <th>R_win_by_TKO_Doctor_Stoppage</th>\n",
       "      <th>R_wins</th>\n",
       "      <th>R_Stance</th>\n",
       "      <th>R_Height_cms</th>\n",
       "      <th>R_Reach_cms</th>\n",
       "      <th>R_Weight_lbs</th>\n",
       "      <th>B_age</th>\n",
       "      <th>R_age</th>\n",
       "    </tr>\n",
       "  </thead>\n",
       "  <tbody>\n",
       "    <tr>\n",
       "      <th>0</th>\n",
       "      <td>Henry Cejudo</td>\n",
       "      <td>Marlon Moraes</td>\n",
       "      <td>Marc Goddard</td>\n",
       "      <td>2019-06-08</td>\n",
       "      <td>Chicago, Illinois, USA</td>\n",
       "      <td>Red</td>\n",
       "      <td>True</td>\n",
       "      <td>Bantamweight</td>\n",
       "      <td>5</td>\n",
       "      <td>0.0</td>\n",
       "      <td>...</td>\n",
       "      <td>2.0</td>\n",
       "      <td>0.0</td>\n",
       "      <td>0.0</td>\n",
       "      <td>8.0</td>\n",
       "      <td>Orthodox</td>\n",
       "      <td>162.56</td>\n",
       "      <td>162.56</td>\n",
       "      <td>135.0</td>\n",
       "      <td>31.0</td>\n",
       "      <td>32.0</td>\n",
       "    </tr>\n",
       "    <tr>\n",
       "      <th>1</th>\n",
       "      <td>Valentina Shevchenko</td>\n",
       "      <td>Jessica Eye</td>\n",
       "      <td>Robert Madrigal</td>\n",
       "      <td>2019-06-08</td>\n",
       "      <td>Chicago, Illinois, USA</td>\n",
       "      <td>Red</td>\n",
       "      <td>True</td>\n",
       "      <td>Women's Flyweight</td>\n",
       "      <td>5</td>\n",
       "      <td>0.0</td>\n",
       "      <td>...</td>\n",
       "      <td>0.0</td>\n",
       "      <td>2.0</td>\n",
       "      <td>0.0</td>\n",
       "      <td>5.0</td>\n",
       "      <td>Southpaw</td>\n",
       "      <td>165.10</td>\n",
       "      <td>167.64</td>\n",
       "      <td>125.0</td>\n",
       "      <td>32.0</td>\n",
       "      <td>31.0</td>\n",
       "    </tr>\n",
       "    <tr>\n",
       "      <th>2</th>\n",
       "      <td>Tony Ferguson</td>\n",
       "      <td>Donald Cerrone</td>\n",
       "      <td>Dan Miragliotta</td>\n",
       "      <td>2019-06-08</td>\n",
       "      <td>Chicago, Illinois, USA</td>\n",
       "      <td>Red</td>\n",
       "      <td>False</td>\n",
       "      <td>Lightweight</td>\n",
       "      <td>3</td>\n",
       "      <td>0.0</td>\n",
       "      <td>...</td>\n",
       "      <td>3.0</td>\n",
       "      <td>6.0</td>\n",
       "      <td>1.0</td>\n",
       "      <td>14.0</td>\n",
       "      <td>Orthodox</td>\n",
       "      <td>180.34</td>\n",
       "      <td>193.04</td>\n",
       "      <td>155.0</td>\n",
       "      <td>36.0</td>\n",
       "      <td>35.0</td>\n",
       "    </tr>\n",
       "    <tr>\n",
       "      <th>3</th>\n",
       "      <td>Jimmie Rivera</td>\n",
       "      <td>Petr Yan</td>\n",
       "      <td>Kevin MacDonald</td>\n",
       "      <td>2019-06-08</td>\n",
       "      <td>Chicago, Illinois, USA</td>\n",
       "      <td>Blue</td>\n",
       "      <td>False</td>\n",
       "      <td>Bantamweight</td>\n",
       "      <td>3</td>\n",
       "      <td>0.0</td>\n",
       "      <td>...</td>\n",
       "      <td>1.0</td>\n",
       "      <td>0.0</td>\n",
       "      <td>0.0</td>\n",
       "      <td>6.0</td>\n",
       "      <td>Orthodox</td>\n",
       "      <td>162.56</td>\n",
       "      <td>172.72</td>\n",
       "      <td>135.0</td>\n",
       "      <td>26.0</td>\n",
       "      <td>29.0</td>\n",
       "    </tr>\n",
       "    <tr>\n",
       "      <th>4</th>\n",
       "      <td>Tai Tuivasa</td>\n",
       "      <td>Blagoy Ivanov</td>\n",
       "      <td>Dan Miragliotta</td>\n",
       "      <td>2019-06-08</td>\n",
       "      <td>Chicago, Illinois, USA</td>\n",
       "      <td>Blue</td>\n",
       "      <td>False</td>\n",
       "      <td>Heavyweight</td>\n",
       "      <td>3</td>\n",
       "      <td>0.0</td>\n",
       "      <td>...</td>\n",
       "      <td>2.0</td>\n",
       "      <td>0.0</td>\n",
       "      <td>0.0</td>\n",
       "      <td>3.0</td>\n",
       "      <td>Southpaw</td>\n",
       "      <td>187.96</td>\n",
       "      <td>190.50</td>\n",
       "      <td>264.0</td>\n",
       "      <td>32.0</td>\n",
       "      <td>26.0</td>\n",
       "    </tr>\n",
       "  </tbody>\n",
       "</table>\n",
       "<p>5 rows × 145 columns</p>\n",
       "</div>"
      ],
      "text/plain": [
       "              R_fighter       B_fighter          Referee        date  \\\n",
       "0          Henry Cejudo   Marlon Moraes     Marc Goddard  2019-06-08   \n",
       "1  Valentina Shevchenko     Jessica Eye  Robert Madrigal  2019-06-08   \n",
       "2         Tony Ferguson  Donald Cerrone  Dan Miragliotta  2019-06-08   \n",
       "3         Jimmie Rivera        Petr Yan  Kevin MacDonald  2019-06-08   \n",
       "4           Tai Tuivasa   Blagoy Ivanov  Dan Miragliotta  2019-06-08   \n",
       "\n",
       "                 location Winner  title_bout       weight_class  no_of_rounds  \\\n",
       "0  Chicago, Illinois, USA    Red        True       Bantamweight             5   \n",
       "1  Chicago, Illinois, USA    Red        True  Women's Flyweight             5   \n",
       "2  Chicago, Illinois, USA    Red       False        Lightweight             3   \n",
       "3  Chicago, Illinois, USA   Blue       False       Bantamweight             3   \n",
       "4  Chicago, Illinois, USA   Blue       False        Heavyweight             3   \n",
       "\n",
       "   B_current_lose_streak  ...  R_win_by_KO/TKO  R_win_by_Submission  \\\n",
       "0                    0.0  ...              2.0                  0.0   \n",
       "1                    0.0  ...              0.0                  2.0   \n",
       "2                    0.0  ...              3.0                  6.0   \n",
       "3                    0.0  ...              1.0                  0.0   \n",
       "4                    0.0  ...              2.0                  0.0   \n",
       "\n",
       "   R_win_by_TKO_Doctor_Stoppage  R_wins  R_Stance  R_Height_cms  R_Reach_cms  \\\n",
       "0                           0.0     8.0  Orthodox        162.56       162.56   \n",
       "1                           0.0     5.0  Southpaw        165.10       167.64   \n",
       "2                           1.0    14.0  Orthodox        180.34       193.04   \n",
       "3                           0.0     6.0  Orthodox        162.56       172.72   \n",
       "4                           0.0     3.0  Southpaw        187.96       190.50   \n",
       "\n",
       "   R_Weight_lbs  B_age  R_age  \n",
       "0         135.0   31.0   32.0  \n",
       "1         125.0   32.0   31.0  \n",
       "2         155.0   36.0   35.0  \n",
       "3         135.0   26.0   29.0  \n",
       "4         264.0   32.0   26.0  \n",
       "\n",
       "[5 rows x 145 columns]"
      ]
     },
     "execution_count": 3,
     "metadata": {},
     "output_type": "execute_result"
    }
   ],
   "source": [
    "f = pd.read_csv('C:/Users/xavie/Downloads/UFC_data/data.csv')\n",
    "f.head()"
   ]
  },
  {
   "cell_type": "markdown",
   "metadata": {},
   "source": [
    "**Data Preparation**"
   ]
  },
  {
   "cell_type": "code",
   "execution_count": 5,
   "metadata": {},
   "outputs": [
    {
     "data": {
      "text/html": [
       "<div>\n",
       "<style scoped>\n",
       "    .dataframe tbody tr th:only-of-type {\n",
       "        vertical-align: middle;\n",
       "    }\n",
       "\n",
       "    .dataframe tbody tr th {\n",
       "        vertical-align: top;\n",
       "    }\n",
       "\n",
       "    .dataframe thead th {\n",
       "        text-align: right;\n",
       "    }\n",
       "</style>\n",
       "<table border=\"1\" class=\"dataframe\">\n",
       "  <thead>\n",
       "    <tr style=\"text-align: right;\">\n",
       "      <th></th>\n",
       "      <th>Win</th>\n",
       "      <th>Stance</th>\n",
       "      <th>Age</th>\n",
       "      <th>Height_m</th>\n",
       "      <th>Reach_m</th>\n",
       "      <th>Weight_kg</th>\n",
       "      <th>BMI</th>\n",
       "    </tr>\n",
       "  </thead>\n",
       "  <tbody>\n",
       "    <tr>\n",
       "      <th>0</th>\n",
       "      <td>1</td>\n",
       "      <td>Orthodox</td>\n",
       "      <td>32.0</td>\n",
       "      <td>1.63</td>\n",
       "      <td>1.63</td>\n",
       "      <td>61.23</td>\n",
       "      <td>23.17</td>\n",
       "    </tr>\n",
       "    <tr>\n",
       "      <th>1</th>\n",
       "      <td>1</td>\n",
       "      <td>Southpaw</td>\n",
       "      <td>31.0</td>\n",
       "      <td>1.65</td>\n",
       "      <td>1.68</td>\n",
       "      <td>56.70</td>\n",
       "      <td>20.80</td>\n",
       "    </tr>\n",
       "    <tr>\n",
       "      <th>2</th>\n",
       "      <td>1</td>\n",
       "      <td>Orthodox</td>\n",
       "      <td>35.0</td>\n",
       "      <td>1.80</td>\n",
       "      <td>1.93</td>\n",
       "      <td>70.31</td>\n",
       "      <td>21.62</td>\n",
       "    </tr>\n",
       "    <tr>\n",
       "      <th>3</th>\n",
       "      <td>0</td>\n",
       "      <td>Orthodox</td>\n",
       "      <td>29.0</td>\n",
       "      <td>1.63</td>\n",
       "      <td>1.73</td>\n",
       "      <td>61.23</td>\n",
       "      <td>23.17</td>\n",
       "    </tr>\n",
       "    <tr>\n",
       "      <th>4</th>\n",
       "      <td>0</td>\n",
       "      <td>Southpaw</td>\n",
       "      <td>26.0</td>\n",
       "      <td>1.88</td>\n",
       "      <td>1.90</td>\n",
       "      <td>119.75</td>\n",
       "      <td>33.90</td>\n",
       "    </tr>\n",
       "  </tbody>\n",
       "</table>\n",
       "</div>"
      ],
      "text/plain": [
       "   Win    Stance   Age  Height_m  Reach_m  Weight_kg    BMI\n",
       "0    1  Orthodox  32.0      1.63     1.63      61.23  23.17\n",
       "1    1  Southpaw  31.0      1.65     1.68      56.70  20.80\n",
       "2    1  Orthodox  35.0      1.80     1.93      70.31  21.62\n",
       "3    0  Orthodox  29.0      1.63     1.73      61.23  23.17\n",
       "4    0  Southpaw  26.0      1.88     1.90     119.75  33.90"
      ]
     },
     "execution_count": 5,
     "metadata": {},
     "output_type": "execute_result"
    }
   ],
   "source": [
    "# Do not need red and blue data, as one impacts the other.\n",
    "ufc_df = pd.DataFrame(f, columns = ['Winner', 'R_Stance',\n",
    "                                 'R_Height_cms', 'R_Reach_cms',\n",
    "                                 'R_Weight_lbs', 'R_age'])\n",
    "ufc_df['Win'] = ufc_df['Winner']\n",
    "ufc_df['Stance'] = ufc_df['R_Stance']\n",
    "ufc_df['Age'] = ufc_df['R_age']\n",
    "\n",
    "# Height and Reach: cms to m\n",
    "ufc_df['Height_m'] = ufc_df['R_Height_cms'] / 100\n",
    "ufc_df['Reach_m'] = ufc_df['R_Reach_cms'] / 100\n",
    "\n",
    "# Weight: lbs to kg\n",
    "ufc_df['Weight_kg'] = ufc_df['R_Weight_lbs'] * 0.453592\n",
    "\n",
    "# Remove unwanted columns\n",
    "ufc_df = ufc_df.drop(columns = ['R_Height_cms', 'R_Reach_cms', 'Winner', \n",
    "                                'R_Weight_lbs', 'R_Stance', 'R_age'])\n",
    "\n",
    "# BMI: weight/ height^2\n",
    "ufc_df['BMI'] = ufc_df['Weight_kg'] / (ufc_df['Height_m'] ** 2)\n",
    "\n",
    "# Win column: win = 1, loss = 0, draw = 2 (will remove draw)\n",
    "ufc_df['Win'] = ufc_df['Win'].replace({'Red': 1,\n",
    "                                          'Blue': 0,\n",
    "                                          'Draw': 2}).astype(int)\n",
    "# Remove rows with draw\n",
    "ufc_df = ufc_df[ufc_df.Win != 2]\n",
    "\n",
    "# Round decimals to hundredths\n",
    "ufc_df = ufc_df.round(2)\n",
    "\n",
    "ufc_df.head()"
   ]
  },
  {
   "cell_type": "markdown",
   "metadata": {},
   "source": [
    "**Pipelining the Data Prep**"
   ]
  },
  {
   "cell_type": "code",
   "execution_count": 6,
   "metadata": {},
   "outputs": [],
   "source": [
    "import pandas as pd\n",
    "from sklearn.compose import ColumnTransformer\n",
    "from sklearn.pipeline import Pipeline\n",
    "from sklearn.impute import SimpleImputer\n",
    "from sklearn.preprocessing import OneHotEncoder\n",
    "import numpy as np\n",
    "\n",
    "categorical_feature = ['Stance']\n",
    "categorical_transformer = Pipeline(steps = [\n",
    "    ('imputer', SimpleImputer(strategy = 'constant', fill_value = 'missing')),\n",
    "    ('onehot', OneHotEncoder(handle_unknown = 'ignore'))\n",
    "])\n",
    "\n",
    "numerical_features = ['Height_m', 'Reach_m', 'Weight_kg', 'Age', 'BMI']\n",
    "numerical_transformer = Pipeline(steps = [\n",
    "    ('imputer', SimpleImputer(strategy = 'mean'))\n",
    "])\n",
    "\n",
    "preprocessor = ColumnTransformer(\n",
    "                    transformers = [\n",
    "                        ('cat', categorical_transformer, categorical_feature),\n",
    "                        ('num', numerical_transformer, numerical_features)\n",
    "                    ])"
   ]
  },
  {
   "cell_type": "markdown",
   "metadata": {},
   "source": [
    "**Evaluate Predictions**"
   ]
  },
  {
   "cell_type": "code",
   "execution_count": 7,
   "metadata": {},
   "outputs": [],
   "source": [
    "from sklearn.metrics import accuracy_score, precision_score, recall_score, f1_score\n",
    "\n",
    "def evaluate_preds(y_true, y_preds):\n",
    "    \"\"\"\n",
    "    Performs evaluation comparison on y_true labels vs y_preds labels\n",
    "    on a classification model.\n",
    "    \"\"\"\n",
    "    accuracy = accuracy_score(y_true, y_preds)\n",
    "    precision = precision_score(y_true, y_preds)\n",
    "    recall = recall_score(y_true, y_preds)\n",
    "    f1 = f1_score(y_true, y_preds)\n",
    "    metric_dict = {'accuracy': round(accuracy, 2),\n",
    "                   'precision': round(precision, 2),\n",
    "                   'recall': round(recall, 2),\n",
    "                   'f1': round(f1, 2)}\n",
    "    print(f'Acc: {accuracy * 100:.2f}%')\n",
    "    print(f'Precision: {precision:.2f}')\n",
    "    print(f'Recall: {recall:.2f}')\n",
    "    print(f'F1 score: {f1:.2f}')\n",
    "    \n",
    "    return metric_dict"
   ]
  },
  {
   "cell_type": "markdown",
   "metadata": {},
   "source": [
    "**Modeling Data**"
   ]
  },
  {
   "cell_type": "code",
   "execution_count": 9,
   "metadata": {},
   "outputs": [
    {
     "name": "stdout",
     "output_type": "stream",
     "text": [
      "Acc: 67.52%\n",
      "Precision: 0.67\n",
      "Recall: 1.00\n",
      "F1 score: 0.80\n"
     ]
    }
   ],
   "source": [
    "from sklearn.svm import SVC\n",
    "from sklearn.preprocessing import StandardScaler\n",
    "from sklearn.model_selection import train_test_split\n",
    "\n",
    "np.random.seed(42)\n",
    "\n",
    "model = Pipeline(steps = [('preprocessor', preprocessor),\n",
    "                          ('scaler', StandardScaler()),\n",
    "                          ('model', SVC())])\n",
    "\n",
    "X = ufc_df.drop('Win', axis = 1)\n",
    "y = ufc_df['Win']\n",
    "X_train, X_test, y_train, y_test = train_test_split(X, y, test_size = 0.2)\n",
    "\n",
    "model.fit(X_train, y_train)\n",
    "\n",
    "y_preds = model.predict(X_test)\n",
    "baseline_metrics = evaluate_preds(y_test, y_preds)"
   ]
  },
  {
   "cell_type": "markdown",
   "metadata": {},
   "source": [
    "**Improve Model by Hyperparameters**"
   ]
  },
  {
   "cell_type": "code",
   "execution_count": 20,
   "metadata": {},
   "outputs": [
    {
     "name": "stdout",
     "output_type": "stream",
     "text": [
      "Fitting 5 folds for each of 10 candidates, totalling 50 fits\n",
      "[CV] preprocessor__num__imputer__strategy=mean, model__max_iter=10000, model__kernel=rbf, model__gamma=0.1, model__degree=4, model__C=100 \n"
     ]
    },
    {
     "name": "stderr",
     "output_type": "stream",
     "text": [
      "[Parallel(n_jobs=1)]: Using backend SequentialBackend with 1 concurrent workers.\n",
      "C:\\Users\\xavie\\Anaconda3\\lib\\site-packages\\sklearn\\svm\\base.py:241: ConvergenceWarning: Solver terminated early (max_iter=10000).  Consider pre-processing your data with StandardScaler or MinMaxScaler.\n",
      "  % self.max_iter, ConvergenceWarning)\n",
      "[Parallel(n_jobs=1)]: Done   1 out of   1 | elapsed:    0.9s remaining:    0.0s\n"
     ]
    },
    {
     "name": "stdout",
     "output_type": "stream",
     "text": [
      "[CV]  preprocessor__num__imputer__strategy=mean, model__max_iter=10000, model__kernel=rbf, model__gamma=0.1, model__degree=4, model__C=100, total=   1.0s\n",
      "[CV] preprocessor__num__imputer__strategy=mean, model__max_iter=10000, model__kernel=rbf, model__gamma=0.1, model__degree=4, model__C=100 \n"
     ]
    },
    {
     "name": "stderr",
     "output_type": "stream",
     "text": [
      "C:\\Users\\xavie\\Anaconda3\\lib\\site-packages\\sklearn\\svm\\base.py:241: ConvergenceWarning: Solver terminated early (max_iter=10000).  Consider pre-processing your data with StandardScaler or MinMaxScaler.\n",
      "  % self.max_iter, ConvergenceWarning)\n"
     ]
    },
    {
     "name": "stdout",
     "output_type": "stream",
     "text": [
      "[CV]  preprocessor__num__imputer__strategy=mean, model__max_iter=10000, model__kernel=rbf, model__gamma=0.1, model__degree=4, model__C=100, total=   0.9s\n",
      "[CV] preprocessor__num__imputer__strategy=mean, model__max_iter=10000, model__kernel=rbf, model__gamma=0.1, model__degree=4, model__C=100 \n"
     ]
    },
    {
     "name": "stderr",
     "output_type": "stream",
     "text": [
      "C:\\Users\\xavie\\Anaconda3\\lib\\site-packages\\sklearn\\svm\\base.py:241: ConvergenceWarning: Solver terminated early (max_iter=10000).  Consider pre-processing your data with StandardScaler or MinMaxScaler.\n",
      "  % self.max_iter, ConvergenceWarning)\n"
     ]
    },
    {
     "name": "stdout",
     "output_type": "stream",
     "text": [
      "[CV]  preprocessor__num__imputer__strategy=mean, model__max_iter=10000, model__kernel=rbf, model__gamma=0.1, model__degree=4, model__C=100, total=   0.9s\n",
      "[CV] preprocessor__num__imputer__strategy=mean, model__max_iter=10000, model__kernel=rbf, model__gamma=0.1, model__degree=4, model__C=100 \n"
     ]
    },
    {
     "name": "stderr",
     "output_type": "stream",
     "text": [
      "C:\\Users\\xavie\\Anaconda3\\lib\\site-packages\\sklearn\\svm\\base.py:241: ConvergenceWarning: Solver terminated early (max_iter=10000).  Consider pre-processing your data with StandardScaler or MinMaxScaler.\n",
      "  % self.max_iter, ConvergenceWarning)\n"
     ]
    },
    {
     "name": "stdout",
     "output_type": "stream",
     "text": [
      "[CV]  preprocessor__num__imputer__strategy=mean, model__max_iter=10000, model__kernel=rbf, model__gamma=0.1, model__degree=4, model__C=100, total=   0.9s\n",
      "[CV] preprocessor__num__imputer__strategy=mean, model__max_iter=10000, model__kernel=rbf, model__gamma=0.1, model__degree=4, model__C=100 \n"
     ]
    },
    {
     "name": "stderr",
     "output_type": "stream",
     "text": [
      "C:\\Users\\xavie\\Anaconda3\\lib\\site-packages\\sklearn\\svm\\base.py:241: ConvergenceWarning: Solver terminated early (max_iter=10000).  Consider pre-processing your data with StandardScaler or MinMaxScaler.\n",
      "  % self.max_iter, ConvergenceWarning)\n"
     ]
    },
    {
     "name": "stdout",
     "output_type": "stream",
     "text": [
      "[CV]  preprocessor__num__imputer__strategy=mean, model__max_iter=10000, model__kernel=rbf, model__gamma=0.1, model__degree=4, model__C=100, total=   0.9s\n",
      "[CV] preprocessor__num__imputer__strategy=mean, model__max_iter=1000, model__kernel=rbf, model__gamma=0.001, model__degree=3, model__C=50 \n"
     ]
    },
    {
     "name": "stderr",
     "output_type": "stream",
     "text": [
      "C:\\Users\\xavie\\Anaconda3\\lib\\site-packages\\sklearn\\svm\\base.py:241: ConvergenceWarning: Solver terminated early (max_iter=1000).  Consider pre-processing your data with StandardScaler or MinMaxScaler.\n",
      "  % self.max_iter, ConvergenceWarning)\n"
     ]
    },
    {
     "name": "stdout",
     "output_type": "stream",
     "text": [
      "[CV]  preprocessor__num__imputer__strategy=mean, model__max_iter=1000, model__kernel=rbf, model__gamma=0.001, model__degree=3, model__C=50, total=   0.4s\n",
      "[CV] preprocessor__num__imputer__strategy=mean, model__max_iter=1000, model__kernel=rbf, model__gamma=0.001, model__degree=3, model__C=50 \n"
     ]
    },
    {
     "name": "stderr",
     "output_type": "stream",
     "text": [
      "C:\\Users\\xavie\\Anaconda3\\lib\\site-packages\\sklearn\\svm\\base.py:241: ConvergenceWarning: Solver terminated early (max_iter=1000).  Consider pre-processing your data with StandardScaler or MinMaxScaler.\n",
      "  % self.max_iter, ConvergenceWarning)\n"
     ]
    },
    {
     "name": "stdout",
     "output_type": "stream",
     "text": [
      "[CV]  preprocessor__num__imputer__strategy=mean, model__max_iter=1000, model__kernel=rbf, model__gamma=0.001, model__degree=3, model__C=50, total=   0.4s\n",
      "[CV] preprocessor__num__imputer__strategy=mean, model__max_iter=1000, model__kernel=rbf, model__gamma=0.001, model__degree=3, model__C=50 \n"
     ]
    },
    {
     "name": "stderr",
     "output_type": "stream",
     "text": [
      "C:\\Users\\xavie\\Anaconda3\\lib\\site-packages\\sklearn\\svm\\base.py:241: ConvergenceWarning: Solver terminated early (max_iter=1000).  Consider pre-processing your data with StandardScaler or MinMaxScaler.\n",
      "  % self.max_iter, ConvergenceWarning)\n"
     ]
    },
    {
     "name": "stdout",
     "output_type": "stream",
     "text": [
      "[CV]  preprocessor__num__imputer__strategy=mean, model__max_iter=1000, model__kernel=rbf, model__gamma=0.001, model__degree=3, model__C=50, total=   0.4s\n",
      "[CV] preprocessor__num__imputer__strategy=mean, model__max_iter=1000, model__kernel=rbf, model__gamma=0.001, model__degree=3, model__C=50 \n"
     ]
    },
    {
     "name": "stderr",
     "output_type": "stream",
     "text": [
      "C:\\Users\\xavie\\Anaconda3\\lib\\site-packages\\sklearn\\svm\\base.py:241: ConvergenceWarning: Solver terminated early (max_iter=1000).  Consider pre-processing your data with StandardScaler or MinMaxScaler.\n",
      "  % self.max_iter, ConvergenceWarning)\n"
     ]
    },
    {
     "name": "stdout",
     "output_type": "stream",
     "text": [
      "[CV]  preprocessor__num__imputer__strategy=mean, model__max_iter=1000, model__kernel=rbf, model__gamma=0.001, model__degree=3, model__C=50, total=   0.5s\n",
      "[CV] preprocessor__num__imputer__strategy=mean, model__max_iter=1000, model__kernel=rbf, model__gamma=0.001, model__degree=3, model__C=50 \n"
     ]
    },
    {
     "name": "stderr",
     "output_type": "stream",
     "text": [
      "C:\\Users\\xavie\\Anaconda3\\lib\\site-packages\\sklearn\\svm\\base.py:241: ConvergenceWarning: Solver terminated early (max_iter=1000).  Consider pre-processing your data with StandardScaler or MinMaxScaler.\n",
      "  % self.max_iter, ConvergenceWarning)\n"
     ]
    },
    {
     "name": "stdout",
     "output_type": "stream",
     "text": [
      "[CV]  preprocessor__num__imputer__strategy=mean, model__max_iter=1000, model__kernel=rbf, model__gamma=0.001, model__degree=3, model__C=50, total=   0.5s\n",
      "[CV] preprocessor__num__imputer__strategy=mean, model__max_iter=10000, model__kernel=linear, model__gamma=0.01, model__degree=4, model__C=100 \n"
     ]
    },
    {
     "name": "stderr",
     "output_type": "stream",
     "text": [
      "C:\\Users\\xavie\\Anaconda3\\lib\\site-packages\\sklearn\\svm\\base.py:241: ConvergenceWarning: Solver terminated early (max_iter=10000).  Consider pre-processing your data with StandardScaler or MinMaxScaler.\n",
      "  % self.max_iter, ConvergenceWarning)\n"
     ]
    },
    {
     "name": "stdout",
     "output_type": "stream",
     "text": [
      "[CV]  preprocessor__num__imputer__strategy=mean, model__max_iter=10000, model__kernel=linear, model__gamma=0.01, model__degree=4, model__C=100, total=   0.8s\n",
      "[CV] preprocessor__num__imputer__strategy=mean, model__max_iter=10000, model__kernel=linear, model__gamma=0.01, model__degree=4, model__C=100 \n"
     ]
    },
    {
     "name": "stderr",
     "output_type": "stream",
     "text": [
      "C:\\Users\\xavie\\Anaconda3\\lib\\site-packages\\sklearn\\svm\\base.py:241: ConvergenceWarning: Solver terminated early (max_iter=10000).  Consider pre-processing your data with StandardScaler or MinMaxScaler.\n",
      "  % self.max_iter, ConvergenceWarning)\n"
     ]
    },
    {
     "name": "stdout",
     "output_type": "stream",
     "text": [
      "[CV]  preprocessor__num__imputer__strategy=mean, model__max_iter=10000, model__kernel=linear, model__gamma=0.01, model__degree=4, model__C=100, total=   0.9s\n",
      "[CV] preprocessor__num__imputer__strategy=mean, model__max_iter=10000, model__kernel=linear, model__gamma=0.01, model__degree=4, model__C=100 \n"
     ]
    },
    {
     "name": "stderr",
     "output_type": "stream",
     "text": [
      "C:\\Users\\xavie\\Anaconda3\\lib\\site-packages\\sklearn\\svm\\base.py:241: ConvergenceWarning: Solver terminated early (max_iter=10000).  Consider pre-processing your data with StandardScaler or MinMaxScaler.\n",
      "  % self.max_iter, ConvergenceWarning)\n"
     ]
    },
    {
     "name": "stdout",
     "output_type": "stream",
     "text": [
      "[CV]  preprocessor__num__imputer__strategy=mean, model__max_iter=10000, model__kernel=linear, model__gamma=0.01, model__degree=4, model__C=100, total=   0.8s\n",
      "[CV] preprocessor__num__imputer__strategy=mean, model__max_iter=10000, model__kernel=linear, model__gamma=0.01, model__degree=4, model__C=100 \n"
     ]
    },
    {
     "name": "stderr",
     "output_type": "stream",
     "text": [
      "C:\\Users\\xavie\\Anaconda3\\lib\\site-packages\\sklearn\\svm\\base.py:241: ConvergenceWarning: Solver terminated early (max_iter=10000).  Consider pre-processing your data with StandardScaler or MinMaxScaler.\n",
      "  % self.max_iter, ConvergenceWarning)\n"
     ]
    },
    {
     "name": "stdout",
     "output_type": "stream",
     "text": [
      "[CV]  preprocessor__num__imputer__strategy=mean, model__max_iter=10000, model__kernel=linear, model__gamma=0.01, model__degree=4, model__C=100, total=   0.8s\n",
      "[CV] preprocessor__num__imputer__strategy=mean, model__max_iter=10000, model__kernel=linear, model__gamma=0.01, model__degree=4, model__C=100 \n"
     ]
    },
    {
     "name": "stderr",
     "output_type": "stream",
     "text": [
      "C:\\Users\\xavie\\Anaconda3\\lib\\site-packages\\sklearn\\svm\\base.py:241: ConvergenceWarning: Solver terminated early (max_iter=10000).  Consider pre-processing your data with StandardScaler or MinMaxScaler.\n",
      "  % self.max_iter, ConvergenceWarning)\n"
     ]
    },
    {
     "name": "stdout",
     "output_type": "stream",
     "text": [
      "[CV]  preprocessor__num__imputer__strategy=mean, model__max_iter=10000, model__kernel=linear, model__gamma=0.01, model__degree=4, model__C=100, total=   0.9s\n",
      "[CV] preprocessor__num__imputer__strategy=median, model__max_iter=10000, model__kernel=linear, model__gamma=0.001, model__degree=3, model__C=100 \n"
     ]
    },
    {
     "name": "stderr",
     "output_type": "stream",
     "text": [
      "C:\\Users\\xavie\\Anaconda3\\lib\\site-packages\\sklearn\\svm\\base.py:241: ConvergenceWarning: Solver terminated early (max_iter=10000).  Consider pre-processing your data with StandardScaler or MinMaxScaler.\n",
      "  % self.max_iter, ConvergenceWarning)\n"
     ]
    },
    {
     "name": "stdout",
     "output_type": "stream",
     "text": [
      "[CV]  preprocessor__num__imputer__strategy=median, model__max_iter=10000, model__kernel=linear, model__gamma=0.001, model__degree=3, model__C=100, total=   1.0s\n",
      "[CV] preprocessor__num__imputer__strategy=median, model__max_iter=10000, model__kernel=linear, model__gamma=0.001, model__degree=3, model__C=100 \n"
     ]
    },
    {
     "name": "stderr",
     "output_type": "stream",
     "text": [
      "C:\\Users\\xavie\\Anaconda3\\lib\\site-packages\\sklearn\\svm\\base.py:241: ConvergenceWarning: Solver terminated early (max_iter=10000).  Consider pre-processing your data with StandardScaler or MinMaxScaler.\n",
      "  % self.max_iter, ConvergenceWarning)\n"
     ]
    },
    {
     "name": "stdout",
     "output_type": "stream",
     "text": [
      "[CV]  preprocessor__num__imputer__strategy=median, model__max_iter=10000, model__kernel=linear, model__gamma=0.001, model__degree=3, model__C=100, total=   0.7s\n",
      "[CV] preprocessor__num__imputer__strategy=median, model__max_iter=10000, model__kernel=linear, model__gamma=0.001, model__degree=3, model__C=100 \n"
     ]
    },
    {
     "name": "stderr",
     "output_type": "stream",
     "text": [
      "C:\\Users\\xavie\\Anaconda3\\lib\\site-packages\\sklearn\\svm\\base.py:241: ConvergenceWarning: Solver terminated early (max_iter=10000).  Consider pre-processing your data with StandardScaler or MinMaxScaler.\n",
      "  % self.max_iter, ConvergenceWarning)\n"
     ]
    },
    {
     "name": "stdout",
     "output_type": "stream",
     "text": [
      "[CV]  preprocessor__num__imputer__strategy=median, model__max_iter=10000, model__kernel=linear, model__gamma=0.001, model__degree=3, model__C=100, total=   0.7s\n",
      "[CV] preprocessor__num__imputer__strategy=median, model__max_iter=10000, model__kernel=linear, model__gamma=0.001, model__degree=3, model__C=100 \n"
     ]
    },
    {
     "name": "stderr",
     "output_type": "stream",
     "text": [
      "C:\\Users\\xavie\\Anaconda3\\lib\\site-packages\\sklearn\\svm\\base.py:241: ConvergenceWarning: Solver terminated early (max_iter=10000).  Consider pre-processing your data with StandardScaler or MinMaxScaler.\n",
      "  % self.max_iter, ConvergenceWarning)\n"
     ]
    },
    {
     "name": "stdout",
     "output_type": "stream",
     "text": [
      "[CV]  preprocessor__num__imputer__strategy=median, model__max_iter=10000, model__kernel=linear, model__gamma=0.001, model__degree=3, model__C=100, total=   0.7s\n",
      "[CV] preprocessor__num__imputer__strategy=median, model__max_iter=10000, model__kernel=linear, model__gamma=0.001, model__degree=3, model__C=100 \n"
     ]
    },
    {
     "name": "stderr",
     "output_type": "stream",
     "text": [
      "C:\\Users\\xavie\\Anaconda3\\lib\\site-packages\\sklearn\\svm\\base.py:241: ConvergenceWarning: Solver terminated early (max_iter=10000).  Consider pre-processing your data with StandardScaler or MinMaxScaler.\n",
      "  % self.max_iter, ConvergenceWarning)\n",
      "C:\\Users\\xavie\\Anaconda3\\lib\\site-packages\\sklearn\\svm\\base.py:241: ConvergenceWarning: Solver terminated early (max_iter=1000).  Consider pre-processing your data with StandardScaler or MinMaxScaler.\n",
      "  % self.max_iter, ConvergenceWarning)\n"
     ]
    },
    {
     "name": "stdout",
     "output_type": "stream",
     "text": [
      "[CV]  preprocessor__num__imputer__strategy=median, model__max_iter=10000, model__kernel=linear, model__gamma=0.001, model__degree=3, model__C=100, total=   0.7s\n",
      "[CV] preprocessor__num__imputer__strategy=mean, model__max_iter=1000, model__kernel=linear, model__gamma=0.001, model__degree=2, model__C=100 \n",
      "[CV]  preprocessor__num__imputer__strategy=mean, model__max_iter=1000, model__kernel=linear, model__gamma=0.001, model__degree=2, model__C=100, total=   0.1s\n",
      "[CV] preprocessor__num__imputer__strategy=mean, model__max_iter=1000, model__kernel=linear, model__gamma=0.001, model__degree=2, model__C=100 \n"
     ]
    },
    {
     "name": "stderr",
     "output_type": "stream",
     "text": [
      "C:\\Users\\xavie\\Anaconda3\\lib\\site-packages\\sklearn\\svm\\base.py:241: ConvergenceWarning: Solver terminated early (max_iter=1000).  Consider pre-processing your data with StandardScaler or MinMaxScaler.\n",
      "  % self.max_iter, ConvergenceWarning)\n",
      "C:\\Users\\xavie\\Anaconda3\\lib\\site-packages\\sklearn\\svm\\base.py:241: ConvergenceWarning: Solver terminated early (max_iter=1000).  Consider pre-processing your data with StandardScaler or MinMaxScaler.\n",
      "  % self.max_iter, ConvergenceWarning)\n"
     ]
    },
    {
     "name": "stdout",
     "output_type": "stream",
     "text": [
      "[CV]  preprocessor__num__imputer__strategy=mean, model__max_iter=1000, model__kernel=linear, model__gamma=0.001, model__degree=2, model__C=100, total=   0.1s\n",
      "[CV] preprocessor__num__imputer__strategy=mean, model__max_iter=1000, model__kernel=linear, model__gamma=0.001, model__degree=2, model__C=100 \n",
      "[CV]  preprocessor__num__imputer__strategy=mean, model__max_iter=1000, model__kernel=linear, model__gamma=0.001, model__degree=2, model__C=100, total=   0.1s\n",
      "[CV] preprocessor__num__imputer__strategy=mean, model__max_iter=1000, model__kernel=linear, model__gamma=0.001, model__degree=2, model__C=100 \n"
     ]
    },
    {
     "name": "stderr",
     "output_type": "stream",
     "text": [
      "C:\\Users\\xavie\\Anaconda3\\lib\\site-packages\\sklearn\\svm\\base.py:241: ConvergenceWarning: Solver terminated early (max_iter=1000).  Consider pre-processing your data with StandardScaler or MinMaxScaler.\n",
      "  % self.max_iter, ConvergenceWarning)\n",
      "C:\\Users\\xavie\\Anaconda3\\lib\\site-packages\\sklearn\\svm\\base.py:241: ConvergenceWarning: Solver terminated early (max_iter=1000).  Consider pre-processing your data with StandardScaler or MinMaxScaler.\n",
      "  % self.max_iter, ConvergenceWarning)\n"
     ]
    },
    {
     "name": "stdout",
     "output_type": "stream",
     "text": [
      "[CV]  preprocessor__num__imputer__strategy=mean, model__max_iter=1000, model__kernel=linear, model__gamma=0.001, model__degree=2, model__C=100, total=   0.1s\n",
      "[CV] preprocessor__num__imputer__strategy=mean, model__max_iter=1000, model__kernel=linear, model__gamma=0.001, model__degree=2, model__C=100 \n",
      "[CV]  preprocessor__num__imputer__strategy=mean, model__max_iter=1000, model__kernel=linear, model__gamma=0.001, model__degree=2, model__C=100, total=   0.1s\n",
      "[CV] preprocessor__num__imputer__strategy=median, model__max_iter=1000, model__kernel=linear, model__gamma=0.01, model__degree=3, model__C=0.1 \n"
     ]
    },
    {
     "name": "stderr",
     "output_type": "stream",
     "text": [
      "C:\\Users\\xavie\\Anaconda3\\lib\\site-packages\\sklearn\\svm\\base.py:241: ConvergenceWarning: Solver terminated early (max_iter=1000).  Consider pre-processing your data with StandardScaler or MinMaxScaler.\n",
      "  % self.max_iter, ConvergenceWarning)\n"
     ]
    },
    {
     "name": "stdout",
     "output_type": "stream",
     "text": [
      "[CV]  preprocessor__num__imputer__strategy=median, model__max_iter=1000, model__kernel=linear, model__gamma=0.01, model__degree=3, model__C=0.1, total=   0.3s\n",
      "[CV] preprocessor__num__imputer__strategy=median, model__max_iter=1000, model__kernel=linear, model__gamma=0.01, model__degree=3, model__C=0.1 \n"
     ]
    },
    {
     "name": "stderr",
     "output_type": "stream",
     "text": [
      "C:\\Users\\xavie\\Anaconda3\\lib\\site-packages\\sklearn\\svm\\base.py:241: ConvergenceWarning: Solver terminated early (max_iter=1000).  Consider pre-processing your data with StandardScaler or MinMaxScaler.\n",
      "  % self.max_iter, ConvergenceWarning)\n"
     ]
    },
    {
     "name": "stdout",
     "output_type": "stream",
     "text": [
      "[CV]  preprocessor__num__imputer__strategy=median, model__max_iter=1000, model__kernel=linear, model__gamma=0.01, model__degree=3, model__C=0.1, total=   0.3s\n",
      "[CV] preprocessor__num__imputer__strategy=median, model__max_iter=1000, model__kernel=linear, model__gamma=0.01, model__degree=3, model__C=0.1 \n"
     ]
    },
    {
     "name": "stderr",
     "output_type": "stream",
     "text": [
      "C:\\Users\\xavie\\Anaconda3\\lib\\site-packages\\sklearn\\svm\\base.py:241: ConvergenceWarning: Solver terminated early (max_iter=1000).  Consider pre-processing your data with StandardScaler or MinMaxScaler.\n",
      "  % self.max_iter, ConvergenceWarning)\n"
     ]
    },
    {
     "name": "stdout",
     "output_type": "stream",
     "text": [
      "[CV]  preprocessor__num__imputer__strategy=median, model__max_iter=1000, model__kernel=linear, model__gamma=0.01, model__degree=3, model__C=0.1, total=   0.3s\n",
      "[CV] preprocessor__num__imputer__strategy=median, model__max_iter=1000, model__kernel=linear, model__gamma=0.01, model__degree=3, model__C=0.1 \n"
     ]
    },
    {
     "name": "stderr",
     "output_type": "stream",
     "text": [
      "C:\\Users\\xavie\\Anaconda3\\lib\\site-packages\\sklearn\\svm\\base.py:241: ConvergenceWarning: Solver terminated early (max_iter=1000).  Consider pre-processing your data with StandardScaler or MinMaxScaler.\n",
      "  % self.max_iter, ConvergenceWarning)\n"
     ]
    },
    {
     "name": "stdout",
     "output_type": "stream",
     "text": [
      "[CV]  preprocessor__num__imputer__strategy=median, model__max_iter=1000, model__kernel=linear, model__gamma=0.01, model__degree=3, model__C=0.1, total=   0.3s\n",
      "[CV] preprocessor__num__imputer__strategy=median, model__max_iter=1000, model__kernel=linear, model__gamma=0.01, model__degree=3, model__C=0.1 \n"
     ]
    },
    {
     "name": "stderr",
     "output_type": "stream",
     "text": [
      "C:\\Users\\xavie\\Anaconda3\\lib\\site-packages\\sklearn\\svm\\base.py:241: ConvergenceWarning: Solver terminated early (max_iter=1000).  Consider pre-processing your data with StandardScaler or MinMaxScaler.\n",
      "  % self.max_iter, ConvergenceWarning)\n"
     ]
    },
    {
     "name": "stdout",
     "output_type": "stream",
     "text": [
      "[CV]  preprocessor__num__imputer__strategy=median, model__max_iter=1000, model__kernel=linear, model__gamma=0.01, model__degree=3, model__C=0.1, total=   0.3s\n",
      "[CV] preprocessor__num__imputer__strategy=mean, model__max_iter=10000, model__kernel=rbf, model__gamma=0.01, model__degree=5, model__C=1 \n",
      "[CV]  preprocessor__num__imputer__strategy=mean, model__max_iter=10000, model__kernel=rbf, model__gamma=0.01, model__degree=5, model__C=1, total=   0.6s\n",
      "[CV] preprocessor__num__imputer__strategy=mean, model__max_iter=10000, model__kernel=rbf, model__gamma=0.01, model__degree=5, model__C=1 \n",
      "[CV]  preprocessor__num__imputer__strategy=mean, model__max_iter=10000, model__kernel=rbf, model__gamma=0.01, model__degree=5, model__C=1, total=   0.6s\n",
      "[CV] preprocessor__num__imputer__strategy=mean, model__max_iter=10000, model__kernel=rbf, model__gamma=0.01, model__degree=5, model__C=1 \n",
      "[CV]  preprocessor__num__imputer__strategy=mean, model__max_iter=10000, model__kernel=rbf, model__gamma=0.01, model__degree=5, model__C=1, total=   0.6s\n",
      "[CV] preprocessor__num__imputer__strategy=mean, model__max_iter=10000, model__kernel=rbf, model__gamma=0.01, model__degree=5, model__C=1 \n",
      "[CV]  preprocessor__num__imputer__strategy=mean, model__max_iter=10000, model__kernel=rbf, model__gamma=0.01, model__degree=5, model__C=1, total=   0.6s\n",
      "[CV] preprocessor__num__imputer__strategy=mean, model__max_iter=10000, model__kernel=rbf, model__gamma=0.01, model__degree=5, model__C=1 \n",
      "[CV]  preprocessor__num__imputer__strategy=mean, model__max_iter=10000, model__kernel=rbf, model__gamma=0.01, model__degree=5, model__C=1, total=   0.6s\n",
      "[CV] preprocessor__num__imputer__strategy=mean, model__max_iter=10000, model__kernel=poly, model__gamma=0.001, model__degree=2, model__C=1 \n",
      "[CV]  preprocessor__num__imputer__strategy=mean, model__max_iter=10000, model__kernel=poly, model__gamma=0.001, model__degree=2, model__C=1, total=   0.3s\n",
      "[CV] preprocessor__num__imputer__strategy=mean, model__max_iter=10000, model__kernel=poly, model__gamma=0.001, model__degree=2, model__C=1 \n",
      "[CV]  preprocessor__num__imputer__strategy=mean, model__max_iter=10000, model__kernel=poly, model__gamma=0.001, model__degree=2, model__C=1, total=   0.3s\n",
      "[CV] preprocessor__num__imputer__strategy=mean, model__max_iter=10000, model__kernel=poly, model__gamma=0.001, model__degree=2, model__C=1 \n",
      "[CV]  preprocessor__num__imputer__strategy=mean, model__max_iter=10000, model__kernel=poly, model__gamma=0.001, model__degree=2, model__C=1, total=   0.3s\n",
      "[CV] preprocessor__num__imputer__strategy=mean, model__max_iter=10000, model__kernel=poly, model__gamma=0.001, model__degree=2, model__C=1 \n",
      "[CV]  preprocessor__num__imputer__strategy=mean, model__max_iter=10000, model__kernel=poly, model__gamma=0.001, model__degree=2, model__C=1, total=   0.3s\n",
      "[CV] preprocessor__num__imputer__strategy=mean, model__max_iter=10000, model__kernel=poly, model__gamma=0.001, model__degree=2, model__C=1 \n",
      "[CV]  preprocessor__num__imputer__strategy=mean, model__max_iter=10000, model__kernel=poly, model__gamma=0.001, model__degree=2, model__C=1, total=   0.3s\n",
      "[CV] preprocessor__num__imputer__strategy=median, model__max_iter=10000, model__kernel=linear, model__gamma=0.001, model__degree=2, model__C=0.1 \n",
      "[CV]  preprocessor__num__imputer__strategy=median, model__max_iter=10000, model__kernel=linear, model__gamma=0.001, model__degree=2, model__C=0.1, total=   0.3s\n",
      "[CV] preprocessor__num__imputer__strategy=median, model__max_iter=10000, model__kernel=linear, model__gamma=0.001, model__degree=2, model__C=0.1 \n",
      "[CV]  preprocessor__num__imputer__strategy=median, model__max_iter=10000, model__kernel=linear, model__gamma=0.001, model__degree=2, model__C=0.1, total=   0.3s\n",
      "[CV] preprocessor__num__imputer__strategy=median, model__max_iter=10000, model__kernel=linear, model__gamma=0.001, model__degree=2, model__C=0.1 \n",
      "[CV]  preprocessor__num__imputer__strategy=median, model__max_iter=10000, model__kernel=linear, model__gamma=0.001, model__degree=2, model__C=0.1, total=   0.3s\n",
      "[CV] preprocessor__num__imputer__strategy=median, model__max_iter=10000, model__kernel=linear, model__gamma=0.001, model__degree=2, model__C=0.1 \n",
      "[CV]  preprocessor__num__imputer__strategy=median, model__max_iter=10000, model__kernel=linear, model__gamma=0.001, model__degree=2, model__C=0.1, total=   0.3s\n",
      "[CV] preprocessor__num__imputer__strategy=median, model__max_iter=10000, model__kernel=linear, model__gamma=0.001, model__degree=2, model__C=0.1 \n",
      "[CV]  preprocessor__num__imputer__strategy=median, model__max_iter=10000, model__kernel=linear, model__gamma=0.001, model__degree=2, model__C=0.1, total=   0.4s\n",
      "[CV] preprocessor__num__imputer__strategy=median, model__max_iter=10000, model__kernel=poly, model__gamma=0.1, model__degree=4, model__C=100 \n"
     ]
    },
    {
     "name": "stderr",
     "output_type": "stream",
     "text": [
      "C:\\Users\\xavie\\Anaconda3\\lib\\site-packages\\sklearn\\svm\\base.py:241: ConvergenceWarning: Solver terminated early (max_iter=10000).  Consider pre-processing your data with StandardScaler or MinMaxScaler.\n",
      "  % self.max_iter, ConvergenceWarning)\n"
     ]
    },
    {
     "name": "stdout",
     "output_type": "stream",
     "text": [
      "[CV]  preprocessor__num__imputer__strategy=median, model__max_iter=10000, model__kernel=poly, model__gamma=0.1, model__degree=4, model__C=100, total=   0.8s\n",
      "[CV] preprocessor__num__imputer__strategy=median, model__max_iter=10000, model__kernel=poly, model__gamma=0.1, model__degree=4, model__C=100 \n"
     ]
    },
    {
     "name": "stderr",
     "output_type": "stream",
     "text": [
      "C:\\Users\\xavie\\Anaconda3\\lib\\site-packages\\sklearn\\svm\\base.py:241: ConvergenceWarning: Solver terminated early (max_iter=10000).  Consider pre-processing your data with StandardScaler or MinMaxScaler.\n",
      "  % self.max_iter, ConvergenceWarning)\n"
     ]
    },
    {
     "name": "stdout",
     "output_type": "stream",
     "text": [
      "[CV]  preprocessor__num__imputer__strategy=median, model__max_iter=10000, model__kernel=poly, model__gamma=0.1, model__degree=4, model__C=100, total=   0.9s\n",
      "[CV] preprocessor__num__imputer__strategy=median, model__max_iter=10000, model__kernel=poly, model__gamma=0.1, model__degree=4, model__C=100 \n"
     ]
    },
    {
     "name": "stderr",
     "output_type": "stream",
     "text": [
      "C:\\Users\\xavie\\Anaconda3\\lib\\site-packages\\sklearn\\svm\\base.py:241: ConvergenceWarning: Solver terminated early (max_iter=10000).  Consider pre-processing your data with StandardScaler or MinMaxScaler.\n",
      "  % self.max_iter, ConvergenceWarning)\n"
     ]
    },
    {
     "name": "stdout",
     "output_type": "stream",
     "text": [
      "[CV]  preprocessor__num__imputer__strategy=median, model__max_iter=10000, model__kernel=poly, model__gamma=0.1, model__degree=4, model__C=100, total=   0.8s\n",
      "[CV] preprocessor__num__imputer__strategy=median, model__max_iter=10000, model__kernel=poly, model__gamma=0.1, model__degree=4, model__C=100 \n"
     ]
    },
    {
     "name": "stderr",
     "output_type": "stream",
     "text": [
      "C:\\Users\\xavie\\Anaconda3\\lib\\site-packages\\sklearn\\svm\\base.py:241: ConvergenceWarning: Solver terminated early (max_iter=10000).  Consider pre-processing your data with StandardScaler or MinMaxScaler.\n",
      "  % self.max_iter, ConvergenceWarning)\n"
     ]
    },
    {
     "name": "stdout",
     "output_type": "stream",
     "text": [
      "[CV]  preprocessor__num__imputer__strategy=median, model__max_iter=10000, model__kernel=poly, model__gamma=0.1, model__degree=4, model__C=100, total=   0.8s\n",
      "[CV] preprocessor__num__imputer__strategy=median, model__max_iter=10000, model__kernel=poly, model__gamma=0.1, model__degree=4, model__C=100 \n"
     ]
    },
    {
     "name": "stderr",
     "output_type": "stream",
     "text": [
      "C:\\Users\\xavie\\Anaconda3\\lib\\site-packages\\sklearn\\svm\\base.py:241: ConvergenceWarning: Solver terminated early (max_iter=10000).  Consider pre-processing your data with StandardScaler or MinMaxScaler.\n",
      "  % self.max_iter, ConvergenceWarning)\n",
      "[Parallel(n_jobs=1)]: Done  50 out of  50 | elapsed:   27.4s finished\n"
     ]
    },
    {
     "name": "stdout",
     "output_type": "stream",
     "text": [
      "[CV]  preprocessor__num__imputer__strategy=median, model__max_iter=10000, model__kernel=poly, model__gamma=0.1, model__degree=4, model__C=100, total=   0.8s\n"
     ]
    },
    {
     "name": "stderr",
     "output_type": "stream",
     "text": [
      "C:\\Users\\xavie\\Anaconda3\\lib\\site-packages\\sklearn\\svm\\base.py:241: ConvergenceWarning: Solver terminated early (max_iter=1000).  Consider pre-processing your data with StandardScaler or MinMaxScaler.\n",
      "  % self.max_iter, ConvergenceWarning)\n"
     ]
    },
    {
     "data": {
      "text/plain": [
       "RandomizedSearchCV(cv=5, error_score='raise-deprecating',\n",
       "                   estimator=Pipeline(memory=None,\n",
       "                                      steps=[('preprocessor',\n",
       "                                              ColumnTransformer(n_jobs=None,\n",
       "                                                                remainder='drop',\n",
       "                                                                sparse_threshold=0.3,\n",
       "                                                                transformer_weights=None,\n",
       "                                                                transformers=[('cat',\n",
       "                                                                               Pipeline(memory=None,\n",
       "                                                                                        steps=[('imputer',\n",
       "                                                                                                SimpleImputer(add_indicator=False,\n",
       "                                                                                                              copy=True,\n",
       "                                                                                                              fill_value='missing',\n",
       "                                                                                                              missing_values=nan,\n",
       "                                                                                                              str...\n",
       "                   iid='warn', n_iter=10, n_jobs=None,\n",
       "                   param_distributions={'model__C': [0.1, 1, 10, 50, 100],\n",
       "                                        'model__degree': [1, 2, 3, 4, 5],\n",
       "                                        'model__gamma': [1, 0.1, 0.01, 0.001],\n",
       "                                        'model__kernel': ['linear', 'poly',\n",
       "                                                          'rbf'],\n",
       "                                        'model__max_iter': [1000, 10000],\n",
       "                                        'preprocessor__num__imputer__strategy': ['mean',\n",
       "                                                                                 'median']},\n",
       "                   pre_dispatch='2*n_jobs', random_state=42, refit=True,\n",
       "                   return_train_score=False, scoring=None, verbose=2)"
      ]
     },
     "execution_count": 20,
     "metadata": {},
     "output_type": "execute_result"
    }
   ],
   "source": [
    "# Randomized Search CV before Grid Search CV\n",
    "from sklearn.model_selection import RandomizedSearchCV\n",
    "\n",
    "# Set up parameter grid\n",
    "rs_pipe_grid = {\n",
    "    'preprocessor__num__imputer__strategy': ['mean', 'median'],\n",
    "    'model__max_iter': [1000, 10000],\n",
    "    'model__kernel': ['linear', 'poly', 'rbf'],\n",
    "    'model__gamma': [1, 0.1, 0.01, 0.001],\n",
    "    'model__C': [0.1, 1, 10, 50, 100],\n",
    "    'model__degree': [1, 2, 3, 4 , 5]\n",
    "}\n",
    "\n",
    "# Instantiate SVM\n",
    "rs_svc = RandomizedSearchCV(estimator = model, \n",
    "                            param_distributions = rs_pipe_grid,\n",
    "                            n_iter = 10, \n",
    "                            cv = 5,\n",
    "                            verbose = 2,\n",
    "                            random_state = 42,\n",
    "                            refit = True)\n",
    "rs_svc.fit(X_train, y_train)"
   ]
  },
  {
   "cell_type": "code",
   "execution_count": 22,
   "metadata": {},
   "outputs": [
    {
     "data": {
      "text/plain": [
       "{'preprocessor__num__imputer__strategy': 'median',\n",
       " 'model__max_iter': 1000,\n",
       " 'model__kernel': 'linear',\n",
       " 'model__gamma': 0.01,\n",
       " 'model__degree': 3,\n",
       " 'model__C': 0.1}"
      ]
     },
     "execution_count": 22,
     "metadata": {},
     "output_type": "execute_result"
    }
   ],
   "source": [
    "rs_svc.best_params_"
   ]
  },
  {
   "cell_type": "code",
   "execution_count": 23,
   "metadata": {},
   "outputs": [
    {
     "name": "stdout",
     "output_type": "stream",
     "text": [
      "Acc: 68.02%\n",
      "Precision: 0.68\n",
      "Recall: 0.97\n",
      "F1 score: 0.80\n"
     ]
    }
   ],
   "source": [
    "# Evaluate Randomized Search model\n",
    "rs_y_preds = rs_svc.predict(X_test)\n",
    "\n",
    "# Evaluate the classifier on validation set\n",
    "rs_metrics = evaluate_preds(y_test, rs_y_preds)"
   ]
  },
  {
   "cell_type": "code",
   "execution_count": 24,
   "metadata": {},
   "outputs": [
    {
     "name": "stdout",
     "output_type": "stream",
     "text": [
      "Fitting 5 folds for each of 108 candidates, totalling 540 fits\n",
      "[CV] model__C=0.1, model__degree=3, model__gamma=auto, model__kernel=linear, preprocessor__num__imputer__strategy=mean \n"
     ]
    },
    {
     "name": "stderr",
     "output_type": "stream",
     "text": [
      "[Parallel(n_jobs=1)]: Using backend SequentialBackend with 1 concurrent workers.\n"
     ]
    },
    {
     "name": "stdout",
     "output_type": "stream",
     "text": [
      "[CV]  model__C=0.1, model__degree=3, model__gamma=auto, model__kernel=linear, preprocessor__num__imputer__strategy=mean, total=   0.4s\n",
      "[CV] model__C=0.1, model__degree=3, model__gamma=auto, model__kernel=linear, preprocessor__num__imputer__strategy=mean \n"
     ]
    },
    {
     "name": "stderr",
     "output_type": "stream",
     "text": [
      "[Parallel(n_jobs=1)]: Done   1 out of   1 | elapsed:    0.3s remaining:    0.0s\n"
     ]
    },
    {
     "name": "stdout",
     "output_type": "stream",
     "text": [
      "[CV]  model__C=0.1, model__degree=3, model__gamma=auto, model__kernel=linear, preprocessor__num__imputer__strategy=mean, total=   0.4s\n",
      "[CV] model__C=0.1, model__degree=3, model__gamma=auto, model__kernel=linear, preprocessor__num__imputer__strategy=mean \n",
      "[CV]  model__C=0.1, model__degree=3, model__gamma=auto, model__kernel=linear, preprocessor__num__imputer__strategy=mean, total=   0.3s\n",
      "[CV] model__C=0.1, model__degree=3, model__gamma=auto, model__kernel=linear, preprocessor__num__imputer__strategy=mean \n",
      "[CV]  model__C=0.1, model__degree=3, model__gamma=auto, model__kernel=linear, preprocessor__num__imputer__strategy=mean, total=   0.4s\n",
      "[CV] model__C=0.1, model__degree=3, model__gamma=auto, model__kernel=linear, preprocessor__num__imputer__strategy=mean \n",
      "[CV]  model__C=0.1, model__degree=3, model__gamma=auto, model__kernel=linear, preprocessor__num__imputer__strategy=mean, total=   0.4s\n",
      "[CV] model__C=0.1, model__degree=3, model__gamma=auto, model__kernel=linear, preprocessor__num__imputer__strategy=median \n",
      "[CV]  model__C=0.1, model__degree=3, model__gamma=auto, model__kernel=linear, preprocessor__num__imputer__strategy=median, total=   0.3s\n",
      "[CV] model__C=0.1, model__degree=3, model__gamma=auto, model__kernel=linear, preprocessor__num__imputer__strategy=median \n",
      "[CV]  model__C=0.1, model__degree=3, model__gamma=auto, model__kernel=linear, preprocessor__num__imputer__strategy=median, total=   0.4s\n",
      "[CV] model__C=0.1, model__degree=3, model__gamma=auto, model__kernel=linear, preprocessor__num__imputer__strategy=median \n",
      "[CV]  model__C=0.1, model__degree=3, model__gamma=auto, model__kernel=linear, preprocessor__num__imputer__strategy=median, total=   0.3s\n",
      "[CV] model__C=0.1, model__degree=3, model__gamma=auto, model__kernel=linear, preprocessor__num__imputer__strategy=median \n",
      "[CV]  model__C=0.1, model__degree=3, model__gamma=auto, model__kernel=linear, preprocessor__num__imputer__strategy=median, total=   0.4s\n",
      "[CV] model__C=0.1, model__degree=3, model__gamma=auto, model__kernel=linear, preprocessor__num__imputer__strategy=median \n",
      "[CV]  model__C=0.1, model__degree=3, model__gamma=auto, model__kernel=linear, preprocessor__num__imputer__strategy=median, total=   0.4s\n",
      "[CV] model__C=0.1, model__degree=3, model__gamma=auto, model__kernel=rbf, preprocessor__num__imputer__strategy=mean \n",
      "[CV]  model__C=0.1, model__degree=3, model__gamma=auto, model__kernel=rbf, preprocessor__num__imputer__strategy=mean, total=   0.7s\n",
      "[CV] model__C=0.1, model__degree=3, model__gamma=auto, model__kernel=rbf, preprocessor__num__imputer__strategy=mean \n",
      "[CV]  model__C=0.1, model__degree=3, model__gamma=auto, model__kernel=rbf, preprocessor__num__imputer__strategy=mean, total=   0.7s\n",
      "[CV] model__C=0.1, model__degree=3, model__gamma=auto, model__kernel=rbf, preprocessor__num__imputer__strategy=mean \n",
      "[CV]  model__C=0.1, model__degree=3, model__gamma=auto, model__kernel=rbf, preprocessor__num__imputer__strategy=mean, total=   0.8s\n",
      "[CV] model__C=0.1, model__degree=3, model__gamma=auto, model__kernel=rbf, preprocessor__num__imputer__strategy=mean \n",
      "[CV]  model__C=0.1, model__degree=3, model__gamma=auto, model__kernel=rbf, preprocessor__num__imputer__strategy=mean, total=   1.0s\n",
      "[CV] model__C=0.1, model__degree=3, model__gamma=auto, model__kernel=rbf, preprocessor__num__imputer__strategy=mean \n",
      "[CV]  model__C=0.1, model__degree=3, model__gamma=auto, model__kernel=rbf, preprocessor__num__imputer__strategy=mean, total=   0.9s\n",
      "[CV] model__C=0.1, model__degree=3, model__gamma=auto, model__kernel=rbf, preprocessor__num__imputer__strategy=median \n",
      "[CV]  model__C=0.1, model__degree=3, model__gamma=auto, model__kernel=rbf, preprocessor__num__imputer__strategy=median, total=   0.8s\n",
      "[CV] model__C=0.1, model__degree=3, model__gamma=auto, model__kernel=rbf, preprocessor__num__imputer__strategy=median \n",
      "[CV]  model__C=0.1, model__degree=3, model__gamma=auto, model__kernel=rbf, preprocessor__num__imputer__strategy=median, total=   0.8s\n",
      "[CV] model__C=0.1, model__degree=3, model__gamma=auto, model__kernel=rbf, preprocessor__num__imputer__strategy=median \n",
      "[CV]  model__C=0.1, model__degree=3, model__gamma=auto, model__kernel=rbf, preprocessor__num__imputer__strategy=median, total=   0.8s\n",
      "[CV] model__C=0.1, model__degree=3, model__gamma=auto, model__kernel=rbf, preprocessor__num__imputer__strategy=median \n",
      "[CV]  model__C=0.1, model__degree=3, model__gamma=auto, model__kernel=rbf, preprocessor__num__imputer__strategy=median, total=   0.7s\n",
      "[CV] model__C=0.1, model__degree=3, model__gamma=auto, model__kernel=rbf, preprocessor__num__imputer__strategy=median \n",
      "[CV]  model__C=0.1, model__degree=3, model__gamma=auto, model__kernel=rbf, preprocessor__num__imputer__strategy=median, total=   0.7s\n",
      "[CV] model__C=0.1, model__degree=3, model__gamma=scale, model__kernel=linear, preprocessor__num__imputer__strategy=mean \n",
      "[CV]  model__C=0.1, model__degree=3, model__gamma=scale, model__kernel=linear, preprocessor__num__imputer__strategy=mean, total=   0.4s\n",
      "[CV] model__C=0.1, model__degree=3, model__gamma=scale, model__kernel=linear, preprocessor__num__imputer__strategy=mean \n",
      "[CV]  model__C=0.1, model__degree=3, model__gamma=scale, model__kernel=linear, preprocessor__num__imputer__strategy=mean, total=   0.5s\n",
      "[CV] model__C=0.1, model__degree=3, model__gamma=scale, model__kernel=linear, preprocessor__num__imputer__strategy=mean \n",
      "[CV]  model__C=0.1, model__degree=3, model__gamma=scale, model__kernel=linear, preprocessor__num__imputer__strategy=mean, total=   0.4s\n",
      "[CV] model__C=0.1, model__degree=3, model__gamma=scale, model__kernel=linear, preprocessor__num__imputer__strategy=mean \n",
      "[CV]  model__C=0.1, model__degree=3, model__gamma=scale, model__kernel=linear, preprocessor__num__imputer__strategy=mean, total=   0.4s\n",
      "[CV] model__C=0.1, model__degree=3, model__gamma=scale, model__kernel=linear, preprocessor__num__imputer__strategy=mean \n",
      "[CV]  model__C=0.1, model__degree=3, model__gamma=scale, model__kernel=linear, preprocessor__num__imputer__strategy=mean, total=   0.4s\n",
      "[CV] model__C=0.1, model__degree=3, model__gamma=scale, model__kernel=linear, preprocessor__num__imputer__strategy=median \n",
      "[CV]  model__C=0.1, model__degree=3, model__gamma=scale, model__kernel=linear, preprocessor__num__imputer__strategy=median, total=   0.4s\n",
      "[CV] model__C=0.1, model__degree=3, model__gamma=scale, model__kernel=linear, preprocessor__num__imputer__strategy=median \n",
      "[CV]  model__C=0.1, model__degree=3, model__gamma=scale, model__kernel=linear, preprocessor__num__imputer__strategy=median, total=   0.4s\n",
      "[CV] model__C=0.1, model__degree=3, model__gamma=scale, model__kernel=linear, preprocessor__num__imputer__strategy=median \n",
      "[CV]  model__C=0.1, model__degree=3, model__gamma=scale, model__kernel=linear, preprocessor__num__imputer__strategy=median, total=   0.4s\n",
      "[CV] model__C=0.1, model__degree=3, model__gamma=scale, model__kernel=linear, preprocessor__num__imputer__strategy=median \n",
      "[CV]  model__C=0.1, model__degree=3, model__gamma=scale, model__kernel=linear, preprocessor__num__imputer__strategy=median, total=   0.3s\n",
      "[CV] model__C=0.1, model__degree=3, model__gamma=scale, model__kernel=linear, preprocessor__num__imputer__strategy=median \n",
      "[CV]  model__C=0.1, model__degree=3, model__gamma=scale, model__kernel=linear, preprocessor__num__imputer__strategy=median, total=   0.5s\n",
      "[CV] model__C=0.1, model__degree=3, model__gamma=scale, model__kernel=rbf, preprocessor__num__imputer__strategy=mean \n",
      "[CV]  model__C=0.1, model__degree=3, model__gamma=scale, model__kernel=rbf, preprocessor__num__imputer__strategy=mean, total=   0.7s\n",
      "[CV] model__C=0.1, model__degree=3, model__gamma=scale, model__kernel=rbf, preprocessor__num__imputer__strategy=mean \n",
      "[CV]  model__C=0.1, model__degree=3, model__gamma=scale, model__kernel=rbf, preprocessor__num__imputer__strategy=mean, total=   0.9s\n",
      "[CV] model__C=0.1, model__degree=3, model__gamma=scale, model__kernel=rbf, preprocessor__num__imputer__strategy=mean \n",
      "[CV]  model__C=0.1, model__degree=3, model__gamma=scale, model__kernel=rbf, preprocessor__num__imputer__strategy=mean, total=   0.8s\n",
      "[CV] model__C=0.1, model__degree=3, model__gamma=scale, model__kernel=rbf, preprocessor__num__imputer__strategy=mean \n",
      "[CV]  model__C=0.1, model__degree=3, model__gamma=scale, model__kernel=rbf, preprocessor__num__imputer__strategy=mean, total=   0.9s\n",
      "[CV] model__C=0.1, model__degree=3, model__gamma=scale, model__kernel=rbf, preprocessor__num__imputer__strategy=mean \n"
     ]
    },
    {
     "name": "stdout",
     "output_type": "stream",
     "text": [
      "[CV]  model__C=0.1, model__degree=3, model__gamma=scale, model__kernel=rbf, preprocessor__num__imputer__strategy=mean, total=   0.8s\n",
      "[CV] model__C=0.1, model__degree=3, model__gamma=scale, model__kernel=rbf, preprocessor__num__imputer__strategy=median \n",
      "[CV]  model__C=0.1, model__degree=3, model__gamma=scale, model__kernel=rbf, preprocessor__num__imputer__strategy=median, total=   0.8s\n",
      "[CV] model__C=0.1, model__degree=3, model__gamma=scale, model__kernel=rbf, preprocessor__num__imputer__strategy=median \n",
      "[CV]  model__C=0.1, model__degree=3, model__gamma=scale, model__kernel=rbf, preprocessor__num__imputer__strategy=median, total=   0.7s\n",
      "[CV] model__C=0.1, model__degree=3, model__gamma=scale, model__kernel=rbf, preprocessor__num__imputer__strategy=median \n",
      "[CV]  model__C=0.1, model__degree=3, model__gamma=scale, model__kernel=rbf, preprocessor__num__imputer__strategy=median, total=   0.7s\n",
      "[CV] model__C=0.1, model__degree=3, model__gamma=scale, model__kernel=rbf, preprocessor__num__imputer__strategy=median \n",
      "[CV]  model__C=0.1, model__degree=3, model__gamma=scale, model__kernel=rbf, preprocessor__num__imputer__strategy=median, total=   0.8s\n",
      "[CV] model__C=0.1, model__degree=3, model__gamma=scale, model__kernel=rbf, preprocessor__num__imputer__strategy=median \n",
      "[CV]  model__C=0.1, model__degree=3, model__gamma=scale, model__kernel=rbf, preprocessor__num__imputer__strategy=median, total=   0.9s\n",
      "[CV] model__C=0.1, model__degree=3, model__gamma=0.01, model__kernel=linear, preprocessor__num__imputer__strategy=mean \n",
      "[CV]  model__C=0.1, model__degree=3, model__gamma=0.01, model__kernel=linear, preprocessor__num__imputer__strategy=mean, total=   0.6s\n",
      "[CV] model__C=0.1, model__degree=3, model__gamma=0.01, model__kernel=linear, preprocessor__num__imputer__strategy=mean \n",
      "[CV]  model__C=0.1, model__degree=3, model__gamma=0.01, model__kernel=linear, preprocessor__num__imputer__strategy=mean, total=   0.4s\n",
      "[CV] model__C=0.1, model__degree=3, model__gamma=0.01, model__kernel=linear, preprocessor__num__imputer__strategy=mean \n",
      "[CV]  model__C=0.1, model__degree=3, model__gamma=0.01, model__kernel=linear, preprocessor__num__imputer__strategy=mean, total=   0.4s\n",
      "[CV] model__C=0.1, model__degree=3, model__gamma=0.01, model__kernel=linear, preprocessor__num__imputer__strategy=mean \n",
      "[CV]  model__C=0.1, model__degree=3, model__gamma=0.01, model__kernel=linear, preprocessor__num__imputer__strategy=mean, total=   0.4s\n",
      "[CV] model__C=0.1, model__degree=3, model__gamma=0.01, model__kernel=linear, preprocessor__num__imputer__strategy=mean \n",
      "[CV]  model__C=0.1, model__degree=3, model__gamma=0.01, model__kernel=linear, preprocessor__num__imputer__strategy=mean, total=   0.4s\n",
      "[CV] model__C=0.1, model__degree=3, model__gamma=0.01, model__kernel=linear, preprocessor__num__imputer__strategy=median \n",
      "[CV]  model__C=0.1, model__degree=3, model__gamma=0.01, model__kernel=linear, preprocessor__num__imputer__strategy=median, total=   0.4s\n",
      "[CV] model__C=0.1, model__degree=3, model__gamma=0.01, model__kernel=linear, preprocessor__num__imputer__strategy=median \n",
      "[CV]  model__C=0.1, model__degree=3, model__gamma=0.01, model__kernel=linear, preprocessor__num__imputer__strategy=median, total=   0.4s\n",
      "[CV] model__C=0.1, model__degree=3, model__gamma=0.01, model__kernel=linear, preprocessor__num__imputer__strategy=median \n",
      "[CV]  model__C=0.1, model__degree=3, model__gamma=0.01, model__kernel=linear, preprocessor__num__imputer__strategy=median, total=   0.5s\n",
      "[CV] model__C=0.1, model__degree=3, model__gamma=0.01, model__kernel=linear, preprocessor__num__imputer__strategy=median \n",
      "[CV]  model__C=0.1, model__degree=3, model__gamma=0.01, model__kernel=linear, preprocessor__num__imputer__strategy=median, total=   0.6s\n",
      "[CV] model__C=0.1, model__degree=3, model__gamma=0.01, model__kernel=linear, preprocessor__num__imputer__strategy=median \n",
      "[CV]  model__C=0.1, model__degree=3, model__gamma=0.01, model__kernel=linear, preprocessor__num__imputer__strategy=median, total=   0.5s\n",
      "[CV] model__C=0.1, model__degree=3, model__gamma=0.01, model__kernel=rbf, preprocessor__num__imputer__strategy=mean \n",
      "[CV]  model__C=0.1, model__degree=3, model__gamma=0.01, model__kernel=rbf, preprocessor__num__imputer__strategy=mean, total=   0.8s\n",
      "[CV] model__C=0.1, model__degree=3, model__gamma=0.01, model__kernel=rbf, preprocessor__num__imputer__strategy=mean \n",
      "[CV]  model__C=0.1, model__degree=3, model__gamma=0.01, model__kernel=rbf, preprocessor__num__imputer__strategy=mean, total=   0.7s\n",
      "[CV] model__C=0.1, model__degree=3, model__gamma=0.01, model__kernel=rbf, preprocessor__num__imputer__strategy=mean \n",
      "[CV]  model__C=0.1, model__degree=3, model__gamma=0.01, model__kernel=rbf, preprocessor__num__imputer__strategy=mean, total=   0.6s\n",
      "[CV] model__C=0.1, model__degree=3, model__gamma=0.01, model__kernel=rbf, preprocessor__num__imputer__strategy=mean \n",
      "[CV]  model__C=0.1, model__degree=3, model__gamma=0.01, model__kernel=rbf, preprocessor__num__imputer__strategy=mean, total=   0.6s\n",
      "[CV] model__C=0.1, model__degree=3, model__gamma=0.01, model__kernel=rbf, preprocessor__num__imputer__strategy=mean \n",
      "[CV]  model__C=0.1, model__degree=3, model__gamma=0.01, model__kernel=rbf, preprocessor__num__imputer__strategy=mean, total=   0.6s\n",
      "[CV] model__C=0.1, model__degree=3, model__gamma=0.01, model__kernel=rbf, preprocessor__num__imputer__strategy=median \n",
      "[CV]  model__C=0.1, model__degree=3, model__gamma=0.01, model__kernel=rbf, preprocessor__num__imputer__strategy=median, total=   0.5s\n",
      "[CV] model__C=0.1, model__degree=3, model__gamma=0.01, model__kernel=rbf, preprocessor__num__imputer__strategy=median \n",
      "[CV]  model__C=0.1, model__degree=3, model__gamma=0.01, model__kernel=rbf, preprocessor__num__imputer__strategy=median, total=   0.5s\n",
      "[CV] model__C=0.1, model__degree=3, model__gamma=0.01, model__kernel=rbf, preprocessor__num__imputer__strategy=median \n",
      "[CV]  model__C=0.1, model__degree=3, model__gamma=0.01, model__kernel=rbf, preprocessor__num__imputer__strategy=median, total=   0.5s\n",
      "[CV] model__C=0.1, model__degree=3, model__gamma=0.01, model__kernel=rbf, preprocessor__num__imputer__strategy=median \n",
      "[CV]  model__C=0.1, model__degree=3, model__gamma=0.01, model__kernel=rbf, preprocessor__num__imputer__strategy=median, total=   0.5s\n",
      "[CV] model__C=0.1, model__degree=3, model__gamma=0.01, model__kernel=rbf, preprocessor__num__imputer__strategy=median \n",
      "[CV]  model__C=0.1, model__degree=3, model__gamma=0.01, model__kernel=rbf, preprocessor__num__imputer__strategy=median, total=   0.5s\n",
      "[CV] model__C=0.1, model__degree=4, model__gamma=auto, model__kernel=linear, preprocessor__num__imputer__strategy=mean \n",
      "[CV]  model__C=0.1, model__degree=4, model__gamma=auto, model__kernel=linear, preprocessor__num__imputer__strategy=mean, total=   0.3s\n",
      "[CV] model__C=0.1, model__degree=4, model__gamma=auto, model__kernel=linear, preprocessor__num__imputer__strategy=mean \n",
      "[CV]  model__C=0.1, model__degree=4, model__gamma=auto, model__kernel=linear, preprocessor__num__imputer__strategy=mean, total=   0.3s\n",
      "[CV] model__C=0.1, model__degree=4, model__gamma=auto, model__kernel=linear, preprocessor__num__imputer__strategy=mean \n",
      "[CV]  model__C=0.1, model__degree=4, model__gamma=auto, model__kernel=linear, preprocessor__num__imputer__strategy=mean, total=   0.3s\n",
      "[CV] model__C=0.1, model__degree=4, model__gamma=auto, model__kernel=linear, preprocessor__num__imputer__strategy=mean \n",
      "[CV]  model__C=0.1, model__degree=4, model__gamma=auto, model__kernel=linear, preprocessor__num__imputer__strategy=mean, total=   0.3s\n",
      "[CV] model__C=0.1, model__degree=4, model__gamma=auto, model__kernel=linear, preprocessor__num__imputer__strategy=mean \n",
      "[CV]  model__C=0.1, model__degree=4, model__gamma=auto, model__kernel=linear, preprocessor__num__imputer__strategy=mean, total=   0.3s\n",
      "[CV] model__C=0.1, model__degree=4, model__gamma=auto, model__kernel=linear, preprocessor__num__imputer__strategy=median \n",
      "[CV]  model__C=0.1, model__degree=4, model__gamma=auto, model__kernel=linear, preprocessor__num__imputer__strategy=median, total=   0.4s\n",
      "[CV] model__C=0.1, model__degree=4, model__gamma=auto, model__kernel=linear, preprocessor__num__imputer__strategy=median \n",
      "[CV]  model__C=0.1, model__degree=4, model__gamma=auto, model__kernel=linear, preprocessor__num__imputer__strategy=median, total=   0.3s\n",
      "[CV] model__C=0.1, model__degree=4, model__gamma=auto, model__kernel=linear, preprocessor__num__imputer__strategy=median \n"
     ]
    },
    {
     "name": "stdout",
     "output_type": "stream",
     "text": [
      "[CV]  model__C=0.1, model__degree=4, model__gamma=auto, model__kernel=linear, preprocessor__num__imputer__strategy=median, total=   0.3s\n",
      "[CV] model__C=0.1, model__degree=4, model__gamma=auto, model__kernel=linear, preprocessor__num__imputer__strategy=median \n",
      "[CV]  model__C=0.1, model__degree=4, model__gamma=auto, model__kernel=linear, preprocessor__num__imputer__strategy=median, total=   0.3s\n",
      "[CV] model__C=0.1, model__degree=4, model__gamma=auto, model__kernel=linear, preprocessor__num__imputer__strategy=median \n",
      "[CV]  model__C=0.1, model__degree=4, model__gamma=auto, model__kernel=linear, preprocessor__num__imputer__strategy=median, total=   0.4s\n",
      "[CV] model__C=0.1, model__degree=4, model__gamma=auto, model__kernel=rbf, preprocessor__num__imputer__strategy=mean \n",
      "[CV]  model__C=0.1, model__degree=4, model__gamma=auto, model__kernel=rbf, preprocessor__num__imputer__strategy=mean, total=   0.6s\n",
      "[CV] model__C=0.1, model__degree=4, model__gamma=auto, model__kernel=rbf, preprocessor__num__imputer__strategy=mean \n",
      "[CV]  model__C=0.1, model__degree=4, model__gamma=auto, model__kernel=rbf, preprocessor__num__imputer__strategy=mean, total=   0.6s\n",
      "[CV] model__C=0.1, model__degree=4, model__gamma=auto, model__kernel=rbf, preprocessor__num__imputer__strategy=mean \n",
      "[CV]  model__C=0.1, model__degree=4, model__gamma=auto, model__kernel=rbf, preprocessor__num__imputer__strategy=mean, total=   0.7s\n",
      "[CV] model__C=0.1, model__degree=4, model__gamma=auto, model__kernel=rbf, preprocessor__num__imputer__strategy=mean \n",
      "[CV]  model__C=0.1, model__degree=4, model__gamma=auto, model__kernel=rbf, preprocessor__num__imputer__strategy=mean, total=   0.8s\n",
      "[CV] model__C=0.1, model__degree=4, model__gamma=auto, model__kernel=rbf, preprocessor__num__imputer__strategy=mean \n",
      "[CV]  model__C=0.1, model__degree=4, model__gamma=auto, model__kernel=rbf, preprocessor__num__imputer__strategy=mean, total=   0.8s\n",
      "[CV] model__C=0.1, model__degree=4, model__gamma=auto, model__kernel=rbf, preprocessor__num__imputer__strategy=median \n",
      "[CV]  model__C=0.1, model__degree=4, model__gamma=auto, model__kernel=rbf, preprocessor__num__imputer__strategy=median, total=   0.6s\n",
      "[CV] model__C=0.1, model__degree=4, model__gamma=auto, model__kernel=rbf, preprocessor__num__imputer__strategy=median \n",
      "[CV]  model__C=0.1, model__degree=4, model__gamma=auto, model__kernel=rbf, preprocessor__num__imputer__strategy=median, total=   0.6s\n",
      "[CV] model__C=0.1, model__degree=4, model__gamma=auto, model__kernel=rbf, preprocessor__num__imputer__strategy=median \n",
      "[CV]  model__C=0.1, model__degree=4, model__gamma=auto, model__kernel=rbf, preprocessor__num__imputer__strategy=median, total=   0.6s\n",
      "[CV] model__C=0.1, model__degree=4, model__gamma=auto, model__kernel=rbf, preprocessor__num__imputer__strategy=median \n",
      "[CV]  model__C=0.1, model__degree=4, model__gamma=auto, model__kernel=rbf, preprocessor__num__imputer__strategy=median, total=   0.6s\n",
      "[CV] model__C=0.1, model__degree=4, model__gamma=auto, model__kernel=rbf, preprocessor__num__imputer__strategy=median \n",
      "[CV]  model__C=0.1, model__degree=4, model__gamma=auto, model__kernel=rbf, preprocessor__num__imputer__strategy=median, total=   0.6s\n",
      "[CV] model__C=0.1, model__degree=4, model__gamma=scale, model__kernel=linear, preprocessor__num__imputer__strategy=mean \n",
      "[CV]  model__C=0.1, model__degree=4, model__gamma=scale, model__kernel=linear, preprocessor__num__imputer__strategy=mean, total=   0.3s\n",
      "[CV] model__C=0.1, model__degree=4, model__gamma=scale, model__kernel=linear, preprocessor__num__imputer__strategy=mean \n",
      "[CV]  model__C=0.1, model__degree=4, model__gamma=scale, model__kernel=linear, preprocessor__num__imputer__strategy=mean, total=   0.3s\n",
      "[CV] model__C=0.1, model__degree=4, model__gamma=scale, model__kernel=linear, preprocessor__num__imputer__strategy=mean \n",
      "[CV]  model__C=0.1, model__degree=4, model__gamma=scale, model__kernel=linear, preprocessor__num__imputer__strategy=mean, total=   0.3s\n",
      "[CV] model__C=0.1, model__degree=4, model__gamma=scale, model__kernel=linear, preprocessor__num__imputer__strategy=mean \n",
      "[CV]  model__C=0.1, model__degree=4, model__gamma=scale, model__kernel=linear, preprocessor__num__imputer__strategy=mean, total=   0.3s\n",
      "[CV] model__C=0.1, model__degree=4, model__gamma=scale, model__kernel=linear, preprocessor__num__imputer__strategy=mean \n",
      "[CV]  model__C=0.1, model__degree=4, model__gamma=scale, model__kernel=linear, preprocessor__num__imputer__strategy=mean, total=   0.3s\n",
      "[CV] model__C=0.1, model__degree=4, model__gamma=scale, model__kernel=linear, preprocessor__num__imputer__strategy=median \n",
      "[CV]  model__C=0.1, model__degree=4, model__gamma=scale, model__kernel=linear, preprocessor__num__imputer__strategy=median, total=   0.3s\n",
      "[CV] model__C=0.1, model__degree=4, model__gamma=scale, model__kernel=linear, preprocessor__num__imputer__strategy=median \n",
      "[CV]  model__C=0.1, model__degree=4, model__gamma=scale, model__kernel=linear, preprocessor__num__imputer__strategy=median, total=   0.4s\n",
      "[CV] model__C=0.1, model__degree=4, model__gamma=scale, model__kernel=linear, preprocessor__num__imputer__strategy=median \n",
      "[CV]  model__C=0.1, model__degree=4, model__gamma=scale, model__kernel=linear, preprocessor__num__imputer__strategy=median, total=   0.3s\n",
      "[CV] model__C=0.1, model__degree=4, model__gamma=scale, model__kernel=linear, preprocessor__num__imputer__strategy=median \n",
      "[CV]  model__C=0.1, model__degree=4, model__gamma=scale, model__kernel=linear, preprocessor__num__imputer__strategy=median, total=   0.3s\n",
      "[CV] model__C=0.1, model__degree=4, model__gamma=scale, model__kernel=linear, preprocessor__num__imputer__strategy=median \n",
      "[CV]  model__C=0.1, model__degree=4, model__gamma=scale, model__kernel=linear, preprocessor__num__imputer__strategy=median, total=   0.4s\n",
      "[CV] model__C=0.1, model__degree=4, model__gamma=scale, model__kernel=rbf, preprocessor__num__imputer__strategy=mean \n",
      "[CV]  model__C=0.1, model__degree=4, model__gamma=scale, model__kernel=rbf, preprocessor__num__imputer__strategy=mean, total=   0.6s\n",
      "[CV] model__C=0.1, model__degree=4, model__gamma=scale, model__kernel=rbf, preprocessor__num__imputer__strategy=mean \n",
      "[CV]  model__C=0.1, model__degree=4, model__gamma=scale, model__kernel=rbf, preprocessor__num__imputer__strategy=mean, total=   0.6s\n",
      "[CV] model__C=0.1, model__degree=4, model__gamma=scale, model__kernel=rbf, preprocessor__num__imputer__strategy=mean \n",
      "[CV]  model__C=0.1, model__degree=4, model__gamma=scale, model__kernel=rbf, preprocessor__num__imputer__strategy=mean, total=   0.6s\n",
      "[CV] model__C=0.1, model__degree=4, model__gamma=scale, model__kernel=rbf, preprocessor__num__imputer__strategy=mean \n",
      "[CV]  model__C=0.1, model__degree=4, model__gamma=scale, model__kernel=rbf, preprocessor__num__imputer__strategy=mean, total=   0.6s\n",
      "[CV] model__C=0.1, model__degree=4, model__gamma=scale, model__kernel=rbf, preprocessor__num__imputer__strategy=mean \n",
      "[CV]  model__C=0.1, model__degree=4, model__gamma=scale, model__kernel=rbf, preprocessor__num__imputer__strategy=mean, total=   0.6s\n",
      "[CV] model__C=0.1, model__degree=4, model__gamma=scale, model__kernel=rbf, preprocessor__num__imputer__strategy=median \n",
      "[CV]  model__C=0.1, model__degree=4, model__gamma=scale, model__kernel=rbf, preprocessor__num__imputer__strategy=median, total=   0.6s\n",
      "[CV] model__C=0.1, model__degree=4, model__gamma=scale, model__kernel=rbf, preprocessor__num__imputer__strategy=median \n",
      "[CV]  model__C=0.1, model__degree=4, model__gamma=scale, model__kernel=rbf, preprocessor__num__imputer__strategy=median, total=   0.6s\n",
      "[CV] model__C=0.1, model__degree=4, model__gamma=scale, model__kernel=rbf, preprocessor__num__imputer__strategy=median \n",
      "[CV]  model__C=0.1, model__degree=4, model__gamma=scale, model__kernel=rbf, preprocessor__num__imputer__strategy=median, total=   0.6s\n",
      "[CV] model__C=0.1, model__degree=4, model__gamma=scale, model__kernel=rbf, preprocessor__num__imputer__strategy=median \n",
      "[CV]  model__C=0.1, model__degree=4, model__gamma=scale, model__kernel=rbf, preprocessor__num__imputer__strategy=median, total=   0.6s\n",
      "[CV] model__C=0.1, model__degree=4, model__gamma=scale, model__kernel=rbf, preprocessor__num__imputer__strategy=median \n",
      "[CV]  model__C=0.1, model__degree=4, model__gamma=scale, model__kernel=rbf, preprocessor__num__imputer__strategy=median, total=   0.6s\n",
      "[CV] model__C=0.1, model__degree=4, model__gamma=0.01, model__kernel=linear, preprocessor__num__imputer__strategy=mean \n"
     ]
    },
    {
     "name": "stdout",
     "output_type": "stream",
     "text": [
      "[CV]  model__C=0.1, model__degree=4, model__gamma=0.01, model__kernel=linear, preprocessor__num__imputer__strategy=mean, total=   0.3s\n",
      "[CV] model__C=0.1, model__degree=4, model__gamma=0.01, model__kernel=linear, preprocessor__num__imputer__strategy=mean \n",
      "[CV]  model__C=0.1, model__degree=4, model__gamma=0.01, model__kernel=linear, preprocessor__num__imputer__strategy=mean, total=   0.3s\n",
      "[CV] model__C=0.1, model__degree=4, model__gamma=0.01, model__kernel=linear, preprocessor__num__imputer__strategy=mean \n",
      "[CV]  model__C=0.1, model__degree=4, model__gamma=0.01, model__kernel=linear, preprocessor__num__imputer__strategy=mean, total=   0.3s\n",
      "[CV] model__C=0.1, model__degree=4, model__gamma=0.01, model__kernel=linear, preprocessor__num__imputer__strategy=mean \n",
      "[CV]  model__C=0.1, model__degree=4, model__gamma=0.01, model__kernel=linear, preprocessor__num__imputer__strategy=mean, total=   0.3s\n",
      "[CV] model__C=0.1, model__degree=4, model__gamma=0.01, model__kernel=linear, preprocessor__num__imputer__strategy=mean \n",
      "[CV]  model__C=0.1, model__degree=4, model__gamma=0.01, model__kernel=linear, preprocessor__num__imputer__strategy=mean, total=   0.3s\n",
      "[CV] model__C=0.1, model__degree=4, model__gamma=0.01, model__kernel=linear, preprocessor__num__imputer__strategy=median \n",
      "[CV]  model__C=0.1, model__degree=4, model__gamma=0.01, model__kernel=linear, preprocessor__num__imputer__strategy=median, total=   0.3s\n",
      "[CV] model__C=0.1, model__degree=4, model__gamma=0.01, model__kernel=linear, preprocessor__num__imputer__strategy=median \n",
      "[CV]  model__C=0.1, model__degree=4, model__gamma=0.01, model__kernel=linear, preprocessor__num__imputer__strategy=median, total=   0.4s\n",
      "[CV] model__C=0.1, model__degree=4, model__gamma=0.01, model__kernel=linear, preprocessor__num__imputer__strategy=median \n",
      "[CV]  model__C=0.1, model__degree=4, model__gamma=0.01, model__kernel=linear, preprocessor__num__imputer__strategy=median, total=   0.3s\n",
      "[CV] model__C=0.1, model__degree=4, model__gamma=0.01, model__kernel=linear, preprocessor__num__imputer__strategy=median \n",
      "[CV]  model__C=0.1, model__degree=4, model__gamma=0.01, model__kernel=linear, preprocessor__num__imputer__strategy=median, total=   0.3s\n",
      "[CV] model__C=0.1, model__degree=4, model__gamma=0.01, model__kernel=linear, preprocessor__num__imputer__strategy=median \n",
      "[CV]  model__C=0.1, model__degree=4, model__gamma=0.01, model__kernel=linear, preprocessor__num__imputer__strategy=median, total=   0.3s\n",
      "[CV] model__C=0.1, model__degree=4, model__gamma=0.01, model__kernel=rbf, preprocessor__num__imputer__strategy=mean \n",
      "[CV]  model__C=0.1, model__degree=4, model__gamma=0.01, model__kernel=rbf, preprocessor__num__imputer__strategy=mean, total=   0.5s\n",
      "[CV] model__C=0.1, model__degree=4, model__gamma=0.01, model__kernel=rbf, preprocessor__num__imputer__strategy=mean \n",
      "[CV]  model__C=0.1, model__degree=4, model__gamma=0.01, model__kernel=rbf, preprocessor__num__imputer__strategy=mean, total=   0.5s\n",
      "[CV] model__C=0.1, model__degree=4, model__gamma=0.01, model__kernel=rbf, preprocessor__num__imputer__strategy=mean \n",
      "[CV]  model__C=0.1, model__degree=4, model__gamma=0.01, model__kernel=rbf, preprocessor__num__imputer__strategy=mean, total=   0.5s\n",
      "[CV] model__C=0.1, model__degree=4, model__gamma=0.01, model__kernel=rbf, preprocessor__num__imputer__strategy=mean \n",
      "[CV]  model__C=0.1, model__degree=4, model__gamma=0.01, model__kernel=rbf, preprocessor__num__imputer__strategy=mean, total=   0.5s\n",
      "[CV] model__C=0.1, model__degree=4, model__gamma=0.01, model__kernel=rbf, preprocessor__num__imputer__strategy=mean \n",
      "[CV]  model__C=0.1, model__degree=4, model__gamma=0.01, model__kernel=rbf, preprocessor__num__imputer__strategy=mean, total=   0.5s\n",
      "[CV] model__C=0.1, model__degree=4, model__gamma=0.01, model__kernel=rbf, preprocessor__num__imputer__strategy=median \n",
      "[CV]  model__C=0.1, model__degree=4, model__gamma=0.01, model__kernel=rbf, preprocessor__num__imputer__strategy=median, total=   0.5s\n",
      "[CV] model__C=0.1, model__degree=4, model__gamma=0.01, model__kernel=rbf, preprocessor__num__imputer__strategy=median \n",
      "[CV]  model__C=0.1, model__degree=4, model__gamma=0.01, model__kernel=rbf, preprocessor__num__imputer__strategy=median, total=   0.5s\n",
      "[CV] model__C=0.1, model__degree=4, model__gamma=0.01, model__kernel=rbf, preprocessor__num__imputer__strategy=median \n",
      "[CV]  model__C=0.1, model__degree=4, model__gamma=0.01, model__kernel=rbf, preprocessor__num__imputer__strategy=median, total=   0.5s\n",
      "[CV] model__C=0.1, model__degree=4, model__gamma=0.01, model__kernel=rbf, preprocessor__num__imputer__strategy=median \n",
      "[CV]  model__C=0.1, model__degree=4, model__gamma=0.01, model__kernel=rbf, preprocessor__num__imputer__strategy=median, total=   0.5s\n",
      "[CV] model__C=0.1, model__degree=4, model__gamma=0.01, model__kernel=rbf, preprocessor__num__imputer__strategy=median \n",
      "[CV]  model__C=0.1, model__degree=4, model__gamma=0.01, model__kernel=rbf, preprocessor__num__imputer__strategy=median, total=   0.5s\n",
      "[CV] model__C=0.1, model__degree=5, model__gamma=auto, model__kernel=linear, preprocessor__num__imputer__strategy=mean \n",
      "[CV]  model__C=0.1, model__degree=5, model__gamma=auto, model__kernel=linear, preprocessor__num__imputer__strategy=mean, total=   0.4s\n",
      "[CV] model__C=0.1, model__degree=5, model__gamma=auto, model__kernel=linear, preprocessor__num__imputer__strategy=mean \n",
      "[CV]  model__C=0.1, model__degree=5, model__gamma=auto, model__kernel=linear, preprocessor__num__imputer__strategy=mean, total=   0.3s\n",
      "[CV] model__C=0.1, model__degree=5, model__gamma=auto, model__kernel=linear, preprocessor__num__imputer__strategy=mean \n",
      "[CV]  model__C=0.1, model__degree=5, model__gamma=auto, model__kernel=linear, preprocessor__num__imputer__strategy=mean, total=   0.3s\n",
      "[CV] model__C=0.1, model__degree=5, model__gamma=auto, model__kernel=linear, preprocessor__num__imputer__strategy=mean \n",
      "[CV]  model__C=0.1, model__degree=5, model__gamma=auto, model__kernel=linear, preprocessor__num__imputer__strategy=mean, total=   0.3s\n",
      "[CV] model__C=0.1, model__degree=5, model__gamma=auto, model__kernel=linear, preprocessor__num__imputer__strategy=mean \n",
      "[CV]  model__C=0.1, model__degree=5, model__gamma=auto, model__kernel=linear, preprocessor__num__imputer__strategy=mean, total=   0.3s\n",
      "[CV] model__C=0.1, model__degree=5, model__gamma=auto, model__kernel=linear, preprocessor__num__imputer__strategy=median \n",
      "[CV]  model__C=0.1, model__degree=5, model__gamma=auto, model__kernel=linear, preprocessor__num__imputer__strategy=median, total=   0.3s\n",
      "[CV] model__C=0.1, model__degree=5, model__gamma=auto, model__kernel=linear, preprocessor__num__imputer__strategy=median \n",
      "[CV]  model__C=0.1, model__degree=5, model__gamma=auto, model__kernel=linear, preprocessor__num__imputer__strategy=median, total=   0.3s\n",
      "[CV] model__C=0.1, model__degree=5, model__gamma=auto, model__kernel=linear, preprocessor__num__imputer__strategy=median \n",
      "[CV]  model__C=0.1, model__degree=5, model__gamma=auto, model__kernel=linear, preprocessor__num__imputer__strategy=median, total=   0.3s\n",
      "[CV] model__C=0.1, model__degree=5, model__gamma=auto, model__kernel=linear, preprocessor__num__imputer__strategy=median \n",
      "[CV]  model__C=0.1, model__degree=5, model__gamma=auto, model__kernel=linear, preprocessor__num__imputer__strategy=median, total=   0.3s\n",
      "[CV] model__C=0.1, model__degree=5, model__gamma=auto, model__kernel=linear, preprocessor__num__imputer__strategy=median \n",
      "[CV]  model__C=0.1, model__degree=5, model__gamma=auto, model__kernel=linear, preprocessor__num__imputer__strategy=median, total=   0.4s\n",
      "[CV] model__C=0.1, model__degree=5, model__gamma=auto, model__kernel=rbf, preprocessor__num__imputer__strategy=mean \n",
      "[CV]  model__C=0.1, model__degree=5, model__gamma=auto, model__kernel=rbf, preprocessor__num__imputer__strategy=mean, total=   0.6s\n",
      "[CV] model__C=0.1, model__degree=5, model__gamma=auto, model__kernel=rbf, preprocessor__num__imputer__strategy=mean \n",
      "[CV]  model__C=0.1, model__degree=5, model__gamma=auto, model__kernel=rbf, preprocessor__num__imputer__strategy=mean, total=   0.7s\n",
      "[CV] model__C=0.1, model__degree=5, model__gamma=auto, model__kernel=rbf, preprocessor__num__imputer__strategy=mean \n",
      "[CV]  model__C=0.1, model__degree=5, model__gamma=auto, model__kernel=rbf, preprocessor__num__imputer__strategy=mean, total=   0.8s\n",
      "[CV] model__C=0.1, model__degree=5, model__gamma=auto, model__kernel=rbf, preprocessor__num__imputer__strategy=mean \n"
     ]
    },
    {
     "name": "stdout",
     "output_type": "stream",
     "text": [
      "[CV]  model__C=0.1, model__degree=5, model__gamma=auto, model__kernel=rbf, preprocessor__num__imputer__strategy=mean, total=   0.8s\n",
      "[CV] model__C=0.1, model__degree=5, model__gamma=auto, model__kernel=rbf, preprocessor__num__imputer__strategy=mean \n",
      "[CV]  model__C=0.1, model__degree=5, model__gamma=auto, model__kernel=rbf, preprocessor__num__imputer__strategy=mean, total=   0.8s\n",
      "[CV] model__C=0.1, model__degree=5, model__gamma=auto, model__kernel=rbf, preprocessor__num__imputer__strategy=median \n",
      "[CV]  model__C=0.1, model__degree=5, model__gamma=auto, model__kernel=rbf, preprocessor__num__imputer__strategy=median, total=   0.8s\n",
      "[CV] model__C=0.1, model__degree=5, model__gamma=auto, model__kernel=rbf, preprocessor__num__imputer__strategy=median \n",
      "[CV]  model__C=0.1, model__degree=5, model__gamma=auto, model__kernel=rbf, preprocessor__num__imputer__strategy=median, total=   0.8s\n",
      "[CV] model__C=0.1, model__degree=5, model__gamma=auto, model__kernel=rbf, preprocessor__num__imputer__strategy=median \n",
      "[CV]  model__C=0.1, model__degree=5, model__gamma=auto, model__kernel=rbf, preprocessor__num__imputer__strategy=median, total=   0.8s\n",
      "[CV] model__C=0.1, model__degree=5, model__gamma=auto, model__kernel=rbf, preprocessor__num__imputer__strategy=median \n",
      "[CV]  model__C=0.1, model__degree=5, model__gamma=auto, model__kernel=rbf, preprocessor__num__imputer__strategy=median, total=   0.8s\n",
      "[CV] model__C=0.1, model__degree=5, model__gamma=auto, model__kernel=rbf, preprocessor__num__imputer__strategy=median \n",
      "[CV]  model__C=0.1, model__degree=5, model__gamma=auto, model__kernel=rbf, preprocessor__num__imputer__strategy=median, total=   0.8s\n",
      "[CV] model__C=0.1, model__degree=5, model__gamma=scale, model__kernel=linear, preprocessor__num__imputer__strategy=mean \n",
      "[CV]  model__C=0.1, model__degree=5, model__gamma=scale, model__kernel=linear, preprocessor__num__imputer__strategy=mean, total=   0.4s\n",
      "[CV] model__C=0.1, model__degree=5, model__gamma=scale, model__kernel=linear, preprocessor__num__imputer__strategy=mean \n",
      "[CV]  model__C=0.1, model__degree=5, model__gamma=scale, model__kernel=linear, preprocessor__num__imputer__strategy=mean, total=   0.3s\n",
      "[CV] model__C=0.1, model__degree=5, model__gamma=scale, model__kernel=linear, preprocessor__num__imputer__strategy=mean \n",
      "[CV]  model__C=0.1, model__degree=5, model__gamma=scale, model__kernel=linear, preprocessor__num__imputer__strategy=mean, total=   0.3s\n",
      "[CV] model__C=0.1, model__degree=5, model__gamma=scale, model__kernel=linear, preprocessor__num__imputer__strategy=mean \n",
      "[CV]  model__C=0.1, model__degree=5, model__gamma=scale, model__kernel=linear, preprocessor__num__imputer__strategy=mean, total=   0.3s\n",
      "[CV] model__C=0.1, model__degree=5, model__gamma=scale, model__kernel=linear, preprocessor__num__imputer__strategy=mean \n",
      "[CV]  model__C=0.1, model__degree=5, model__gamma=scale, model__kernel=linear, preprocessor__num__imputer__strategy=mean, total=   0.4s\n",
      "[CV] model__C=0.1, model__degree=5, model__gamma=scale, model__kernel=linear, preprocessor__num__imputer__strategy=median \n",
      "[CV]  model__C=0.1, model__degree=5, model__gamma=scale, model__kernel=linear, preprocessor__num__imputer__strategy=median, total=   0.3s\n",
      "[CV] model__C=0.1, model__degree=5, model__gamma=scale, model__kernel=linear, preprocessor__num__imputer__strategy=median \n",
      "[CV]  model__C=0.1, model__degree=5, model__gamma=scale, model__kernel=linear, preprocessor__num__imputer__strategy=median, total=   0.3s\n",
      "[CV] model__C=0.1, model__degree=5, model__gamma=scale, model__kernel=linear, preprocessor__num__imputer__strategy=median \n",
      "[CV]  model__C=0.1, model__degree=5, model__gamma=scale, model__kernel=linear, preprocessor__num__imputer__strategy=median, total=   0.3s\n",
      "[CV] model__C=0.1, model__degree=5, model__gamma=scale, model__kernel=linear, preprocessor__num__imputer__strategy=median \n",
      "[CV]  model__C=0.1, model__degree=5, model__gamma=scale, model__kernel=linear, preprocessor__num__imputer__strategy=median, total=   0.4s\n",
      "[CV] model__C=0.1, model__degree=5, model__gamma=scale, model__kernel=linear, preprocessor__num__imputer__strategy=median \n",
      "[CV]  model__C=0.1, model__degree=5, model__gamma=scale, model__kernel=linear, preprocessor__num__imputer__strategy=median, total=   0.4s\n",
      "[CV] model__C=0.1, model__degree=5, model__gamma=scale, model__kernel=rbf, preprocessor__num__imputer__strategy=mean \n",
      "[CV]  model__C=0.1, model__degree=5, model__gamma=scale, model__kernel=rbf, preprocessor__num__imputer__strategy=mean, total=   0.6s\n",
      "[CV] model__C=0.1, model__degree=5, model__gamma=scale, model__kernel=rbf, preprocessor__num__imputer__strategy=mean \n",
      "[CV]  model__C=0.1, model__degree=5, model__gamma=scale, model__kernel=rbf, preprocessor__num__imputer__strategy=mean, total=   0.6s\n",
      "[CV] model__C=0.1, model__degree=5, model__gamma=scale, model__kernel=rbf, preprocessor__num__imputer__strategy=mean \n",
      "[CV]  model__C=0.1, model__degree=5, model__gamma=scale, model__kernel=rbf, preprocessor__num__imputer__strategy=mean, total=   0.6s\n",
      "[CV] model__C=0.1, model__degree=5, model__gamma=scale, model__kernel=rbf, preprocessor__num__imputer__strategy=mean \n",
      "[CV]  model__C=0.1, model__degree=5, model__gamma=scale, model__kernel=rbf, preprocessor__num__imputer__strategy=mean, total=   0.6s\n",
      "[CV] model__C=0.1, model__degree=5, model__gamma=scale, model__kernel=rbf, preprocessor__num__imputer__strategy=mean \n",
      "[CV]  model__C=0.1, model__degree=5, model__gamma=scale, model__kernel=rbf, preprocessor__num__imputer__strategy=mean, total=   0.7s\n",
      "[CV] model__C=0.1, model__degree=5, model__gamma=scale, model__kernel=rbf, preprocessor__num__imputer__strategy=median \n",
      "[CV]  model__C=0.1, model__degree=5, model__gamma=scale, model__kernel=rbf, preprocessor__num__imputer__strategy=median, total=   0.6s\n",
      "[CV] model__C=0.1, model__degree=5, model__gamma=scale, model__kernel=rbf, preprocessor__num__imputer__strategy=median \n",
      "[CV]  model__C=0.1, model__degree=5, model__gamma=scale, model__kernel=rbf, preprocessor__num__imputer__strategy=median, total=   0.6s\n",
      "[CV] model__C=0.1, model__degree=5, model__gamma=scale, model__kernel=rbf, preprocessor__num__imputer__strategy=median \n",
      "[CV]  model__C=0.1, model__degree=5, model__gamma=scale, model__kernel=rbf, preprocessor__num__imputer__strategy=median, total=   0.7s\n",
      "[CV] model__C=0.1, model__degree=5, model__gamma=scale, model__kernel=rbf, preprocessor__num__imputer__strategy=median \n",
      "[CV]  model__C=0.1, model__degree=5, model__gamma=scale, model__kernel=rbf, preprocessor__num__imputer__strategy=median, total=   0.6s\n",
      "[CV] model__C=0.1, model__degree=5, model__gamma=scale, model__kernel=rbf, preprocessor__num__imputer__strategy=median \n",
      "[CV]  model__C=0.1, model__degree=5, model__gamma=scale, model__kernel=rbf, preprocessor__num__imputer__strategy=median, total=   0.7s\n",
      "[CV] model__C=0.1, model__degree=5, model__gamma=0.01, model__kernel=linear, preprocessor__num__imputer__strategy=mean \n",
      "[CV]  model__C=0.1, model__degree=5, model__gamma=0.01, model__kernel=linear, preprocessor__num__imputer__strategy=mean, total=   0.4s\n",
      "[CV] model__C=0.1, model__degree=5, model__gamma=0.01, model__kernel=linear, preprocessor__num__imputer__strategy=mean \n",
      "[CV]  model__C=0.1, model__degree=5, model__gamma=0.01, model__kernel=linear, preprocessor__num__imputer__strategy=mean, total=   0.3s\n",
      "[CV] model__C=0.1, model__degree=5, model__gamma=0.01, model__kernel=linear, preprocessor__num__imputer__strategy=mean \n",
      "[CV]  model__C=0.1, model__degree=5, model__gamma=0.01, model__kernel=linear, preprocessor__num__imputer__strategy=mean, total=   0.3s\n",
      "[CV] model__C=0.1, model__degree=5, model__gamma=0.01, model__kernel=linear, preprocessor__num__imputer__strategy=mean \n",
      "[CV]  model__C=0.1, model__degree=5, model__gamma=0.01, model__kernel=linear, preprocessor__num__imputer__strategy=mean, total=   0.3s\n",
      "[CV] model__C=0.1, model__degree=5, model__gamma=0.01, model__kernel=linear, preprocessor__num__imputer__strategy=mean \n",
      "[CV]  model__C=0.1, model__degree=5, model__gamma=0.01, model__kernel=linear, preprocessor__num__imputer__strategy=mean, total=   0.3s\n",
      "[CV] model__C=0.1, model__degree=5, model__gamma=0.01, model__kernel=linear, preprocessor__num__imputer__strategy=median \n",
      "[CV]  model__C=0.1, model__degree=5, model__gamma=0.01, model__kernel=linear, preprocessor__num__imputer__strategy=median, total=   0.4s\n",
      "[CV] model__C=0.1, model__degree=5, model__gamma=0.01, model__kernel=linear, preprocessor__num__imputer__strategy=median \n"
     ]
    },
    {
     "name": "stdout",
     "output_type": "stream",
     "text": [
      "[CV]  model__C=0.1, model__degree=5, model__gamma=0.01, model__kernel=linear, preprocessor__num__imputer__strategy=median, total=   0.3s\n",
      "[CV] model__C=0.1, model__degree=5, model__gamma=0.01, model__kernel=linear, preprocessor__num__imputer__strategy=median \n",
      "[CV]  model__C=0.1, model__degree=5, model__gamma=0.01, model__kernel=linear, preprocessor__num__imputer__strategy=median, total=   0.3s\n",
      "[CV] model__C=0.1, model__degree=5, model__gamma=0.01, model__kernel=linear, preprocessor__num__imputer__strategy=median \n",
      "[CV]  model__C=0.1, model__degree=5, model__gamma=0.01, model__kernel=linear, preprocessor__num__imputer__strategy=median, total=   0.3s\n",
      "[CV] model__C=0.1, model__degree=5, model__gamma=0.01, model__kernel=linear, preprocessor__num__imputer__strategy=median \n",
      "[CV]  model__C=0.1, model__degree=5, model__gamma=0.01, model__kernel=linear, preprocessor__num__imputer__strategy=median, total=   0.4s\n",
      "[CV] model__C=0.1, model__degree=5, model__gamma=0.01, model__kernel=rbf, preprocessor__num__imputer__strategy=mean \n",
      "[CV]  model__C=0.1, model__degree=5, model__gamma=0.01, model__kernel=rbf, preprocessor__num__imputer__strategy=mean, total=   0.5s\n",
      "[CV] model__C=0.1, model__degree=5, model__gamma=0.01, model__kernel=rbf, preprocessor__num__imputer__strategy=mean \n",
      "[CV]  model__C=0.1, model__degree=5, model__gamma=0.01, model__kernel=rbf, preprocessor__num__imputer__strategy=mean, total=   0.5s\n",
      "[CV] model__C=0.1, model__degree=5, model__gamma=0.01, model__kernel=rbf, preprocessor__num__imputer__strategy=mean \n",
      "[CV]  model__C=0.1, model__degree=5, model__gamma=0.01, model__kernel=rbf, preprocessor__num__imputer__strategy=mean, total=   0.5s\n",
      "[CV] model__C=0.1, model__degree=5, model__gamma=0.01, model__kernel=rbf, preprocessor__num__imputer__strategy=mean \n",
      "[CV]  model__C=0.1, model__degree=5, model__gamma=0.01, model__kernel=rbf, preprocessor__num__imputer__strategy=mean, total=   0.5s\n",
      "[CV] model__C=0.1, model__degree=5, model__gamma=0.01, model__kernel=rbf, preprocessor__num__imputer__strategy=mean \n",
      "[CV]  model__C=0.1, model__degree=5, model__gamma=0.01, model__kernel=rbf, preprocessor__num__imputer__strategy=mean, total=   0.5s\n",
      "[CV] model__C=0.1, model__degree=5, model__gamma=0.01, model__kernel=rbf, preprocessor__num__imputer__strategy=median \n",
      "[CV]  model__C=0.1, model__degree=5, model__gamma=0.01, model__kernel=rbf, preprocessor__num__imputer__strategy=median, total=   0.5s\n",
      "[CV] model__C=0.1, model__degree=5, model__gamma=0.01, model__kernel=rbf, preprocessor__num__imputer__strategy=median \n",
      "[CV]  model__C=0.1, model__degree=5, model__gamma=0.01, model__kernel=rbf, preprocessor__num__imputer__strategy=median, total=   0.5s\n",
      "[CV] model__C=0.1, model__degree=5, model__gamma=0.01, model__kernel=rbf, preprocessor__num__imputer__strategy=median \n",
      "[CV]  model__C=0.1, model__degree=5, model__gamma=0.01, model__kernel=rbf, preprocessor__num__imputer__strategy=median, total=   0.5s\n",
      "[CV] model__C=0.1, model__degree=5, model__gamma=0.01, model__kernel=rbf, preprocessor__num__imputer__strategy=median \n",
      "[CV]  model__C=0.1, model__degree=5, model__gamma=0.01, model__kernel=rbf, preprocessor__num__imputer__strategy=median, total=   0.6s\n",
      "[CV] model__C=0.1, model__degree=5, model__gamma=0.01, model__kernel=rbf, preprocessor__num__imputer__strategy=median \n",
      "[CV]  model__C=0.1, model__degree=5, model__gamma=0.01, model__kernel=rbf, preprocessor__num__imputer__strategy=median, total=   0.6s\n",
      "[CV] model__C=1, model__degree=3, model__gamma=auto, model__kernel=linear, preprocessor__num__imputer__strategy=mean \n",
      "[CV]  model__C=1, model__degree=3, model__gamma=auto, model__kernel=linear, preprocessor__num__imputer__strategy=mean, total=   0.5s\n",
      "[CV] model__C=1, model__degree=3, model__gamma=auto, model__kernel=linear, preprocessor__num__imputer__strategy=mean \n",
      "[CV]  model__C=1, model__degree=3, model__gamma=auto, model__kernel=linear, preprocessor__num__imputer__strategy=mean, total=   0.5s\n",
      "[CV] model__C=1, model__degree=3, model__gamma=auto, model__kernel=linear, preprocessor__num__imputer__strategy=mean \n",
      "[CV]  model__C=1, model__degree=3, model__gamma=auto, model__kernel=linear, preprocessor__num__imputer__strategy=mean, total=   0.5s\n",
      "[CV] model__C=1, model__degree=3, model__gamma=auto, model__kernel=linear, preprocessor__num__imputer__strategy=mean \n",
      "[CV]  model__C=1, model__degree=3, model__gamma=auto, model__kernel=linear, preprocessor__num__imputer__strategy=mean, total=   0.4s\n",
      "[CV] model__C=1, model__degree=3, model__gamma=auto, model__kernel=linear, preprocessor__num__imputer__strategy=mean \n",
      "[CV]  model__C=1, model__degree=3, model__gamma=auto, model__kernel=linear, preprocessor__num__imputer__strategy=mean, total=   0.5s\n",
      "[CV] model__C=1, model__degree=3, model__gamma=auto, model__kernel=linear, preprocessor__num__imputer__strategy=median \n",
      "[CV]  model__C=1, model__degree=3, model__gamma=auto, model__kernel=linear, preprocessor__num__imputer__strategy=median, total=   0.5s\n",
      "[CV] model__C=1, model__degree=3, model__gamma=auto, model__kernel=linear, preprocessor__num__imputer__strategy=median \n",
      "[CV]  model__C=1, model__degree=3, model__gamma=auto, model__kernel=linear, preprocessor__num__imputer__strategy=median, total=   0.5s\n",
      "[CV] model__C=1, model__degree=3, model__gamma=auto, model__kernel=linear, preprocessor__num__imputer__strategy=median \n",
      "[CV]  model__C=1, model__degree=3, model__gamma=auto, model__kernel=linear, preprocessor__num__imputer__strategy=median, total=   0.5s\n",
      "[CV] model__C=1, model__degree=3, model__gamma=auto, model__kernel=linear, preprocessor__num__imputer__strategy=median \n",
      "[CV]  model__C=1, model__degree=3, model__gamma=auto, model__kernel=linear, preprocessor__num__imputer__strategy=median, total=   0.4s\n",
      "[CV] model__C=1, model__degree=3, model__gamma=auto, model__kernel=linear, preprocessor__num__imputer__strategy=median \n",
      "[CV]  model__C=1, model__degree=3, model__gamma=auto, model__kernel=linear, preprocessor__num__imputer__strategy=median, total=   0.5s\n",
      "[CV] model__C=1, model__degree=3, model__gamma=auto, model__kernel=rbf, preprocessor__num__imputer__strategy=mean \n",
      "[CV]  model__C=1, model__degree=3, model__gamma=auto, model__kernel=rbf, preprocessor__num__imputer__strategy=mean, total=   1.0s\n",
      "[CV] model__C=1, model__degree=3, model__gamma=auto, model__kernel=rbf, preprocessor__num__imputer__strategy=mean \n",
      "[CV]  model__C=1, model__degree=3, model__gamma=auto, model__kernel=rbf, preprocessor__num__imputer__strategy=mean, total=   0.8s\n",
      "[CV] model__C=1, model__degree=3, model__gamma=auto, model__kernel=rbf, preprocessor__num__imputer__strategy=mean \n",
      "[CV]  model__C=1, model__degree=3, model__gamma=auto, model__kernel=rbf, preprocessor__num__imputer__strategy=mean, total=   0.8s\n",
      "[CV] model__C=1, model__degree=3, model__gamma=auto, model__kernel=rbf, preprocessor__num__imputer__strategy=mean \n",
      "[CV]  model__C=1, model__degree=3, model__gamma=auto, model__kernel=rbf, preprocessor__num__imputer__strategy=mean, total=   0.7s\n",
      "[CV] model__C=1, model__degree=3, model__gamma=auto, model__kernel=rbf, preprocessor__num__imputer__strategy=mean \n",
      "[CV]  model__C=1, model__degree=3, model__gamma=auto, model__kernel=rbf, preprocessor__num__imputer__strategy=mean, total=   0.9s\n",
      "[CV] model__C=1, model__degree=3, model__gamma=auto, model__kernel=rbf, preprocessor__num__imputer__strategy=median \n",
      "[CV]  model__C=1, model__degree=3, model__gamma=auto, model__kernel=rbf, preprocessor__num__imputer__strategy=median, total=   0.8s\n",
      "[CV] model__C=1, model__degree=3, model__gamma=auto, model__kernel=rbf, preprocessor__num__imputer__strategy=median \n",
      "[CV]  model__C=1, model__degree=3, model__gamma=auto, model__kernel=rbf, preprocessor__num__imputer__strategy=median, total=   0.8s\n",
      "[CV] model__C=1, model__degree=3, model__gamma=auto, model__kernel=rbf, preprocessor__num__imputer__strategy=median \n",
      "[CV]  model__C=1, model__degree=3, model__gamma=auto, model__kernel=rbf, preprocessor__num__imputer__strategy=median, total=   0.8s\n",
      "[CV] model__C=1, model__degree=3, model__gamma=auto, model__kernel=rbf, preprocessor__num__imputer__strategy=median \n",
      "[CV]  model__C=1, model__degree=3, model__gamma=auto, model__kernel=rbf, preprocessor__num__imputer__strategy=median, total=   0.7s\n",
      "[CV] model__C=1, model__degree=3, model__gamma=auto, model__kernel=rbf, preprocessor__num__imputer__strategy=median \n"
     ]
    },
    {
     "name": "stdout",
     "output_type": "stream",
     "text": [
      "[CV]  model__C=1, model__degree=3, model__gamma=auto, model__kernel=rbf, preprocessor__num__imputer__strategy=median, total=   0.9s\n",
      "[CV] model__C=1, model__degree=3, model__gamma=scale, model__kernel=linear, preprocessor__num__imputer__strategy=mean \n",
      "[CV]  model__C=1, model__degree=3, model__gamma=scale, model__kernel=linear, preprocessor__num__imputer__strategy=mean, total=   0.4s\n",
      "[CV] model__C=1, model__degree=3, model__gamma=scale, model__kernel=linear, preprocessor__num__imputer__strategy=mean \n",
      "[CV]  model__C=1, model__degree=3, model__gamma=scale, model__kernel=linear, preprocessor__num__imputer__strategy=mean, total=   0.4s\n",
      "[CV] model__C=1, model__degree=3, model__gamma=scale, model__kernel=linear, preprocessor__num__imputer__strategy=mean \n",
      "[CV]  model__C=1, model__degree=3, model__gamma=scale, model__kernel=linear, preprocessor__num__imputer__strategy=mean, total=   0.4s\n",
      "[CV] model__C=1, model__degree=3, model__gamma=scale, model__kernel=linear, preprocessor__num__imputer__strategy=mean \n",
      "[CV]  model__C=1, model__degree=3, model__gamma=scale, model__kernel=linear, preprocessor__num__imputer__strategy=mean, total=   0.4s\n",
      "[CV] model__C=1, model__degree=3, model__gamma=scale, model__kernel=linear, preprocessor__num__imputer__strategy=mean \n",
      "[CV]  model__C=1, model__degree=3, model__gamma=scale, model__kernel=linear, preprocessor__num__imputer__strategy=mean, total=   0.4s\n",
      "[CV] model__C=1, model__degree=3, model__gamma=scale, model__kernel=linear, preprocessor__num__imputer__strategy=median \n",
      "[CV]  model__C=1, model__degree=3, model__gamma=scale, model__kernel=linear, preprocessor__num__imputer__strategy=median, total=   0.4s\n",
      "[CV] model__C=1, model__degree=3, model__gamma=scale, model__kernel=linear, preprocessor__num__imputer__strategy=median \n",
      "[CV]  model__C=1, model__degree=3, model__gamma=scale, model__kernel=linear, preprocessor__num__imputer__strategy=median, total=   0.4s\n",
      "[CV] model__C=1, model__degree=3, model__gamma=scale, model__kernel=linear, preprocessor__num__imputer__strategy=median \n",
      "[CV]  model__C=1, model__degree=3, model__gamma=scale, model__kernel=linear, preprocessor__num__imputer__strategy=median, total=   0.4s\n",
      "[CV] model__C=1, model__degree=3, model__gamma=scale, model__kernel=linear, preprocessor__num__imputer__strategy=median \n",
      "[CV]  model__C=1, model__degree=3, model__gamma=scale, model__kernel=linear, preprocessor__num__imputer__strategy=median, total=   0.4s\n",
      "[CV] model__C=1, model__degree=3, model__gamma=scale, model__kernel=linear, preprocessor__num__imputer__strategy=median \n",
      "[CV]  model__C=1, model__degree=3, model__gamma=scale, model__kernel=linear, preprocessor__num__imputer__strategy=median, total=   0.4s\n",
      "[CV] model__C=1, model__degree=3, model__gamma=scale, model__kernel=rbf, preprocessor__num__imputer__strategy=mean \n",
      "[CV]  model__C=1, model__degree=3, model__gamma=scale, model__kernel=rbf, preprocessor__num__imputer__strategy=mean, total=   0.8s\n",
      "[CV] model__C=1, model__degree=3, model__gamma=scale, model__kernel=rbf, preprocessor__num__imputer__strategy=mean \n",
      "[CV]  model__C=1, model__degree=3, model__gamma=scale, model__kernel=rbf, preprocessor__num__imputer__strategy=mean, total=   0.8s\n",
      "[CV] model__C=1, model__degree=3, model__gamma=scale, model__kernel=rbf, preprocessor__num__imputer__strategy=mean \n",
      "[CV]  model__C=1, model__degree=3, model__gamma=scale, model__kernel=rbf, preprocessor__num__imputer__strategy=mean, total=   0.8s\n",
      "[CV] model__C=1, model__degree=3, model__gamma=scale, model__kernel=rbf, preprocessor__num__imputer__strategy=mean \n",
      "[CV]  model__C=1, model__degree=3, model__gamma=scale, model__kernel=rbf, preprocessor__num__imputer__strategy=mean, total=   0.7s\n",
      "[CV] model__C=1, model__degree=3, model__gamma=scale, model__kernel=rbf, preprocessor__num__imputer__strategy=mean \n",
      "[CV]  model__C=1, model__degree=3, model__gamma=scale, model__kernel=rbf, preprocessor__num__imputer__strategy=mean, total=   0.9s\n",
      "[CV] model__C=1, model__degree=3, model__gamma=scale, model__kernel=rbf, preprocessor__num__imputer__strategy=median \n",
      "[CV]  model__C=1, model__degree=3, model__gamma=scale, model__kernel=rbf, preprocessor__num__imputer__strategy=median, total=   0.8s\n",
      "[CV] model__C=1, model__degree=3, model__gamma=scale, model__kernel=rbf, preprocessor__num__imputer__strategy=median \n",
      "[CV]  model__C=1, model__degree=3, model__gamma=scale, model__kernel=rbf, preprocessor__num__imputer__strategy=median, total=   0.8s\n",
      "[CV] model__C=1, model__degree=3, model__gamma=scale, model__kernel=rbf, preprocessor__num__imputer__strategy=median \n",
      "[CV]  model__C=1, model__degree=3, model__gamma=scale, model__kernel=rbf, preprocessor__num__imputer__strategy=median, total=   0.8s\n",
      "[CV] model__C=1, model__degree=3, model__gamma=scale, model__kernel=rbf, preprocessor__num__imputer__strategy=median \n",
      "[CV]  model__C=1, model__degree=3, model__gamma=scale, model__kernel=rbf, preprocessor__num__imputer__strategy=median, total=   0.7s\n",
      "[CV] model__C=1, model__degree=3, model__gamma=scale, model__kernel=rbf, preprocessor__num__imputer__strategy=median \n",
      "[CV]  model__C=1, model__degree=3, model__gamma=scale, model__kernel=rbf, preprocessor__num__imputer__strategy=median, total=   0.8s\n",
      "[CV] model__C=1, model__degree=3, model__gamma=0.01, model__kernel=linear, preprocessor__num__imputer__strategy=mean \n",
      "[CV]  model__C=1, model__degree=3, model__gamma=0.01, model__kernel=linear, preprocessor__num__imputer__strategy=mean, total=   0.4s\n",
      "[CV] model__C=1, model__degree=3, model__gamma=0.01, model__kernel=linear, preprocessor__num__imputer__strategy=mean \n",
      "[CV]  model__C=1, model__degree=3, model__gamma=0.01, model__kernel=linear, preprocessor__num__imputer__strategy=mean, total=   0.4s\n",
      "[CV] model__C=1, model__degree=3, model__gamma=0.01, model__kernel=linear, preprocessor__num__imputer__strategy=mean \n",
      "[CV]  model__C=1, model__degree=3, model__gamma=0.01, model__kernel=linear, preprocessor__num__imputer__strategy=mean, total=   0.4s\n",
      "[CV] model__C=1, model__degree=3, model__gamma=0.01, model__kernel=linear, preprocessor__num__imputer__strategy=mean \n",
      "[CV]  model__C=1, model__degree=3, model__gamma=0.01, model__kernel=linear, preprocessor__num__imputer__strategy=mean, total=   0.4s\n",
      "[CV] model__C=1, model__degree=3, model__gamma=0.01, model__kernel=linear, preprocessor__num__imputer__strategy=mean \n",
      "[CV]  model__C=1, model__degree=3, model__gamma=0.01, model__kernel=linear, preprocessor__num__imputer__strategy=mean, total=   0.4s\n",
      "[CV] model__C=1, model__degree=3, model__gamma=0.01, model__kernel=linear, preprocessor__num__imputer__strategy=median \n",
      "[CV]  model__C=1, model__degree=3, model__gamma=0.01, model__kernel=linear, preprocessor__num__imputer__strategy=median, total=   0.4s\n",
      "[CV] model__C=1, model__degree=3, model__gamma=0.01, model__kernel=linear, preprocessor__num__imputer__strategy=median \n",
      "[CV]  model__C=1, model__degree=3, model__gamma=0.01, model__kernel=linear, preprocessor__num__imputer__strategy=median, total=   0.4s\n",
      "[CV] model__C=1, model__degree=3, model__gamma=0.01, model__kernel=linear, preprocessor__num__imputer__strategy=median \n",
      "[CV]  model__C=1, model__degree=3, model__gamma=0.01, model__kernel=linear, preprocessor__num__imputer__strategy=median, total=   0.4s\n",
      "[CV] model__C=1, model__degree=3, model__gamma=0.01, model__kernel=linear, preprocessor__num__imputer__strategy=median \n",
      "[CV]  model__C=1, model__degree=3, model__gamma=0.01, model__kernel=linear, preprocessor__num__imputer__strategy=median, total=   0.4s\n",
      "[CV] model__C=1, model__degree=3, model__gamma=0.01, model__kernel=linear, preprocessor__num__imputer__strategy=median \n",
      "[CV]  model__C=1, model__degree=3, model__gamma=0.01, model__kernel=linear, preprocessor__num__imputer__strategy=median, total=   0.4s\n",
      "[CV] model__C=1, model__degree=3, model__gamma=0.01, model__kernel=rbf, preprocessor__num__imputer__strategy=mean \n",
      "[CV]  model__C=1, model__degree=3, model__gamma=0.01, model__kernel=rbf, preprocessor__num__imputer__strategy=mean, total=   0.7s\n",
      "[CV] model__C=1, model__degree=3, model__gamma=0.01, model__kernel=rbf, preprocessor__num__imputer__strategy=mean \n",
      "[CV]  model__C=1, model__degree=3, model__gamma=0.01, model__kernel=rbf, preprocessor__num__imputer__strategy=mean, total=   0.7s\n",
      "[CV] model__C=1, model__degree=3, model__gamma=0.01, model__kernel=rbf, preprocessor__num__imputer__strategy=mean \n"
     ]
    },
    {
     "name": "stdout",
     "output_type": "stream",
     "text": [
      "[CV]  model__C=1, model__degree=3, model__gamma=0.01, model__kernel=rbf, preprocessor__num__imputer__strategy=mean, total=   0.8s\n",
      "[CV] model__C=1, model__degree=3, model__gamma=0.01, model__kernel=rbf, preprocessor__num__imputer__strategy=mean \n",
      "[CV]  model__C=1, model__degree=3, model__gamma=0.01, model__kernel=rbf, preprocessor__num__imputer__strategy=mean, total=   0.7s\n",
      "[CV] model__C=1, model__degree=3, model__gamma=0.01, model__kernel=rbf, preprocessor__num__imputer__strategy=mean \n",
      "[CV]  model__C=1, model__degree=3, model__gamma=0.01, model__kernel=rbf, preprocessor__num__imputer__strategy=mean, total=   0.7s\n",
      "[CV] model__C=1, model__degree=3, model__gamma=0.01, model__kernel=rbf, preprocessor__num__imputer__strategy=median \n",
      "[CV]  model__C=1, model__degree=3, model__gamma=0.01, model__kernel=rbf, preprocessor__num__imputer__strategy=median, total=   0.8s\n",
      "[CV] model__C=1, model__degree=3, model__gamma=0.01, model__kernel=rbf, preprocessor__num__imputer__strategy=median \n",
      "[CV]  model__C=1, model__degree=3, model__gamma=0.01, model__kernel=rbf, preprocessor__num__imputer__strategy=median, total=   0.7s\n",
      "[CV] model__C=1, model__degree=3, model__gamma=0.01, model__kernel=rbf, preprocessor__num__imputer__strategy=median \n",
      "[CV]  model__C=1, model__degree=3, model__gamma=0.01, model__kernel=rbf, preprocessor__num__imputer__strategy=median, total=   0.7s\n",
      "[CV] model__C=1, model__degree=3, model__gamma=0.01, model__kernel=rbf, preprocessor__num__imputer__strategy=median \n",
      "[CV]  model__C=1, model__degree=3, model__gamma=0.01, model__kernel=rbf, preprocessor__num__imputer__strategy=median, total=   0.7s\n",
      "[CV] model__C=1, model__degree=3, model__gamma=0.01, model__kernel=rbf, preprocessor__num__imputer__strategy=median \n",
      "[CV]  model__C=1, model__degree=3, model__gamma=0.01, model__kernel=rbf, preprocessor__num__imputer__strategy=median, total=   0.7s\n",
      "[CV] model__C=1, model__degree=4, model__gamma=auto, model__kernel=linear, preprocessor__num__imputer__strategy=mean \n",
      "[CV]  model__C=1, model__degree=4, model__gamma=auto, model__kernel=linear, preprocessor__num__imputer__strategy=mean, total=   0.4s\n",
      "[CV] model__C=1, model__degree=4, model__gamma=auto, model__kernel=linear, preprocessor__num__imputer__strategy=mean \n",
      "[CV]  model__C=1, model__degree=4, model__gamma=auto, model__kernel=linear, preprocessor__num__imputer__strategy=mean, total=   0.4s\n",
      "[CV] model__C=1, model__degree=4, model__gamma=auto, model__kernel=linear, preprocessor__num__imputer__strategy=mean \n",
      "[CV]  model__C=1, model__degree=4, model__gamma=auto, model__kernel=linear, preprocessor__num__imputer__strategy=mean, total=   0.4s\n",
      "[CV] model__C=1, model__degree=4, model__gamma=auto, model__kernel=linear, preprocessor__num__imputer__strategy=mean \n",
      "[CV]  model__C=1, model__degree=4, model__gamma=auto, model__kernel=linear, preprocessor__num__imputer__strategy=mean, total=   0.4s\n",
      "[CV] model__C=1, model__degree=4, model__gamma=auto, model__kernel=linear, preprocessor__num__imputer__strategy=mean \n",
      "[CV]  model__C=1, model__degree=4, model__gamma=auto, model__kernel=linear, preprocessor__num__imputer__strategy=mean, total=   0.4s\n",
      "[CV] model__C=1, model__degree=4, model__gamma=auto, model__kernel=linear, preprocessor__num__imputer__strategy=median \n",
      "[CV]  model__C=1, model__degree=4, model__gamma=auto, model__kernel=linear, preprocessor__num__imputer__strategy=median, total=   0.4s\n",
      "[CV] model__C=1, model__degree=4, model__gamma=auto, model__kernel=linear, preprocessor__num__imputer__strategy=median \n",
      "[CV]  model__C=1, model__degree=4, model__gamma=auto, model__kernel=linear, preprocessor__num__imputer__strategy=median, total=   0.4s\n",
      "[CV] model__C=1, model__degree=4, model__gamma=auto, model__kernel=linear, preprocessor__num__imputer__strategy=median \n",
      "[CV]  model__C=1, model__degree=4, model__gamma=auto, model__kernel=linear, preprocessor__num__imputer__strategy=median, total=   0.4s\n",
      "[CV] model__C=1, model__degree=4, model__gamma=auto, model__kernel=linear, preprocessor__num__imputer__strategy=median \n",
      "[CV]  model__C=1, model__degree=4, model__gamma=auto, model__kernel=linear, preprocessor__num__imputer__strategy=median, total=   0.4s\n",
      "[CV] model__C=1, model__degree=4, model__gamma=auto, model__kernel=linear, preprocessor__num__imputer__strategy=median \n",
      "[CV]  model__C=1, model__degree=4, model__gamma=auto, model__kernel=linear, preprocessor__num__imputer__strategy=median, total=   0.4s\n",
      "[CV] model__C=1, model__degree=4, model__gamma=auto, model__kernel=rbf, preprocessor__num__imputer__strategy=mean \n",
      "[CV]  model__C=1, model__degree=4, model__gamma=auto, model__kernel=rbf, preprocessor__num__imputer__strategy=mean, total=   0.8s\n",
      "[CV] model__C=1, model__degree=4, model__gamma=auto, model__kernel=rbf, preprocessor__num__imputer__strategy=mean \n",
      "[CV]  model__C=1, model__degree=4, model__gamma=auto, model__kernel=rbf, preprocessor__num__imputer__strategy=mean, total=   0.8s\n",
      "[CV] model__C=1, model__degree=4, model__gamma=auto, model__kernel=rbf, preprocessor__num__imputer__strategy=mean \n",
      "[CV]  model__C=1, model__degree=4, model__gamma=auto, model__kernel=rbf, preprocessor__num__imputer__strategy=mean, total=   0.8s\n",
      "[CV] model__C=1, model__degree=4, model__gamma=auto, model__kernel=rbf, preprocessor__num__imputer__strategy=mean \n",
      "[CV]  model__C=1, model__degree=4, model__gamma=auto, model__kernel=rbf, preprocessor__num__imputer__strategy=mean, total=   0.7s\n",
      "[CV] model__C=1, model__degree=4, model__gamma=auto, model__kernel=rbf, preprocessor__num__imputer__strategy=mean \n",
      "[CV]  model__C=1, model__degree=4, model__gamma=auto, model__kernel=rbf, preprocessor__num__imputer__strategy=mean, total=   0.8s\n",
      "[CV] model__C=1, model__degree=4, model__gamma=auto, model__kernel=rbf, preprocessor__num__imputer__strategy=median \n",
      "[CV]  model__C=1, model__degree=4, model__gamma=auto, model__kernel=rbf, preprocessor__num__imputer__strategy=median, total=   0.8s\n",
      "[CV] model__C=1, model__degree=4, model__gamma=auto, model__kernel=rbf, preprocessor__num__imputer__strategy=median \n",
      "[CV]  model__C=1, model__degree=4, model__gamma=auto, model__kernel=rbf, preprocessor__num__imputer__strategy=median, total=   0.8s\n",
      "[CV] model__C=1, model__degree=4, model__gamma=auto, model__kernel=rbf, preprocessor__num__imputer__strategy=median \n",
      "[CV]  model__C=1, model__degree=4, model__gamma=auto, model__kernel=rbf, preprocessor__num__imputer__strategy=median, total=   0.8s\n",
      "[CV] model__C=1, model__degree=4, model__gamma=auto, model__kernel=rbf, preprocessor__num__imputer__strategy=median \n",
      "[CV]  model__C=1, model__degree=4, model__gamma=auto, model__kernel=rbf, preprocessor__num__imputer__strategy=median, total=   0.7s\n",
      "[CV] model__C=1, model__degree=4, model__gamma=auto, model__kernel=rbf, preprocessor__num__imputer__strategy=median \n",
      "[CV]  model__C=1, model__degree=4, model__gamma=auto, model__kernel=rbf, preprocessor__num__imputer__strategy=median, total=   0.8s\n",
      "[CV] model__C=1, model__degree=4, model__gamma=scale, model__kernel=linear, preprocessor__num__imputer__strategy=mean \n",
      "[CV]  model__C=1, model__degree=4, model__gamma=scale, model__kernel=linear, preprocessor__num__imputer__strategy=mean, total=   0.4s\n",
      "[CV] model__C=1, model__degree=4, model__gamma=scale, model__kernel=linear, preprocessor__num__imputer__strategy=mean \n",
      "[CV]  model__C=1, model__degree=4, model__gamma=scale, model__kernel=linear, preprocessor__num__imputer__strategy=mean, total=   0.4s\n",
      "[CV] model__C=1, model__degree=4, model__gamma=scale, model__kernel=linear, preprocessor__num__imputer__strategy=mean \n",
      "[CV]  model__C=1, model__degree=4, model__gamma=scale, model__kernel=linear, preprocessor__num__imputer__strategy=mean, total=   0.4s\n",
      "[CV] model__C=1, model__degree=4, model__gamma=scale, model__kernel=linear, preprocessor__num__imputer__strategy=mean \n",
      "[CV]  model__C=1, model__degree=4, model__gamma=scale, model__kernel=linear, preprocessor__num__imputer__strategy=mean, total=   0.4s\n",
      "[CV] model__C=1, model__degree=4, model__gamma=scale, model__kernel=linear, preprocessor__num__imputer__strategy=mean \n",
      "[CV]  model__C=1, model__degree=4, model__gamma=scale, model__kernel=linear, preprocessor__num__imputer__strategy=mean, total=   0.4s\n",
      "[CV] model__C=1, model__degree=4, model__gamma=scale, model__kernel=linear, preprocessor__num__imputer__strategy=median \n"
     ]
    },
    {
     "name": "stdout",
     "output_type": "stream",
     "text": [
      "[CV]  model__C=1, model__degree=4, model__gamma=scale, model__kernel=linear, preprocessor__num__imputer__strategy=median, total=   0.4s\n",
      "[CV] model__C=1, model__degree=4, model__gamma=scale, model__kernel=linear, preprocessor__num__imputer__strategy=median \n",
      "[CV]  model__C=1, model__degree=4, model__gamma=scale, model__kernel=linear, preprocessor__num__imputer__strategy=median, total=   0.4s\n",
      "[CV] model__C=1, model__degree=4, model__gamma=scale, model__kernel=linear, preprocessor__num__imputer__strategy=median \n",
      "[CV]  model__C=1, model__degree=4, model__gamma=scale, model__kernel=linear, preprocessor__num__imputer__strategy=median, total=   0.4s\n",
      "[CV] model__C=1, model__degree=4, model__gamma=scale, model__kernel=linear, preprocessor__num__imputer__strategy=median \n",
      "[CV]  model__C=1, model__degree=4, model__gamma=scale, model__kernel=linear, preprocessor__num__imputer__strategy=median, total=   0.4s\n",
      "[CV] model__C=1, model__degree=4, model__gamma=scale, model__kernel=linear, preprocessor__num__imputer__strategy=median \n",
      "[CV]  model__C=1, model__degree=4, model__gamma=scale, model__kernel=linear, preprocessor__num__imputer__strategy=median, total=   0.4s\n",
      "[CV] model__C=1, model__degree=4, model__gamma=scale, model__kernel=rbf, preprocessor__num__imputer__strategy=mean \n",
      "[CV]  model__C=1, model__degree=4, model__gamma=scale, model__kernel=rbf, preprocessor__num__imputer__strategy=mean, total=   1.0s\n",
      "[CV] model__C=1, model__degree=4, model__gamma=scale, model__kernel=rbf, preprocessor__num__imputer__strategy=mean \n",
      "[CV]  model__C=1, model__degree=4, model__gamma=scale, model__kernel=rbf, preprocessor__num__imputer__strategy=mean, total=   1.0s\n",
      "[CV] model__C=1, model__degree=4, model__gamma=scale, model__kernel=rbf, preprocessor__num__imputer__strategy=mean \n",
      "[CV]  model__C=1, model__degree=4, model__gamma=scale, model__kernel=rbf, preprocessor__num__imputer__strategy=mean, total=   1.0s\n",
      "[CV] model__C=1, model__degree=4, model__gamma=scale, model__kernel=rbf, preprocessor__num__imputer__strategy=mean \n",
      "[CV]  model__C=1, model__degree=4, model__gamma=scale, model__kernel=rbf, preprocessor__num__imputer__strategy=mean, total=   0.9s\n",
      "[CV] model__C=1, model__degree=4, model__gamma=scale, model__kernel=rbf, preprocessor__num__imputer__strategy=mean \n",
      "[CV]  model__C=1, model__degree=4, model__gamma=scale, model__kernel=rbf, preprocessor__num__imputer__strategy=mean, total=   1.1s\n",
      "[CV] model__C=1, model__degree=4, model__gamma=scale, model__kernel=rbf, preprocessor__num__imputer__strategy=median \n",
      "[CV]  model__C=1, model__degree=4, model__gamma=scale, model__kernel=rbf, preprocessor__num__imputer__strategy=median, total=   1.0s\n",
      "[CV] model__C=1, model__degree=4, model__gamma=scale, model__kernel=rbf, preprocessor__num__imputer__strategy=median \n",
      "[CV]  model__C=1, model__degree=4, model__gamma=scale, model__kernel=rbf, preprocessor__num__imputer__strategy=median, total=   1.0s\n",
      "[CV] model__C=1, model__degree=4, model__gamma=scale, model__kernel=rbf, preprocessor__num__imputer__strategy=median \n",
      "[CV]  model__C=1, model__degree=4, model__gamma=scale, model__kernel=rbf, preprocessor__num__imputer__strategy=median, total=   1.0s\n",
      "[CV] model__C=1, model__degree=4, model__gamma=scale, model__kernel=rbf, preprocessor__num__imputer__strategy=median \n",
      "[CV]  model__C=1, model__degree=4, model__gamma=scale, model__kernel=rbf, preprocessor__num__imputer__strategy=median, total=   0.9s\n",
      "[CV] model__C=1, model__degree=4, model__gamma=scale, model__kernel=rbf, preprocessor__num__imputer__strategy=median \n",
      "[CV]  model__C=1, model__degree=4, model__gamma=scale, model__kernel=rbf, preprocessor__num__imputer__strategy=median, total=   1.0s\n",
      "[CV] model__C=1, model__degree=4, model__gamma=0.01, model__kernel=linear, preprocessor__num__imputer__strategy=mean \n",
      "[CV]  model__C=1, model__degree=4, model__gamma=0.01, model__kernel=linear, preprocessor__num__imputer__strategy=mean, total=   0.5s\n",
      "[CV] model__C=1, model__degree=4, model__gamma=0.01, model__kernel=linear, preprocessor__num__imputer__strategy=mean \n",
      "[CV]  model__C=1, model__degree=4, model__gamma=0.01, model__kernel=linear, preprocessor__num__imputer__strategy=mean, total=   0.4s\n",
      "[CV] model__C=1, model__degree=4, model__gamma=0.01, model__kernel=linear, preprocessor__num__imputer__strategy=mean \n",
      "[CV]  model__C=1, model__degree=4, model__gamma=0.01, model__kernel=linear, preprocessor__num__imputer__strategy=mean, total=   0.4s\n",
      "[CV] model__C=1, model__degree=4, model__gamma=0.01, model__kernel=linear, preprocessor__num__imputer__strategy=mean \n",
      "[CV]  model__C=1, model__degree=4, model__gamma=0.01, model__kernel=linear, preprocessor__num__imputer__strategy=mean, total=   0.4s\n",
      "[CV] model__C=1, model__degree=4, model__gamma=0.01, model__kernel=linear, preprocessor__num__imputer__strategy=mean \n",
      "[CV]  model__C=1, model__degree=4, model__gamma=0.01, model__kernel=linear, preprocessor__num__imputer__strategy=mean, total=   0.4s\n",
      "[CV] model__C=1, model__degree=4, model__gamma=0.01, model__kernel=linear, preprocessor__num__imputer__strategy=median \n",
      "[CV]  model__C=1, model__degree=4, model__gamma=0.01, model__kernel=linear, preprocessor__num__imputer__strategy=median, total=   0.4s\n",
      "[CV] model__C=1, model__degree=4, model__gamma=0.01, model__kernel=linear, preprocessor__num__imputer__strategy=median \n",
      "[CV]  model__C=1, model__degree=4, model__gamma=0.01, model__kernel=linear, preprocessor__num__imputer__strategy=median, total=   0.4s\n",
      "[CV] model__C=1, model__degree=4, model__gamma=0.01, model__kernel=linear, preprocessor__num__imputer__strategy=median \n",
      "[CV]  model__C=1, model__degree=4, model__gamma=0.01, model__kernel=linear, preprocessor__num__imputer__strategy=median, total=   0.4s\n",
      "[CV] model__C=1, model__degree=4, model__gamma=0.01, model__kernel=linear, preprocessor__num__imputer__strategy=median \n",
      "[CV]  model__C=1, model__degree=4, model__gamma=0.01, model__kernel=linear, preprocessor__num__imputer__strategy=median, total=   0.4s\n",
      "[CV] model__C=1, model__degree=4, model__gamma=0.01, model__kernel=linear, preprocessor__num__imputer__strategy=median \n",
      "[CV]  model__C=1, model__degree=4, model__gamma=0.01, model__kernel=linear, preprocessor__num__imputer__strategy=median, total=   0.4s\n",
      "[CV] model__C=1, model__degree=4, model__gamma=0.01, model__kernel=rbf, preprocessor__num__imputer__strategy=mean \n",
      "[CV]  model__C=1, model__degree=4, model__gamma=0.01, model__kernel=rbf, preprocessor__num__imputer__strategy=mean, total=   0.6s\n",
      "[CV] model__C=1, model__degree=4, model__gamma=0.01, model__kernel=rbf, preprocessor__num__imputer__strategy=mean \n",
      "[CV]  model__C=1, model__degree=4, model__gamma=0.01, model__kernel=rbf, preprocessor__num__imputer__strategy=mean, total=   0.6s\n",
      "[CV] model__C=1, model__degree=4, model__gamma=0.01, model__kernel=rbf, preprocessor__num__imputer__strategy=mean \n",
      "[CV]  model__C=1, model__degree=4, model__gamma=0.01, model__kernel=rbf, preprocessor__num__imputer__strategy=mean, total=   0.6s\n",
      "[CV] model__C=1, model__degree=4, model__gamma=0.01, model__kernel=rbf, preprocessor__num__imputer__strategy=mean \n",
      "[CV]  model__C=1, model__degree=4, model__gamma=0.01, model__kernel=rbf, preprocessor__num__imputer__strategy=mean, total=   0.6s\n",
      "[CV] model__C=1, model__degree=4, model__gamma=0.01, model__kernel=rbf, preprocessor__num__imputer__strategy=mean \n",
      "[CV]  model__C=1, model__degree=4, model__gamma=0.01, model__kernel=rbf, preprocessor__num__imputer__strategy=mean, total=   0.6s\n",
      "[CV] model__C=1, model__degree=4, model__gamma=0.01, model__kernel=rbf, preprocessor__num__imputer__strategy=median \n",
      "[CV]  model__C=1, model__degree=4, model__gamma=0.01, model__kernel=rbf, preprocessor__num__imputer__strategy=median, total=   0.6s\n",
      "[CV] model__C=1, model__degree=4, model__gamma=0.01, model__kernel=rbf, preprocessor__num__imputer__strategy=median \n",
      "[CV]  model__C=1, model__degree=4, model__gamma=0.01, model__kernel=rbf, preprocessor__num__imputer__strategy=median, total=   0.6s\n",
      "[CV] model__C=1, model__degree=4, model__gamma=0.01, model__kernel=rbf, preprocessor__num__imputer__strategy=median \n",
      "[CV]  model__C=1, model__degree=4, model__gamma=0.01, model__kernel=rbf, preprocessor__num__imputer__strategy=median, total=   0.6s\n",
      "[CV] model__C=1, model__degree=4, model__gamma=0.01, model__kernel=rbf, preprocessor__num__imputer__strategy=median \n"
     ]
    },
    {
     "name": "stdout",
     "output_type": "stream",
     "text": [
      "[CV]  model__C=1, model__degree=4, model__gamma=0.01, model__kernel=rbf, preprocessor__num__imputer__strategy=median, total=   0.6s\n",
      "[CV] model__C=1, model__degree=4, model__gamma=0.01, model__kernel=rbf, preprocessor__num__imputer__strategy=median \n",
      "[CV]  model__C=1, model__degree=4, model__gamma=0.01, model__kernel=rbf, preprocessor__num__imputer__strategy=median, total=   0.6s\n",
      "[CV] model__C=1, model__degree=5, model__gamma=auto, model__kernel=linear, preprocessor__num__imputer__strategy=mean \n",
      "[CV]  model__C=1, model__degree=5, model__gamma=auto, model__kernel=linear, preprocessor__num__imputer__strategy=mean, total=   0.4s\n",
      "[CV] model__C=1, model__degree=5, model__gamma=auto, model__kernel=linear, preprocessor__num__imputer__strategy=mean \n",
      "[CV]  model__C=1, model__degree=5, model__gamma=auto, model__kernel=linear, preprocessor__num__imputer__strategy=mean, total=   0.4s\n",
      "[CV] model__C=1, model__degree=5, model__gamma=auto, model__kernel=linear, preprocessor__num__imputer__strategy=mean \n",
      "[CV]  model__C=1, model__degree=5, model__gamma=auto, model__kernel=linear, preprocessor__num__imputer__strategy=mean, total=   0.4s\n",
      "[CV] model__C=1, model__degree=5, model__gamma=auto, model__kernel=linear, preprocessor__num__imputer__strategy=mean \n",
      "[CV]  model__C=1, model__degree=5, model__gamma=auto, model__kernel=linear, preprocessor__num__imputer__strategy=mean, total=   0.4s\n",
      "[CV] model__C=1, model__degree=5, model__gamma=auto, model__kernel=linear, preprocessor__num__imputer__strategy=mean \n",
      "[CV]  model__C=1, model__degree=5, model__gamma=auto, model__kernel=linear, preprocessor__num__imputer__strategy=mean, total=   0.4s\n",
      "[CV] model__C=1, model__degree=5, model__gamma=auto, model__kernel=linear, preprocessor__num__imputer__strategy=median \n",
      "[CV]  model__C=1, model__degree=5, model__gamma=auto, model__kernel=linear, preprocessor__num__imputer__strategy=median, total=   0.4s\n",
      "[CV] model__C=1, model__degree=5, model__gamma=auto, model__kernel=linear, preprocessor__num__imputer__strategy=median \n",
      "[CV]  model__C=1, model__degree=5, model__gamma=auto, model__kernel=linear, preprocessor__num__imputer__strategy=median, total=   0.4s\n",
      "[CV] model__C=1, model__degree=5, model__gamma=auto, model__kernel=linear, preprocessor__num__imputer__strategy=median \n",
      "[CV]  model__C=1, model__degree=5, model__gamma=auto, model__kernel=linear, preprocessor__num__imputer__strategy=median, total=   0.4s\n",
      "[CV] model__C=1, model__degree=5, model__gamma=auto, model__kernel=linear, preprocessor__num__imputer__strategy=median \n",
      "[CV]  model__C=1, model__degree=5, model__gamma=auto, model__kernel=linear, preprocessor__num__imputer__strategy=median, total=   0.4s\n",
      "[CV] model__C=1, model__degree=5, model__gamma=auto, model__kernel=linear, preprocessor__num__imputer__strategy=median \n",
      "[CV]  model__C=1, model__degree=5, model__gamma=auto, model__kernel=linear, preprocessor__num__imputer__strategy=median, total=   0.4s\n",
      "[CV] model__C=1, model__degree=5, model__gamma=auto, model__kernel=rbf, preprocessor__num__imputer__strategy=mean \n",
      "[CV]  model__C=1, model__degree=5, model__gamma=auto, model__kernel=rbf, preprocessor__num__imputer__strategy=mean, total=   0.8s\n",
      "[CV] model__C=1, model__degree=5, model__gamma=auto, model__kernel=rbf, preprocessor__num__imputer__strategy=mean \n",
      "[CV]  model__C=1, model__degree=5, model__gamma=auto, model__kernel=rbf, preprocessor__num__imputer__strategy=mean, total=   0.8s\n",
      "[CV] model__C=1, model__degree=5, model__gamma=auto, model__kernel=rbf, preprocessor__num__imputer__strategy=mean \n",
      "[CV]  model__C=1, model__degree=5, model__gamma=auto, model__kernel=rbf, preprocessor__num__imputer__strategy=mean, total=   0.8s\n",
      "[CV] model__C=1, model__degree=5, model__gamma=auto, model__kernel=rbf, preprocessor__num__imputer__strategy=mean \n",
      "[CV]  model__C=1, model__degree=5, model__gamma=auto, model__kernel=rbf, preprocessor__num__imputer__strategy=mean, total=   0.7s\n",
      "[CV] model__C=1, model__degree=5, model__gamma=auto, model__kernel=rbf, preprocessor__num__imputer__strategy=mean \n",
      "[CV]  model__C=1, model__degree=5, model__gamma=auto, model__kernel=rbf, preprocessor__num__imputer__strategy=mean, total=   0.9s\n",
      "[CV] model__C=1, model__degree=5, model__gamma=auto, model__kernel=rbf, preprocessor__num__imputer__strategy=median \n",
      "[CV]  model__C=1, model__degree=5, model__gamma=auto, model__kernel=rbf, preprocessor__num__imputer__strategy=median, total=   0.8s\n",
      "[CV] model__C=1, model__degree=5, model__gamma=auto, model__kernel=rbf, preprocessor__num__imputer__strategy=median \n",
      "[CV]  model__C=1, model__degree=5, model__gamma=auto, model__kernel=rbf, preprocessor__num__imputer__strategy=median, total=   1.0s\n",
      "[CV] model__C=1, model__degree=5, model__gamma=auto, model__kernel=rbf, preprocessor__num__imputer__strategy=median \n",
      "[CV]  model__C=1, model__degree=5, model__gamma=auto, model__kernel=rbf, preprocessor__num__imputer__strategy=median, total=   1.0s\n",
      "[CV] model__C=1, model__degree=5, model__gamma=auto, model__kernel=rbf, preprocessor__num__imputer__strategy=median \n",
      "[CV]  model__C=1, model__degree=5, model__gamma=auto, model__kernel=rbf, preprocessor__num__imputer__strategy=median, total=   0.9s\n",
      "[CV] model__C=1, model__degree=5, model__gamma=auto, model__kernel=rbf, preprocessor__num__imputer__strategy=median \n",
      "[CV]  model__C=1, model__degree=5, model__gamma=auto, model__kernel=rbf, preprocessor__num__imputer__strategy=median, total=   1.1s\n",
      "[CV] model__C=1, model__degree=5, model__gamma=scale, model__kernel=linear, preprocessor__num__imputer__strategy=mean \n",
      "[CV]  model__C=1, model__degree=5, model__gamma=scale, model__kernel=linear, preprocessor__num__imputer__strategy=mean, total=   0.5s\n",
      "[CV] model__C=1, model__degree=5, model__gamma=scale, model__kernel=linear, preprocessor__num__imputer__strategy=mean \n",
      "[CV]  model__C=1, model__degree=5, model__gamma=scale, model__kernel=linear, preprocessor__num__imputer__strategy=mean, total=   0.5s\n",
      "[CV] model__C=1, model__degree=5, model__gamma=scale, model__kernel=linear, preprocessor__num__imputer__strategy=mean \n",
      "[CV]  model__C=1, model__degree=5, model__gamma=scale, model__kernel=linear, preprocessor__num__imputer__strategy=mean, total=   0.5s\n",
      "[CV] model__C=1, model__degree=5, model__gamma=scale, model__kernel=linear, preprocessor__num__imputer__strategy=mean \n",
      "[CV]  model__C=1, model__degree=5, model__gamma=scale, model__kernel=linear, preprocessor__num__imputer__strategy=mean, total=   0.4s\n",
      "[CV] model__C=1, model__degree=5, model__gamma=scale, model__kernel=linear, preprocessor__num__imputer__strategy=mean \n",
      "[CV]  model__C=1, model__degree=5, model__gamma=scale, model__kernel=linear, preprocessor__num__imputer__strategy=mean, total=   0.5s\n",
      "[CV] model__C=1, model__degree=5, model__gamma=scale, model__kernel=linear, preprocessor__num__imputer__strategy=median \n",
      "[CV]  model__C=1, model__degree=5, model__gamma=scale, model__kernel=linear, preprocessor__num__imputer__strategy=median, total=   0.5s\n",
      "[CV] model__C=1, model__degree=5, model__gamma=scale, model__kernel=linear, preprocessor__num__imputer__strategy=median \n",
      "[CV]  model__C=1, model__degree=5, model__gamma=scale, model__kernel=linear, preprocessor__num__imputer__strategy=median, total=   0.5s\n",
      "[CV] model__C=1, model__degree=5, model__gamma=scale, model__kernel=linear, preprocessor__num__imputer__strategy=median \n",
      "[CV]  model__C=1, model__degree=5, model__gamma=scale, model__kernel=linear, preprocessor__num__imputer__strategy=median, total=   0.5s\n",
      "[CV] model__C=1, model__degree=5, model__gamma=scale, model__kernel=linear, preprocessor__num__imputer__strategy=median \n",
      "[CV]  model__C=1, model__degree=5, model__gamma=scale, model__kernel=linear, preprocessor__num__imputer__strategy=median, total=   0.4s\n",
      "[CV] model__C=1, model__degree=5, model__gamma=scale, model__kernel=linear, preprocessor__num__imputer__strategy=median \n",
      "[CV]  model__C=1, model__degree=5, model__gamma=scale, model__kernel=linear, preprocessor__num__imputer__strategy=median, total=   0.4s\n",
      "[CV] model__C=1, model__degree=5, model__gamma=scale, model__kernel=rbf, preprocessor__num__imputer__strategy=mean \n",
      "[CV]  model__C=1, model__degree=5, model__gamma=scale, model__kernel=rbf, preprocessor__num__imputer__strategy=mean, total=   0.8s\n",
      "[CV] model__C=1, model__degree=5, model__gamma=scale, model__kernel=rbf, preprocessor__num__imputer__strategy=mean \n"
     ]
    },
    {
     "name": "stdout",
     "output_type": "stream",
     "text": [
      "[CV]  model__C=1, model__degree=5, model__gamma=scale, model__kernel=rbf, preprocessor__num__imputer__strategy=mean, total=   0.8s\n",
      "[CV] model__C=1, model__degree=5, model__gamma=scale, model__kernel=rbf, preprocessor__num__imputer__strategy=mean \n",
      "[CV]  model__C=1, model__degree=5, model__gamma=scale, model__kernel=rbf, preprocessor__num__imputer__strategy=mean, total=   0.8s\n",
      "[CV] model__C=1, model__degree=5, model__gamma=scale, model__kernel=rbf, preprocessor__num__imputer__strategy=mean \n",
      "[CV]  model__C=1, model__degree=5, model__gamma=scale, model__kernel=rbf, preprocessor__num__imputer__strategy=mean, total=   0.7s\n",
      "[CV] model__C=1, model__degree=5, model__gamma=scale, model__kernel=rbf, preprocessor__num__imputer__strategy=mean \n",
      "[CV]  model__C=1, model__degree=5, model__gamma=scale, model__kernel=rbf, preprocessor__num__imputer__strategy=mean, total=   0.9s\n",
      "[CV] model__C=1, model__degree=5, model__gamma=scale, model__kernel=rbf, preprocessor__num__imputer__strategy=median \n",
      "[CV]  model__C=1, model__degree=5, model__gamma=scale, model__kernel=rbf, preprocessor__num__imputer__strategy=median, total=   0.8s\n",
      "[CV] model__C=1, model__degree=5, model__gamma=scale, model__kernel=rbf, preprocessor__num__imputer__strategy=median \n",
      "[CV]  model__C=1, model__degree=5, model__gamma=scale, model__kernel=rbf, preprocessor__num__imputer__strategy=median, total=   0.8s\n",
      "[CV] model__C=1, model__degree=5, model__gamma=scale, model__kernel=rbf, preprocessor__num__imputer__strategy=median \n",
      "[CV]  model__C=1, model__degree=5, model__gamma=scale, model__kernel=rbf, preprocessor__num__imputer__strategy=median, total=   0.8s\n",
      "[CV] model__C=1, model__degree=5, model__gamma=scale, model__kernel=rbf, preprocessor__num__imputer__strategy=median \n",
      "[CV]  model__C=1, model__degree=5, model__gamma=scale, model__kernel=rbf, preprocessor__num__imputer__strategy=median, total=   0.7s\n",
      "[CV] model__C=1, model__degree=5, model__gamma=scale, model__kernel=rbf, preprocessor__num__imputer__strategy=median \n",
      "[CV]  model__C=1, model__degree=5, model__gamma=scale, model__kernel=rbf, preprocessor__num__imputer__strategy=median, total=   0.9s\n",
      "[CV] model__C=1, model__degree=5, model__gamma=0.01, model__kernel=linear, preprocessor__num__imputer__strategy=mean \n",
      "[CV]  model__C=1, model__degree=5, model__gamma=0.01, model__kernel=linear, preprocessor__num__imputer__strategy=mean, total=   0.4s\n",
      "[CV] model__C=1, model__degree=5, model__gamma=0.01, model__kernel=linear, preprocessor__num__imputer__strategy=mean \n",
      "[CV]  model__C=1, model__degree=5, model__gamma=0.01, model__kernel=linear, preprocessor__num__imputer__strategy=mean, total=   0.4s\n",
      "[CV] model__C=1, model__degree=5, model__gamma=0.01, model__kernel=linear, preprocessor__num__imputer__strategy=mean \n",
      "[CV]  model__C=1, model__degree=5, model__gamma=0.01, model__kernel=linear, preprocessor__num__imputer__strategy=mean, total=   0.4s\n",
      "[CV] model__C=1, model__degree=5, model__gamma=0.01, model__kernel=linear, preprocessor__num__imputer__strategy=mean \n",
      "[CV]  model__C=1, model__degree=5, model__gamma=0.01, model__kernel=linear, preprocessor__num__imputer__strategy=mean, total=   0.4s\n",
      "[CV] model__C=1, model__degree=5, model__gamma=0.01, model__kernel=linear, preprocessor__num__imputer__strategy=mean \n",
      "[CV]  model__C=1, model__degree=5, model__gamma=0.01, model__kernel=linear, preprocessor__num__imputer__strategy=mean, total=   0.6s\n",
      "[CV] model__C=1, model__degree=5, model__gamma=0.01, model__kernel=linear, preprocessor__num__imputer__strategy=median \n",
      "[CV]  model__C=1, model__degree=5, model__gamma=0.01, model__kernel=linear, preprocessor__num__imputer__strategy=median, total=   0.4s\n",
      "[CV] model__C=1, model__degree=5, model__gamma=0.01, model__kernel=linear, preprocessor__num__imputer__strategy=median \n",
      "[CV]  model__C=1, model__degree=5, model__gamma=0.01, model__kernel=linear, preprocessor__num__imputer__strategy=median, total=   0.4s\n",
      "[CV] model__C=1, model__degree=5, model__gamma=0.01, model__kernel=linear, preprocessor__num__imputer__strategy=median \n",
      "[CV]  model__C=1, model__degree=5, model__gamma=0.01, model__kernel=linear, preprocessor__num__imputer__strategy=median, total=   0.4s\n",
      "[CV] model__C=1, model__degree=5, model__gamma=0.01, model__kernel=linear, preprocessor__num__imputer__strategy=median \n",
      "[CV]  model__C=1, model__degree=5, model__gamma=0.01, model__kernel=linear, preprocessor__num__imputer__strategy=median, total=   0.4s\n",
      "[CV] model__C=1, model__degree=5, model__gamma=0.01, model__kernel=linear, preprocessor__num__imputer__strategy=median \n",
      "[CV]  model__C=1, model__degree=5, model__gamma=0.01, model__kernel=linear, preprocessor__num__imputer__strategy=median, total=   0.4s\n",
      "[CV] model__C=1, model__degree=5, model__gamma=0.01, model__kernel=rbf, preprocessor__num__imputer__strategy=mean \n",
      "[CV]  model__C=1, model__degree=5, model__gamma=0.01, model__kernel=rbf, preprocessor__num__imputer__strategy=mean, total=   0.6s\n",
      "[CV] model__C=1, model__degree=5, model__gamma=0.01, model__kernel=rbf, preprocessor__num__imputer__strategy=mean \n",
      "[CV]  model__C=1, model__degree=5, model__gamma=0.01, model__kernel=rbf, preprocessor__num__imputer__strategy=mean, total=   0.6s\n",
      "[CV] model__C=1, model__degree=5, model__gamma=0.01, model__kernel=rbf, preprocessor__num__imputer__strategy=mean \n",
      "[CV]  model__C=1, model__degree=5, model__gamma=0.01, model__kernel=rbf, preprocessor__num__imputer__strategy=mean, total=   0.7s\n",
      "[CV] model__C=1, model__degree=5, model__gamma=0.01, model__kernel=rbf, preprocessor__num__imputer__strategy=mean \n",
      "[CV]  model__C=1, model__degree=5, model__gamma=0.01, model__kernel=rbf, preprocessor__num__imputer__strategy=mean, total=   0.7s\n",
      "[CV] model__C=1, model__degree=5, model__gamma=0.01, model__kernel=rbf, preprocessor__num__imputer__strategy=mean \n",
      "[CV]  model__C=1, model__degree=5, model__gamma=0.01, model__kernel=rbf, preprocessor__num__imputer__strategy=mean, total=   0.7s\n",
      "[CV] model__C=1, model__degree=5, model__gamma=0.01, model__kernel=rbf, preprocessor__num__imputer__strategy=median \n",
      "[CV]  model__C=1, model__degree=5, model__gamma=0.01, model__kernel=rbf, preprocessor__num__imputer__strategy=median, total=   0.8s\n",
      "[CV] model__C=1, model__degree=5, model__gamma=0.01, model__kernel=rbf, preprocessor__num__imputer__strategy=median \n",
      "[CV]  model__C=1, model__degree=5, model__gamma=0.01, model__kernel=rbf, preprocessor__num__imputer__strategy=median, total=   0.7s\n",
      "[CV] model__C=1, model__degree=5, model__gamma=0.01, model__kernel=rbf, preprocessor__num__imputer__strategy=median \n",
      "[CV]  model__C=1, model__degree=5, model__gamma=0.01, model__kernel=rbf, preprocessor__num__imputer__strategy=median, total=   0.7s\n",
      "[CV] model__C=1, model__degree=5, model__gamma=0.01, model__kernel=rbf, preprocessor__num__imputer__strategy=median \n",
      "[CV]  model__C=1, model__degree=5, model__gamma=0.01, model__kernel=rbf, preprocessor__num__imputer__strategy=median, total=   0.8s\n",
      "[CV] model__C=1, model__degree=5, model__gamma=0.01, model__kernel=rbf, preprocessor__num__imputer__strategy=median \n",
      "[CV]  model__C=1, model__degree=5, model__gamma=0.01, model__kernel=rbf, preprocessor__num__imputer__strategy=median, total=   0.7s\n",
      "[CV] model__C=10, model__degree=3, model__gamma=auto, model__kernel=linear, preprocessor__num__imputer__strategy=mean \n",
      "[CV]  model__C=10, model__degree=3, model__gamma=auto, model__kernel=linear, preprocessor__num__imputer__strategy=mean, total=   0.7s\n",
      "[CV] model__C=10, model__degree=3, model__gamma=auto, model__kernel=linear, preprocessor__num__imputer__strategy=mean \n",
      "[CV]  model__C=10, model__degree=3, model__gamma=auto, model__kernel=linear, preprocessor__num__imputer__strategy=mean, total=   0.7s\n",
      "[CV] model__C=10, model__degree=3, model__gamma=auto, model__kernel=linear, preprocessor__num__imputer__strategy=mean \n",
      "[CV]  model__C=10, model__degree=3, model__gamma=auto, model__kernel=linear, preprocessor__num__imputer__strategy=mean, total=   1.4s\n",
      "[CV] model__C=10, model__degree=3, model__gamma=auto, model__kernel=linear, preprocessor__num__imputer__strategy=mean \n",
      "[CV]  model__C=10, model__degree=3, model__gamma=auto, model__kernel=linear, preprocessor__num__imputer__strategy=mean, total=  16.7s\n",
      "[CV] model__C=10, model__degree=3, model__gamma=auto, model__kernel=linear, preprocessor__num__imputer__strategy=mean \n"
     ]
    },
    {
     "name": "stdout",
     "output_type": "stream",
     "text": [
      "[CV]  model__C=10, model__degree=3, model__gamma=auto, model__kernel=linear, preprocessor__num__imputer__strategy=mean, total=   0.6s\n",
      "[CV] model__C=10, model__degree=3, model__gamma=auto, model__kernel=linear, preprocessor__num__imputer__strategy=median \n",
      "[CV]  model__C=10, model__degree=3, model__gamma=auto, model__kernel=linear, preprocessor__num__imputer__strategy=median, total=   0.6s\n",
      "[CV] model__C=10, model__degree=3, model__gamma=auto, model__kernel=linear, preprocessor__num__imputer__strategy=median \n",
      "[CV]  model__C=10, model__degree=3, model__gamma=auto, model__kernel=linear, preprocessor__num__imputer__strategy=median, total=   0.6s\n",
      "[CV] model__C=10, model__degree=3, model__gamma=auto, model__kernel=linear, preprocessor__num__imputer__strategy=median \n",
      "[CV]  model__C=10, model__degree=3, model__gamma=auto, model__kernel=linear, preprocessor__num__imputer__strategy=median, total=   0.6s\n",
      "[CV] model__C=10, model__degree=3, model__gamma=auto, model__kernel=linear, preprocessor__num__imputer__strategy=median \n",
      "[CV]  model__C=10, model__degree=3, model__gamma=auto, model__kernel=linear, preprocessor__num__imputer__strategy=median, total=   0.8s\n",
      "[CV] model__C=10, model__degree=3, model__gamma=auto, model__kernel=linear, preprocessor__num__imputer__strategy=median \n",
      "[CV]  model__C=10, model__degree=3, model__gamma=auto, model__kernel=linear, preprocessor__num__imputer__strategy=median, total=   0.7s\n",
      "[CV] model__C=10, model__degree=3, model__gamma=auto, model__kernel=rbf, preprocessor__num__imputer__strategy=mean \n",
      "[CV]  model__C=10, model__degree=3, model__gamma=auto, model__kernel=rbf, preprocessor__num__imputer__strategy=mean, total=   1.4s\n",
      "[CV] model__C=10, model__degree=3, model__gamma=auto, model__kernel=rbf, preprocessor__num__imputer__strategy=mean \n",
      "[CV]  model__C=10, model__degree=3, model__gamma=auto, model__kernel=rbf, preprocessor__num__imputer__strategy=mean, total=   1.5s\n",
      "[CV] model__C=10, model__degree=3, model__gamma=auto, model__kernel=rbf, preprocessor__num__imputer__strategy=mean \n",
      "[CV]  model__C=10, model__degree=3, model__gamma=auto, model__kernel=rbf, preprocessor__num__imputer__strategy=mean, total=   1.5s\n",
      "[CV] model__C=10, model__degree=3, model__gamma=auto, model__kernel=rbf, preprocessor__num__imputer__strategy=mean \n",
      "[CV]  model__C=10, model__degree=3, model__gamma=auto, model__kernel=rbf, preprocessor__num__imputer__strategy=mean, total=   1.2s\n",
      "[CV] model__C=10, model__degree=3, model__gamma=auto, model__kernel=rbf, preprocessor__num__imputer__strategy=mean \n",
      "[CV]  model__C=10, model__degree=3, model__gamma=auto, model__kernel=rbf, preprocessor__num__imputer__strategy=mean, total=   1.2s\n",
      "[CV] model__C=10, model__degree=3, model__gamma=auto, model__kernel=rbf, preprocessor__num__imputer__strategy=median \n",
      "[CV]  model__C=10, model__degree=3, model__gamma=auto, model__kernel=rbf, preprocessor__num__imputer__strategy=median, total=   1.1s\n",
      "[CV] model__C=10, model__degree=3, model__gamma=auto, model__kernel=rbf, preprocessor__num__imputer__strategy=median \n",
      "[CV]  model__C=10, model__degree=3, model__gamma=auto, model__kernel=rbf, preprocessor__num__imputer__strategy=median, total=   1.4s\n",
      "[CV] model__C=10, model__degree=3, model__gamma=auto, model__kernel=rbf, preprocessor__num__imputer__strategy=median \n",
      "[CV]  model__C=10, model__degree=3, model__gamma=auto, model__kernel=rbf, preprocessor__num__imputer__strategy=median, total=   1.2s\n",
      "[CV] model__C=10, model__degree=3, model__gamma=auto, model__kernel=rbf, preprocessor__num__imputer__strategy=median \n",
      "[CV]  model__C=10, model__degree=3, model__gamma=auto, model__kernel=rbf, preprocessor__num__imputer__strategy=median, total=   1.2s\n",
      "[CV] model__C=10, model__degree=3, model__gamma=auto, model__kernel=rbf, preprocessor__num__imputer__strategy=median \n",
      "[CV]  model__C=10, model__degree=3, model__gamma=auto, model__kernel=rbf, preprocessor__num__imputer__strategy=median, total=   1.2s\n",
      "[CV] model__C=10, model__degree=3, model__gamma=scale, model__kernel=linear, preprocessor__num__imputer__strategy=mean \n",
      "[CV]  model__C=10, model__degree=3, model__gamma=scale, model__kernel=linear, preprocessor__num__imputer__strategy=mean, total=   0.5s\n",
      "[CV] model__C=10, model__degree=3, model__gamma=scale, model__kernel=linear, preprocessor__num__imputer__strategy=mean \n",
      "[CV]  model__C=10, model__degree=3, model__gamma=scale, model__kernel=linear, preprocessor__num__imputer__strategy=mean, total=   0.6s\n",
      "[CV] model__C=10, model__degree=3, model__gamma=scale, model__kernel=linear, preprocessor__num__imputer__strategy=mean \n",
      "[CV]  model__C=10, model__degree=3, model__gamma=scale, model__kernel=linear, preprocessor__num__imputer__strategy=mean, total=   1.4s\n",
      "[CV] model__C=10, model__degree=3, model__gamma=scale, model__kernel=linear, preprocessor__num__imputer__strategy=mean \n",
      "[CV]  model__C=10, model__degree=3, model__gamma=scale, model__kernel=linear, preprocessor__num__imputer__strategy=mean, total=  17.3s\n",
      "[CV] model__C=10, model__degree=3, model__gamma=scale, model__kernel=linear, preprocessor__num__imputer__strategy=mean \n",
      "[CV]  model__C=10, model__degree=3, model__gamma=scale, model__kernel=linear, preprocessor__num__imputer__strategy=mean, total=   0.6s\n",
      "[CV] model__C=10, model__degree=3, model__gamma=scale, model__kernel=linear, preprocessor__num__imputer__strategy=median \n",
      "[CV]  model__C=10, model__degree=3, model__gamma=scale, model__kernel=linear, preprocessor__num__imputer__strategy=median, total=   0.6s\n",
      "[CV] model__C=10, model__degree=3, model__gamma=scale, model__kernel=linear, preprocessor__num__imputer__strategy=median \n",
      "[CV]  model__C=10, model__degree=3, model__gamma=scale, model__kernel=linear, preprocessor__num__imputer__strategy=median, total=   0.8s\n",
      "[CV] model__C=10, model__degree=3, model__gamma=scale, model__kernel=linear, preprocessor__num__imputer__strategy=median \n",
      "[CV]  model__C=10, model__degree=3, model__gamma=scale, model__kernel=linear, preprocessor__num__imputer__strategy=median, total=   0.7s\n",
      "[CV] model__C=10, model__degree=3, model__gamma=scale, model__kernel=linear, preprocessor__num__imputer__strategy=median \n",
      "[CV]  model__C=10, model__degree=3, model__gamma=scale, model__kernel=linear, preprocessor__num__imputer__strategy=median, total=   0.8s\n",
      "[CV] model__C=10, model__degree=3, model__gamma=scale, model__kernel=linear, preprocessor__num__imputer__strategy=median \n",
      "[CV]  model__C=10, model__degree=3, model__gamma=scale, model__kernel=linear, preprocessor__num__imputer__strategy=median, total=   0.7s\n",
      "[CV] model__C=10, model__degree=3, model__gamma=scale, model__kernel=rbf, preprocessor__num__imputer__strategy=mean \n",
      "[CV]  model__C=10, model__degree=3, model__gamma=scale, model__kernel=rbf, preprocessor__num__imputer__strategy=mean, total=   1.4s\n",
      "[CV] model__C=10, model__degree=3, model__gamma=scale, model__kernel=rbf, preprocessor__num__imputer__strategy=mean \n",
      "[CV]  model__C=10, model__degree=3, model__gamma=scale, model__kernel=rbf, preprocessor__num__imputer__strategy=mean, total=   1.6s\n",
      "[CV] model__C=10, model__degree=3, model__gamma=scale, model__kernel=rbf, preprocessor__num__imputer__strategy=mean \n",
      "[CV]  model__C=10, model__degree=3, model__gamma=scale, model__kernel=rbf, preprocessor__num__imputer__strategy=mean, total=   1.5s\n",
      "[CV] model__C=10, model__degree=3, model__gamma=scale, model__kernel=rbf, preprocessor__num__imputer__strategy=mean \n",
      "[CV]  model__C=10, model__degree=3, model__gamma=scale, model__kernel=rbf, preprocessor__num__imputer__strategy=mean, total=   1.1s\n",
      "[CV] model__C=10, model__degree=3, model__gamma=scale, model__kernel=rbf, preprocessor__num__imputer__strategy=mean \n",
      "[CV]  model__C=10, model__degree=3, model__gamma=scale, model__kernel=rbf, preprocessor__num__imputer__strategy=mean, total=   1.2s\n",
      "[CV] model__C=10, model__degree=3, model__gamma=scale, model__kernel=rbf, preprocessor__num__imputer__strategy=median \n",
      "[CV]  model__C=10, model__degree=3, model__gamma=scale, model__kernel=rbf, preprocessor__num__imputer__strategy=median, total=   1.2s\n",
      "[CV] model__C=10, model__degree=3, model__gamma=scale, model__kernel=rbf, preprocessor__num__imputer__strategy=median \n",
      "[CV]  model__C=10, model__degree=3, model__gamma=scale, model__kernel=rbf, preprocessor__num__imputer__strategy=median, total=   1.4s\n",
      "[CV] model__C=10, model__degree=3, model__gamma=scale, model__kernel=rbf, preprocessor__num__imputer__strategy=median \n"
     ]
    },
    {
     "name": "stdout",
     "output_type": "stream",
     "text": [
      "[CV]  model__C=10, model__degree=3, model__gamma=scale, model__kernel=rbf, preprocessor__num__imputer__strategy=median, total=   1.2s\n",
      "[CV] model__C=10, model__degree=3, model__gamma=scale, model__kernel=rbf, preprocessor__num__imputer__strategy=median \n",
      "[CV]  model__C=10, model__degree=3, model__gamma=scale, model__kernel=rbf, preprocessor__num__imputer__strategy=median, total=   1.2s\n",
      "[CV] model__C=10, model__degree=3, model__gamma=scale, model__kernel=rbf, preprocessor__num__imputer__strategy=median \n",
      "[CV]  model__C=10, model__degree=3, model__gamma=scale, model__kernel=rbf, preprocessor__num__imputer__strategy=median, total=   1.2s\n",
      "[CV] model__C=10, model__degree=3, model__gamma=0.01, model__kernel=linear, preprocessor__num__imputer__strategy=mean \n",
      "[CV]  model__C=10, model__degree=3, model__gamma=0.01, model__kernel=linear, preprocessor__num__imputer__strategy=mean, total=   0.6s\n",
      "[CV] model__C=10, model__degree=3, model__gamma=0.01, model__kernel=linear, preprocessor__num__imputer__strategy=mean \n",
      "[CV]  model__C=10, model__degree=3, model__gamma=0.01, model__kernel=linear, preprocessor__num__imputer__strategy=mean, total=   0.6s\n",
      "[CV] model__C=10, model__degree=3, model__gamma=0.01, model__kernel=linear, preprocessor__num__imputer__strategy=mean \n",
      "[CV]  model__C=10, model__degree=3, model__gamma=0.01, model__kernel=linear, preprocessor__num__imputer__strategy=mean, total=   1.3s\n",
      "[CV] model__C=10, model__degree=3, model__gamma=0.01, model__kernel=linear, preprocessor__num__imputer__strategy=mean \n",
      "[CV]  model__C=10, model__degree=3, model__gamma=0.01, model__kernel=linear, preprocessor__num__imputer__strategy=mean, total=  17.1s\n",
      "[CV] model__C=10, model__degree=3, model__gamma=0.01, model__kernel=linear, preprocessor__num__imputer__strategy=mean \n",
      "[CV]  model__C=10, model__degree=3, model__gamma=0.01, model__kernel=linear, preprocessor__num__imputer__strategy=mean, total=   0.7s\n",
      "[CV] model__C=10, model__degree=3, model__gamma=0.01, model__kernel=linear, preprocessor__num__imputer__strategy=median \n",
      "[CV]  model__C=10, model__degree=3, model__gamma=0.01, model__kernel=linear, preprocessor__num__imputer__strategy=median, total=   0.7s\n",
      "[CV] model__C=10, model__degree=3, model__gamma=0.01, model__kernel=linear, preprocessor__num__imputer__strategy=median \n",
      "[CV]  model__C=10, model__degree=3, model__gamma=0.01, model__kernel=linear, preprocessor__num__imputer__strategy=median, total=   0.8s\n",
      "[CV] model__C=10, model__degree=3, model__gamma=0.01, model__kernel=linear, preprocessor__num__imputer__strategy=median \n",
      "[CV]  model__C=10, model__degree=3, model__gamma=0.01, model__kernel=linear, preprocessor__num__imputer__strategy=median, total=   0.7s\n",
      "[CV] model__C=10, model__degree=3, model__gamma=0.01, model__kernel=linear, preprocessor__num__imputer__strategy=median \n",
      "[CV]  model__C=10, model__degree=3, model__gamma=0.01, model__kernel=linear, preprocessor__num__imputer__strategy=median, total=   0.8s\n",
      "[CV] model__C=10, model__degree=3, model__gamma=0.01, model__kernel=linear, preprocessor__num__imputer__strategy=median \n",
      "[CV]  model__C=10, model__degree=3, model__gamma=0.01, model__kernel=linear, preprocessor__num__imputer__strategy=median, total=   0.7s\n",
      "[CV] model__C=10, model__degree=3, model__gamma=0.01, model__kernel=rbf, preprocessor__num__imputer__strategy=mean \n",
      "[CV]  model__C=10, model__degree=3, model__gamma=0.01, model__kernel=rbf, preprocessor__num__imputer__strategy=mean, total=   1.8s\n",
      "[CV] model__C=10, model__degree=3, model__gamma=0.01, model__kernel=rbf, preprocessor__num__imputer__strategy=mean \n",
      "[CV]  model__C=10, model__degree=3, model__gamma=0.01, model__kernel=rbf, preprocessor__num__imputer__strategy=mean, total=   1.6s\n",
      "[CV] model__C=10, model__degree=3, model__gamma=0.01, model__kernel=rbf, preprocessor__num__imputer__strategy=mean \n",
      "[CV]  model__C=10, model__degree=3, model__gamma=0.01, model__kernel=rbf, preprocessor__num__imputer__strategy=mean, total=   1.5s\n",
      "[CV] model__C=10, model__degree=3, model__gamma=0.01, model__kernel=rbf, preprocessor__num__imputer__strategy=mean \n",
      "[CV]  model__C=10, model__degree=3, model__gamma=0.01, model__kernel=rbf, preprocessor__num__imputer__strategy=mean, total=   1.5s\n",
      "[CV] model__C=10, model__degree=3, model__gamma=0.01, model__kernel=rbf, preprocessor__num__imputer__strategy=mean \n",
      "[CV]  model__C=10, model__degree=3, model__gamma=0.01, model__kernel=rbf, preprocessor__num__imputer__strategy=mean, total=   1.1s\n",
      "[CV] model__C=10, model__degree=3, model__gamma=0.01, model__kernel=rbf, preprocessor__num__imputer__strategy=median \n",
      "[CV]  model__C=10, model__degree=3, model__gamma=0.01, model__kernel=rbf, preprocessor__num__imputer__strategy=median, total=   1.4s\n",
      "[CV] model__C=10, model__degree=3, model__gamma=0.01, model__kernel=rbf, preprocessor__num__imputer__strategy=median \n",
      "[CV]  model__C=10, model__degree=3, model__gamma=0.01, model__kernel=rbf, preprocessor__num__imputer__strategy=median, total=   1.3s\n",
      "[CV] model__C=10, model__degree=3, model__gamma=0.01, model__kernel=rbf, preprocessor__num__imputer__strategy=median \n",
      "[CV]  model__C=10, model__degree=3, model__gamma=0.01, model__kernel=rbf, preprocessor__num__imputer__strategy=median, total=   1.6s\n",
      "[CV] model__C=10, model__degree=3, model__gamma=0.01, model__kernel=rbf, preprocessor__num__imputer__strategy=median \n",
      "[CV]  model__C=10, model__degree=3, model__gamma=0.01, model__kernel=rbf, preprocessor__num__imputer__strategy=median, total=   1.4s\n",
      "[CV] model__C=10, model__degree=3, model__gamma=0.01, model__kernel=rbf, preprocessor__num__imputer__strategy=median \n",
      "[CV]  model__C=10, model__degree=3, model__gamma=0.01, model__kernel=rbf, preprocessor__num__imputer__strategy=median, total=   1.3s\n",
      "[CV] model__C=10, model__degree=4, model__gamma=auto, model__kernel=linear, preprocessor__num__imputer__strategy=mean \n",
      "[CV]  model__C=10, model__degree=4, model__gamma=auto, model__kernel=linear, preprocessor__num__imputer__strategy=mean, total=   0.7s\n",
      "[CV] model__C=10, model__degree=4, model__gamma=auto, model__kernel=linear, preprocessor__num__imputer__strategy=mean \n",
      "[CV]  model__C=10, model__degree=4, model__gamma=auto, model__kernel=linear, preprocessor__num__imputer__strategy=mean, total=   0.7s\n",
      "[CV] model__C=10, model__degree=4, model__gamma=auto, model__kernel=linear, preprocessor__num__imputer__strategy=mean \n",
      "[CV]  model__C=10, model__degree=4, model__gamma=auto, model__kernel=linear, preprocessor__num__imputer__strategy=mean, total=   1.7s\n",
      "[CV] model__C=10, model__degree=4, model__gamma=auto, model__kernel=linear, preprocessor__num__imputer__strategy=mean \n",
      "[CV]  model__C=10, model__degree=4, model__gamma=auto, model__kernel=linear, preprocessor__num__imputer__strategy=mean, total=  17.7s\n",
      "[CV] model__C=10, model__degree=4, model__gamma=auto, model__kernel=linear, preprocessor__num__imputer__strategy=mean \n",
      "[CV]  model__C=10, model__degree=4, model__gamma=auto, model__kernel=linear, preprocessor__num__imputer__strategy=mean, total=   0.7s\n",
      "[CV] model__C=10, model__degree=4, model__gamma=auto, model__kernel=linear, preprocessor__num__imputer__strategy=median \n",
      "[CV]  model__C=10, model__degree=4, model__gamma=auto, model__kernel=linear, preprocessor__num__imputer__strategy=median, total=   0.7s\n",
      "[CV] model__C=10, model__degree=4, model__gamma=auto, model__kernel=linear, preprocessor__num__imputer__strategy=median \n",
      "[CV]  model__C=10, model__degree=4, model__gamma=auto, model__kernel=linear, preprocessor__num__imputer__strategy=median, total=   0.8s\n",
      "[CV] model__C=10, model__degree=4, model__gamma=auto, model__kernel=linear, preprocessor__num__imputer__strategy=median \n",
      "[CV]  model__C=10, model__degree=4, model__gamma=auto, model__kernel=linear, preprocessor__num__imputer__strategy=median, total=   0.5s\n",
      "[CV] model__C=10, model__degree=4, model__gamma=auto, model__kernel=linear, preprocessor__num__imputer__strategy=median \n",
      "[CV]  model__C=10, model__degree=4, model__gamma=auto, model__kernel=linear, preprocessor__num__imputer__strategy=median, total=   0.7s\n",
      "[CV] model__C=10, model__degree=4, model__gamma=auto, model__kernel=linear, preprocessor__num__imputer__strategy=median \n",
      "[CV]  model__C=10, model__degree=4, model__gamma=auto, model__kernel=linear, preprocessor__num__imputer__strategy=median, total=   0.6s\n",
      "[CV] model__C=10, model__degree=4, model__gamma=auto, model__kernel=rbf, preprocessor__num__imputer__strategy=mean \n"
     ]
    },
    {
     "name": "stdout",
     "output_type": "stream",
     "text": [
      "[CV]  model__C=10, model__degree=4, model__gamma=auto, model__kernel=rbf, preprocessor__num__imputer__strategy=mean, total=   1.1s\n",
      "[CV] model__C=10, model__degree=4, model__gamma=auto, model__kernel=rbf, preprocessor__num__imputer__strategy=mean \n",
      "[CV]  model__C=10, model__degree=4, model__gamma=auto, model__kernel=rbf, preprocessor__num__imputer__strategy=mean, total=   1.2s\n",
      "[CV] model__C=10, model__degree=4, model__gamma=auto, model__kernel=rbf, preprocessor__num__imputer__strategy=mean \n",
      "[CV]  model__C=10, model__degree=4, model__gamma=auto, model__kernel=rbf, preprocessor__num__imputer__strategy=mean, total=   1.2s\n",
      "[CV] model__C=10, model__degree=4, model__gamma=auto, model__kernel=rbf, preprocessor__num__imputer__strategy=mean \n",
      "[CV]  model__C=10, model__degree=4, model__gamma=auto, model__kernel=rbf, preprocessor__num__imputer__strategy=mean, total=   1.1s\n",
      "[CV] model__C=10, model__degree=4, model__gamma=auto, model__kernel=rbf, preprocessor__num__imputer__strategy=mean \n",
      "[CV]  model__C=10, model__degree=4, model__gamma=auto, model__kernel=rbf, preprocessor__num__imputer__strategy=mean, total=   1.2s\n",
      "[CV] model__C=10, model__degree=4, model__gamma=auto, model__kernel=rbf, preprocessor__num__imputer__strategy=median \n",
      "[CV]  model__C=10, model__degree=4, model__gamma=auto, model__kernel=rbf, preprocessor__num__imputer__strategy=median, total=   1.1s\n",
      "[CV] model__C=10, model__degree=4, model__gamma=auto, model__kernel=rbf, preprocessor__num__imputer__strategy=median \n",
      "[CV]  model__C=10, model__degree=4, model__gamma=auto, model__kernel=rbf, preprocessor__num__imputer__strategy=median, total=   1.4s\n",
      "[CV] model__C=10, model__degree=4, model__gamma=auto, model__kernel=rbf, preprocessor__num__imputer__strategy=median \n",
      "[CV]  model__C=10, model__degree=4, model__gamma=auto, model__kernel=rbf, preprocessor__num__imputer__strategy=median, total=   1.2s\n",
      "[CV] model__C=10, model__degree=4, model__gamma=auto, model__kernel=rbf, preprocessor__num__imputer__strategy=median \n",
      "[CV]  model__C=10, model__degree=4, model__gamma=auto, model__kernel=rbf, preprocessor__num__imputer__strategy=median, total=   1.2s\n",
      "[CV] model__C=10, model__degree=4, model__gamma=auto, model__kernel=rbf, preprocessor__num__imputer__strategy=median \n",
      "[CV]  model__C=10, model__degree=4, model__gamma=auto, model__kernel=rbf, preprocessor__num__imputer__strategy=median, total=   1.2s\n",
      "[CV] model__C=10, model__degree=4, model__gamma=scale, model__kernel=linear, preprocessor__num__imputer__strategy=mean \n",
      "[CV]  model__C=10, model__degree=4, model__gamma=scale, model__kernel=linear, preprocessor__num__imputer__strategy=mean, total=   0.5s\n",
      "[CV] model__C=10, model__degree=4, model__gamma=scale, model__kernel=linear, preprocessor__num__imputer__strategy=mean \n",
      "[CV]  model__C=10, model__degree=4, model__gamma=scale, model__kernel=linear, preprocessor__num__imputer__strategy=mean, total=   0.6s\n",
      "[CV] model__C=10, model__degree=4, model__gamma=scale, model__kernel=linear, preprocessor__num__imputer__strategy=mean \n",
      "[CV]  model__C=10, model__degree=4, model__gamma=scale, model__kernel=linear, preprocessor__num__imputer__strategy=mean, total=   1.6s\n",
      "[CV] model__C=10, model__degree=4, model__gamma=scale, model__kernel=linear, preprocessor__num__imputer__strategy=mean \n",
      "[CV]  model__C=10, model__degree=4, model__gamma=scale, model__kernel=linear, preprocessor__num__imputer__strategy=mean, total=  17.4s\n",
      "[CV] model__C=10, model__degree=4, model__gamma=scale, model__kernel=linear, preprocessor__num__imputer__strategy=mean \n",
      "[CV]  model__C=10, model__degree=4, model__gamma=scale, model__kernel=linear, preprocessor__num__imputer__strategy=mean, total=   0.7s\n",
      "[CV] model__C=10, model__degree=4, model__gamma=scale, model__kernel=linear, preprocessor__num__imputer__strategy=median \n",
      "[CV]  model__C=10, model__degree=4, model__gamma=scale, model__kernel=linear, preprocessor__num__imputer__strategy=median, total=   0.7s\n",
      "[CV] model__C=10, model__degree=4, model__gamma=scale, model__kernel=linear, preprocessor__num__imputer__strategy=median \n",
      "[CV]  model__C=10, model__degree=4, model__gamma=scale, model__kernel=linear, preprocessor__num__imputer__strategy=median, total=   0.8s\n",
      "[CV] model__C=10, model__degree=4, model__gamma=scale, model__kernel=linear, preprocessor__num__imputer__strategy=median \n",
      "[CV]  model__C=10, model__degree=4, model__gamma=scale, model__kernel=linear, preprocessor__num__imputer__strategy=median, total=   0.7s\n",
      "[CV] model__C=10, model__degree=4, model__gamma=scale, model__kernel=linear, preprocessor__num__imputer__strategy=median \n",
      "[CV]  model__C=10, model__degree=4, model__gamma=scale, model__kernel=linear, preprocessor__num__imputer__strategy=median, total=   0.8s\n",
      "[CV] model__C=10, model__degree=4, model__gamma=scale, model__kernel=linear, preprocessor__num__imputer__strategy=median \n",
      "[CV]  model__C=10, model__degree=4, model__gamma=scale, model__kernel=linear, preprocessor__num__imputer__strategy=median, total=   0.7s\n",
      "[CV] model__C=10, model__degree=4, model__gamma=scale, model__kernel=rbf, preprocessor__num__imputer__strategy=mean \n",
      "[CV]  model__C=10, model__degree=4, model__gamma=scale, model__kernel=rbf, preprocessor__num__imputer__strategy=mean, total=   1.1s\n",
      "[CV] model__C=10, model__degree=4, model__gamma=scale, model__kernel=rbf, preprocessor__num__imputer__strategy=mean \n",
      "[CV]  model__C=10, model__degree=4, model__gamma=scale, model__kernel=rbf, preprocessor__num__imputer__strategy=mean, total=   1.2s\n",
      "[CV] model__C=10, model__degree=4, model__gamma=scale, model__kernel=rbf, preprocessor__num__imputer__strategy=mean \n",
      "[CV]  model__C=10, model__degree=4, model__gamma=scale, model__kernel=rbf, preprocessor__num__imputer__strategy=mean, total=   1.2s\n",
      "[CV] model__C=10, model__degree=4, model__gamma=scale, model__kernel=rbf, preprocessor__num__imputer__strategy=mean \n",
      "[CV]  model__C=10, model__degree=4, model__gamma=scale, model__kernel=rbf, preprocessor__num__imputer__strategy=mean, total=   1.1s\n",
      "[CV] model__C=10, model__degree=4, model__gamma=scale, model__kernel=rbf, preprocessor__num__imputer__strategy=mean \n",
      "[CV]  model__C=10, model__degree=4, model__gamma=scale, model__kernel=rbf, preprocessor__num__imputer__strategy=mean, total=   1.2s\n",
      "[CV] model__C=10, model__degree=4, model__gamma=scale, model__kernel=rbf, preprocessor__num__imputer__strategy=median \n",
      "[CV]  model__C=10, model__degree=4, model__gamma=scale, model__kernel=rbf, preprocessor__num__imputer__strategy=median, total=   1.1s\n",
      "[CV] model__C=10, model__degree=4, model__gamma=scale, model__kernel=rbf, preprocessor__num__imputer__strategy=median \n",
      "[CV]  model__C=10, model__degree=4, model__gamma=scale, model__kernel=rbf, preprocessor__num__imputer__strategy=median, total=   1.4s\n",
      "[CV] model__C=10, model__degree=4, model__gamma=scale, model__kernel=rbf, preprocessor__num__imputer__strategy=median \n",
      "[CV]  model__C=10, model__degree=4, model__gamma=scale, model__kernel=rbf, preprocessor__num__imputer__strategy=median, total=   1.6s\n",
      "[CV] model__C=10, model__degree=4, model__gamma=scale, model__kernel=rbf, preprocessor__num__imputer__strategy=median \n",
      "[CV]  model__C=10, model__degree=4, model__gamma=scale, model__kernel=rbf, preprocessor__num__imputer__strategy=median, total=   1.5s\n",
      "[CV] model__C=10, model__degree=4, model__gamma=scale, model__kernel=rbf, preprocessor__num__imputer__strategy=median \n",
      "[CV]  model__C=10, model__degree=4, model__gamma=scale, model__kernel=rbf, preprocessor__num__imputer__strategy=median, total=   1.5s\n",
      "[CV] model__C=10, model__degree=4, model__gamma=0.01, model__kernel=linear, preprocessor__num__imputer__strategy=mean \n",
      "[CV]  model__C=10, model__degree=4, model__gamma=0.01, model__kernel=linear, preprocessor__num__imputer__strategy=mean, total=   0.7s\n",
      "[CV] model__C=10, model__degree=4, model__gamma=0.01, model__kernel=linear, preprocessor__num__imputer__strategy=mean \n",
      "[CV]  model__C=10, model__degree=4, model__gamma=0.01, model__kernel=linear, preprocessor__num__imputer__strategy=mean, total=   0.7s\n",
      "[CV] model__C=10, model__degree=4, model__gamma=0.01, model__kernel=linear, preprocessor__num__imputer__strategy=mean \n",
      "[CV]  model__C=10, model__degree=4, model__gamma=0.01, model__kernel=linear, preprocessor__num__imputer__strategy=mean, total=   1.7s\n",
      "[CV] model__C=10, model__degree=4, model__gamma=0.01, model__kernel=linear, preprocessor__num__imputer__strategy=mean \n"
     ]
    },
    {
     "name": "stdout",
     "output_type": "stream",
     "text": [
      "[CV]  model__C=10, model__degree=4, model__gamma=0.01, model__kernel=linear, preprocessor__num__imputer__strategy=mean, total=  16.4s\n",
      "[CV] model__C=10, model__degree=4, model__gamma=0.01, model__kernel=linear, preprocessor__num__imputer__strategy=mean \n",
      "[CV]  model__C=10, model__degree=4, model__gamma=0.01, model__kernel=linear, preprocessor__num__imputer__strategy=mean, total=   0.7s\n",
      "[CV] model__C=10, model__degree=4, model__gamma=0.01, model__kernel=linear, preprocessor__num__imputer__strategy=median \n",
      "[CV]  model__C=10, model__degree=4, model__gamma=0.01, model__kernel=linear, preprocessor__num__imputer__strategy=median, total=   0.7s\n",
      "[CV] model__C=10, model__degree=4, model__gamma=0.01, model__kernel=linear, preprocessor__num__imputer__strategy=median \n",
      "[CV]  model__C=10, model__degree=4, model__gamma=0.01, model__kernel=linear, preprocessor__num__imputer__strategy=median, total=   0.8s\n",
      "[CV] model__C=10, model__degree=4, model__gamma=0.01, model__kernel=linear, preprocessor__num__imputer__strategy=median \n",
      "[CV]  model__C=10, model__degree=4, model__gamma=0.01, model__kernel=linear, preprocessor__num__imputer__strategy=median, total=   0.7s\n",
      "[CV] model__C=10, model__degree=4, model__gamma=0.01, model__kernel=linear, preprocessor__num__imputer__strategy=median \n",
      "[CV]  model__C=10, model__degree=4, model__gamma=0.01, model__kernel=linear, preprocessor__num__imputer__strategy=median, total=   0.9s\n",
      "[CV] model__C=10, model__degree=4, model__gamma=0.01, model__kernel=linear, preprocessor__num__imputer__strategy=median \n",
      "[CV]  model__C=10, model__degree=4, model__gamma=0.01, model__kernel=linear, preprocessor__num__imputer__strategy=median, total=   0.7s\n",
      "[CV] model__C=10, model__degree=4, model__gamma=0.01, model__kernel=rbf, preprocessor__num__imputer__strategy=mean \n",
      "[CV]  model__C=10, model__degree=4, model__gamma=0.01, model__kernel=rbf, preprocessor__num__imputer__strategy=mean, total=   1.8s\n",
      "[CV] model__C=10, model__degree=4, model__gamma=0.01, model__kernel=rbf, preprocessor__num__imputer__strategy=mean \n",
      "[CV]  model__C=10, model__degree=4, model__gamma=0.01, model__kernel=rbf, preprocessor__num__imputer__strategy=mean, total=   1.3s\n",
      "[CV] model__C=10, model__degree=4, model__gamma=0.01, model__kernel=rbf, preprocessor__num__imputer__strategy=mean \n",
      "[CV]  model__C=10, model__degree=4, model__gamma=0.01, model__kernel=rbf, preprocessor__num__imputer__strategy=mean, total=   1.5s\n",
      "[CV] model__C=10, model__degree=4, model__gamma=0.01, model__kernel=rbf, preprocessor__num__imputer__strategy=mean \n",
      "[CV]  model__C=10, model__degree=4, model__gamma=0.01, model__kernel=rbf, preprocessor__num__imputer__strategy=mean, total=   1.6s\n",
      "[CV] model__C=10, model__degree=4, model__gamma=0.01, model__kernel=rbf, preprocessor__num__imputer__strategy=mean \n",
      "[CV]  model__C=10, model__degree=4, model__gamma=0.01, model__kernel=rbf, preprocessor__num__imputer__strategy=mean, total=   1.4s\n",
      "[CV] model__C=10, model__degree=4, model__gamma=0.01, model__kernel=rbf, preprocessor__num__imputer__strategy=median \n",
      "[CV]  model__C=10, model__degree=4, model__gamma=0.01, model__kernel=rbf, preprocessor__num__imputer__strategy=median, total=   1.8s\n",
      "[CV] model__C=10, model__degree=4, model__gamma=0.01, model__kernel=rbf, preprocessor__num__imputer__strategy=median \n",
      "[CV]  model__C=10, model__degree=4, model__gamma=0.01, model__kernel=rbf, preprocessor__num__imputer__strategy=median, total=   1.7s\n",
      "[CV] model__C=10, model__degree=4, model__gamma=0.01, model__kernel=rbf, preprocessor__num__imputer__strategy=median \n",
      "[CV]  model__C=10, model__degree=4, model__gamma=0.01, model__kernel=rbf, preprocessor__num__imputer__strategy=median, total=   2.0s\n",
      "[CV] model__C=10, model__degree=4, model__gamma=0.01, model__kernel=rbf, preprocessor__num__imputer__strategy=median \n",
      "[CV]  model__C=10, model__degree=4, model__gamma=0.01, model__kernel=rbf, preprocessor__num__imputer__strategy=median, total=   1.6s\n",
      "[CV] model__C=10, model__degree=4, model__gamma=0.01, model__kernel=rbf, preprocessor__num__imputer__strategy=median \n",
      "[CV]  model__C=10, model__degree=4, model__gamma=0.01, model__kernel=rbf, preprocessor__num__imputer__strategy=median, total=   1.3s\n",
      "[CV] model__C=10, model__degree=5, model__gamma=auto, model__kernel=linear, preprocessor__num__imputer__strategy=mean \n",
      "[CV]  model__C=10, model__degree=5, model__gamma=auto, model__kernel=linear, preprocessor__num__imputer__strategy=mean, total=   0.5s\n",
      "[CV] model__C=10, model__degree=5, model__gamma=auto, model__kernel=linear, preprocessor__num__imputer__strategy=mean \n",
      "[CV]  model__C=10, model__degree=5, model__gamma=auto, model__kernel=linear, preprocessor__num__imputer__strategy=mean, total=   0.6s\n",
      "[CV] model__C=10, model__degree=5, model__gamma=auto, model__kernel=linear, preprocessor__num__imputer__strategy=mean \n",
      "[CV]  model__C=10, model__degree=5, model__gamma=auto, model__kernel=linear, preprocessor__num__imputer__strategy=mean, total=   1.3s\n",
      "[CV] model__C=10, model__degree=5, model__gamma=auto, model__kernel=linear, preprocessor__num__imputer__strategy=mean \n",
      "[CV]  model__C=10, model__degree=5, model__gamma=auto, model__kernel=linear, preprocessor__num__imputer__strategy=mean, total=  17.0s\n",
      "[CV] model__C=10, model__degree=5, model__gamma=auto, model__kernel=linear, preprocessor__num__imputer__strategy=mean \n",
      "[CV]  model__C=10, model__degree=5, model__gamma=auto, model__kernel=linear, preprocessor__num__imputer__strategy=mean, total=   0.7s\n",
      "[CV] model__C=10, model__degree=5, model__gamma=auto, model__kernel=linear, preprocessor__num__imputer__strategy=median \n",
      "[CV]  model__C=10, model__degree=5, model__gamma=auto, model__kernel=linear, preprocessor__num__imputer__strategy=median, total=   0.7s\n",
      "[CV] model__C=10, model__degree=5, model__gamma=auto, model__kernel=linear, preprocessor__num__imputer__strategy=median \n",
      "[CV]  model__C=10, model__degree=5, model__gamma=auto, model__kernel=linear, preprocessor__num__imputer__strategy=median, total=   0.8s\n",
      "[CV] model__C=10, model__degree=5, model__gamma=auto, model__kernel=linear, preprocessor__num__imputer__strategy=median \n",
      "[CV]  model__C=10, model__degree=5, model__gamma=auto, model__kernel=linear, preprocessor__num__imputer__strategy=median, total=   0.7s\n",
      "[CV] model__C=10, model__degree=5, model__gamma=auto, model__kernel=linear, preprocessor__num__imputer__strategy=median \n",
      "[CV]  model__C=10, model__degree=5, model__gamma=auto, model__kernel=linear, preprocessor__num__imputer__strategy=median, total=   0.8s\n",
      "[CV] model__C=10, model__degree=5, model__gamma=auto, model__kernel=linear, preprocessor__num__imputer__strategy=median \n",
      "[CV]  model__C=10, model__degree=5, model__gamma=auto, model__kernel=linear, preprocessor__num__imputer__strategy=median, total=   0.7s\n",
      "[CV] model__C=10, model__degree=5, model__gamma=auto, model__kernel=rbf, preprocessor__num__imputer__strategy=mean \n",
      "[CV]  model__C=10, model__degree=5, model__gamma=auto, model__kernel=rbf, preprocessor__num__imputer__strategy=mean, total=   1.4s\n",
      "[CV] model__C=10, model__degree=5, model__gamma=auto, model__kernel=rbf, preprocessor__num__imputer__strategy=mean \n",
      "[CV]  model__C=10, model__degree=5, model__gamma=auto, model__kernel=rbf, preprocessor__num__imputer__strategy=mean, total=   1.4s\n",
      "[CV] model__C=10, model__degree=5, model__gamma=auto, model__kernel=rbf, preprocessor__num__imputer__strategy=mean \n",
      "[CV]  model__C=10, model__degree=5, model__gamma=auto, model__kernel=rbf, preprocessor__num__imputer__strategy=mean, total=   1.2s\n",
      "[CV] model__C=10, model__degree=5, model__gamma=auto, model__kernel=rbf, preprocessor__num__imputer__strategy=mean \n",
      "[CV]  model__C=10, model__degree=5, model__gamma=auto, model__kernel=rbf, preprocessor__num__imputer__strategy=mean, total=   1.1s\n",
      "[CV] model__C=10, model__degree=5, model__gamma=auto, model__kernel=rbf, preprocessor__num__imputer__strategy=mean \n",
      "[CV]  model__C=10, model__degree=5, model__gamma=auto, model__kernel=rbf, preprocessor__num__imputer__strategy=mean, total=   1.2s\n",
      "[CV] model__C=10, model__degree=5, model__gamma=auto, model__kernel=rbf, preprocessor__num__imputer__strategy=median \n",
      "[CV]  model__C=10, model__degree=5, model__gamma=auto, model__kernel=rbf, preprocessor__num__imputer__strategy=median, total=   1.1s\n",
      "[CV] model__C=10, model__degree=5, model__gamma=auto, model__kernel=rbf, preprocessor__num__imputer__strategy=median \n"
     ]
    },
    {
     "name": "stdout",
     "output_type": "stream",
     "text": [
      "[CV]  model__C=10, model__degree=5, model__gamma=auto, model__kernel=rbf, preprocessor__num__imputer__strategy=median, total=   1.4s\n",
      "[CV] model__C=10, model__degree=5, model__gamma=auto, model__kernel=rbf, preprocessor__num__imputer__strategy=median \n",
      "[CV]  model__C=10, model__degree=5, model__gamma=auto, model__kernel=rbf, preprocessor__num__imputer__strategy=median, total=   1.2s\n",
      "[CV] model__C=10, model__degree=5, model__gamma=auto, model__kernel=rbf, preprocessor__num__imputer__strategy=median \n",
      "[CV]  model__C=10, model__degree=5, model__gamma=auto, model__kernel=rbf, preprocessor__num__imputer__strategy=median, total=   1.2s\n",
      "[CV] model__C=10, model__degree=5, model__gamma=auto, model__kernel=rbf, preprocessor__num__imputer__strategy=median \n",
      "[CV]  model__C=10, model__degree=5, model__gamma=auto, model__kernel=rbf, preprocessor__num__imputer__strategy=median, total=   1.2s\n",
      "[CV] model__C=10, model__degree=5, model__gamma=scale, model__kernel=linear, preprocessor__num__imputer__strategy=mean \n",
      "[CV]  model__C=10, model__degree=5, model__gamma=scale, model__kernel=linear, preprocessor__num__imputer__strategy=mean, total=   0.5s\n",
      "[CV] model__C=10, model__degree=5, model__gamma=scale, model__kernel=linear, preprocessor__num__imputer__strategy=mean \n",
      "[CV]  model__C=10, model__degree=5, model__gamma=scale, model__kernel=linear, preprocessor__num__imputer__strategy=mean, total=   0.6s\n",
      "[CV] model__C=10, model__degree=5, model__gamma=scale, model__kernel=linear, preprocessor__num__imputer__strategy=mean \n",
      "[CV]  model__C=10, model__degree=5, model__gamma=scale, model__kernel=linear, preprocessor__num__imputer__strategy=mean, total=   1.4s\n",
      "[CV] model__C=10, model__degree=5, model__gamma=scale, model__kernel=linear, preprocessor__num__imputer__strategy=mean \n",
      "[CV]  model__C=10, model__degree=5, model__gamma=scale, model__kernel=linear, preprocessor__num__imputer__strategy=mean, total=  17.8s\n",
      "[CV] model__C=10, model__degree=5, model__gamma=scale, model__kernel=linear, preprocessor__num__imputer__strategy=mean \n",
      "[CV]  model__C=10, model__degree=5, model__gamma=scale, model__kernel=linear, preprocessor__num__imputer__strategy=mean, total=   0.7s\n",
      "[CV] model__C=10, model__degree=5, model__gamma=scale, model__kernel=linear, preprocessor__num__imputer__strategy=median \n",
      "[CV]  model__C=10, model__degree=5, model__gamma=scale, model__kernel=linear, preprocessor__num__imputer__strategy=median, total=   0.7s\n",
      "[CV] model__C=10, model__degree=5, model__gamma=scale, model__kernel=linear, preprocessor__num__imputer__strategy=median \n",
      "[CV]  model__C=10, model__degree=5, model__gamma=scale, model__kernel=linear, preprocessor__num__imputer__strategy=median, total=   0.8s\n",
      "[CV] model__C=10, model__degree=5, model__gamma=scale, model__kernel=linear, preprocessor__num__imputer__strategy=median \n",
      "[CV]  model__C=10, model__degree=5, model__gamma=scale, model__kernel=linear, preprocessor__num__imputer__strategy=median, total=   0.7s\n",
      "[CV] model__C=10, model__degree=5, model__gamma=scale, model__kernel=linear, preprocessor__num__imputer__strategy=median \n",
      "[CV]  model__C=10, model__degree=5, model__gamma=scale, model__kernel=linear, preprocessor__num__imputer__strategy=median, total=   0.6s\n",
      "[CV] model__C=10, model__degree=5, model__gamma=scale, model__kernel=linear, preprocessor__num__imputer__strategy=median \n",
      "[CV]  model__C=10, model__degree=5, model__gamma=scale, model__kernel=linear, preprocessor__num__imputer__strategy=median, total=   0.6s\n",
      "[CV] model__C=10, model__degree=5, model__gamma=scale, model__kernel=rbf, preprocessor__num__imputer__strategy=mean \n",
      "[CV]  model__C=10, model__degree=5, model__gamma=scale, model__kernel=rbf, preprocessor__num__imputer__strategy=mean, total=   1.1s\n",
      "[CV] model__C=10, model__degree=5, model__gamma=scale, model__kernel=rbf, preprocessor__num__imputer__strategy=mean \n",
      "[CV]  model__C=10, model__degree=5, model__gamma=scale, model__kernel=rbf, preprocessor__num__imputer__strategy=mean, total=   1.2s\n",
      "[CV] model__C=10, model__degree=5, model__gamma=scale, model__kernel=rbf, preprocessor__num__imputer__strategy=mean \n",
      "[CV]  model__C=10, model__degree=5, model__gamma=scale, model__kernel=rbf, preprocessor__num__imputer__strategy=mean, total=   1.2s\n",
      "[CV] model__C=10, model__degree=5, model__gamma=scale, model__kernel=rbf, preprocessor__num__imputer__strategy=mean \n",
      "[CV]  model__C=10, model__degree=5, model__gamma=scale, model__kernel=rbf, preprocessor__num__imputer__strategy=mean, total=   1.3s\n",
      "[CV] model__C=10, model__degree=5, model__gamma=scale, model__kernel=rbf, preprocessor__num__imputer__strategy=mean \n",
      "[CV]  model__C=10, model__degree=5, model__gamma=scale, model__kernel=rbf, preprocessor__num__imputer__strategy=mean, total=   1.2s\n",
      "[CV] model__C=10, model__degree=5, model__gamma=scale, model__kernel=rbf, preprocessor__num__imputer__strategy=median \n",
      "[CV]  model__C=10, model__degree=5, model__gamma=scale, model__kernel=rbf, preprocessor__num__imputer__strategy=median, total=   1.1s\n",
      "[CV] model__C=10, model__degree=5, model__gamma=scale, model__kernel=rbf, preprocessor__num__imputer__strategy=median \n",
      "[CV]  model__C=10, model__degree=5, model__gamma=scale, model__kernel=rbf, preprocessor__num__imputer__strategy=median, total=   1.4s\n",
      "[CV] model__C=10, model__degree=5, model__gamma=scale, model__kernel=rbf, preprocessor__num__imputer__strategy=median \n",
      "[CV]  model__C=10, model__degree=5, model__gamma=scale, model__kernel=rbf, preprocessor__num__imputer__strategy=median, total=   1.2s\n",
      "[CV] model__C=10, model__degree=5, model__gamma=scale, model__kernel=rbf, preprocessor__num__imputer__strategy=median \n",
      "[CV]  model__C=10, model__degree=5, model__gamma=scale, model__kernel=rbf, preprocessor__num__imputer__strategy=median, total=   1.2s\n",
      "[CV] model__C=10, model__degree=5, model__gamma=scale, model__kernel=rbf, preprocessor__num__imputer__strategy=median \n",
      "[CV]  model__C=10, model__degree=5, model__gamma=scale, model__kernel=rbf, preprocessor__num__imputer__strategy=median, total=   1.2s\n",
      "[CV] model__C=10, model__degree=5, model__gamma=0.01, model__kernel=linear, preprocessor__num__imputer__strategy=mean \n",
      "[CV]  model__C=10, model__degree=5, model__gamma=0.01, model__kernel=linear, preprocessor__num__imputer__strategy=mean, total=   0.5s\n",
      "[CV] model__C=10, model__degree=5, model__gamma=0.01, model__kernel=linear, preprocessor__num__imputer__strategy=mean \n",
      "[CV]  model__C=10, model__degree=5, model__gamma=0.01, model__kernel=linear, preprocessor__num__imputer__strategy=mean, total=   0.6s\n",
      "[CV] model__C=10, model__degree=5, model__gamma=0.01, model__kernel=linear, preprocessor__num__imputer__strategy=mean \n",
      "[CV]  model__C=10, model__degree=5, model__gamma=0.01, model__kernel=linear, preprocessor__num__imputer__strategy=mean, total=   1.3s\n",
      "[CV] model__C=10, model__degree=5, model__gamma=0.01, model__kernel=linear, preprocessor__num__imputer__strategy=mean \n",
      "[CV]  model__C=10, model__degree=5, model__gamma=0.01, model__kernel=linear, preprocessor__num__imputer__strategy=mean, total=  17.6s\n",
      "[CV] model__C=10, model__degree=5, model__gamma=0.01, model__kernel=linear, preprocessor__num__imputer__strategy=mean \n",
      "[CV]  model__C=10, model__degree=5, model__gamma=0.01, model__kernel=linear, preprocessor__num__imputer__strategy=mean, total=   0.7s\n",
      "[CV] model__C=10, model__degree=5, model__gamma=0.01, model__kernel=linear, preprocessor__num__imputer__strategy=median \n",
      "[CV]  model__C=10, model__degree=5, model__gamma=0.01, model__kernel=linear, preprocessor__num__imputer__strategy=median, total=   0.7s\n",
      "[CV] model__C=10, model__degree=5, model__gamma=0.01, model__kernel=linear, preprocessor__num__imputer__strategy=median \n",
      "[CV]  model__C=10, model__degree=5, model__gamma=0.01, model__kernel=linear, preprocessor__num__imputer__strategy=median, total=   0.8s\n",
      "[CV] model__C=10, model__degree=5, model__gamma=0.01, model__kernel=linear, preprocessor__num__imputer__strategy=median \n",
      "[CV]  model__C=10, model__degree=5, model__gamma=0.01, model__kernel=linear, preprocessor__num__imputer__strategy=median, total=   0.8s\n",
      "[CV] model__C=10, model__degree=5, model__gamma=0.01, model__kernel=linear, preprocessor__num__imputer__strategy=median \n",
      "[CV]  model__C=10, model__degree=5, model__gamma=0.01, model__kernel=linear, preprocessor__num__imputer__strategy=median, total=   0.9s\n",
      "[CV] model__C=10, model__degree=5, model__gamma=0.01, model__kernel=linear, preprocessor__num__imputer__strategy=median \n"
     ]
    },
    {
     "name": "stdout",
     "output_type": "stream",
     "text": [
      "[CV]  model__C=10, model__degree=5, model__gamma=0.01, model__kernel=linear, preprocessor__num__imputer__strategy=median, total=   0.6s\n",
      "[CV] model__C=10, model__degree=5, model__gamma=0.01, model__kernel=rbf, preprocessor__num__imputer__strategy=mean \n",
      "[CV]  model__C=10, model__degree=5, model__gamma=0.01, model__kernel=rbf, preprocessor__num__imputer__strategy=mean, total=   1.4s\n",
      "[CV] model__C=10, model__degree=5, model__gamma=0.01, model__kernel=rbf, preprocessor__num__imputer__strategy=mean \n",
      "[CV]  model__C=10, model__degree=5, model__gamma=0.01, model__kernel=rbf, preprocessor__num__imputer__strategy=mean, total=   1.3s\n",
      "[CV] model__C=10, model__degree=5, model__gamma=0.01, model__kernel=rbf, preprocessor__num__imputer__strategy=mean \n",
      "[CV]  model__C=10, model__degree=5, model__gamma=0.01, model__kernel=rbf, preprocessor__num__imputer__strategy=mean, total=   1.7s\n",
      "[CV] model__C=10, model__degree=5, model__gamma=0.01, model__kernel=rbf, preprocessor__num__imputer__strategy=mean \n",
      "[CV]  model__C=10, model__degree=5, model__gamma=0.01, model__kernel=rbf, preprocessor__num__imputer__strategy=mean, total=   1.6s\n",
      "[CV] model__C=10, model__degree=5, model__gamma=0.01, model__kernel=rbf, preprocessor__num__imputer__strategy=mean \n",
      "[CV]  model__C=10, model__degree=5, model__gamma=0.01, model__kernel=rbf, preprocessor__num__imputer__strategy=mean, total=   1.4s\n",
      "[CV] model__C=10, model__degree=5, model__gamma=0.01, model__kernel=rbf, preprocessor__num__imputer__strategy=median \n",
      "[CV]  model__C=10, model__degree=5, model__gamma=0.01, model__kernel=rbf, preprocessor__num__imputer__strategy=median, total=   1.5s\n",
      "[CV] model__C=10, model__degree=5, model__gamma=0.01, model__kernel=rbf, preprocessor__num__imputer__strategy=median \n",
      "[CV]  model__C=10, model__degree=5, model__gamma=0.01, model__kernel=rbf, preprocessor__num__imputer__strategy=median, total=   1.7s\n",
      "[CV] model__C=10, model__degree=5, model__gamma=0.01, model__kernel=rbf, preprocessor__num__imputer__strategy=median \n",
      "[CV]  model__C=10, model__degree=5, model__gamma=0.01, model__kernel=rbf, preprocessor__num__imputer__strategy=median, total=   2.1s\n",
      "[CV] model__C=10, model__degree=5, model__gamma=0.01, model__kernel=rbf, preprocessor__num__imputer__strategy=median \n",
      "[CV]  model__C=10, model__degree=5, model__gamma=0.01, model__kernel=rbf, preprocessor__num__imputer__strategy=median, total=   1.8s\n",
      "[CV] model__C=10, model__degree=5, model__gamma=0.01, model__kernel=rbf, preprocessor__num__imputer__strategy=median \n",
      "[CV]  model__C=10, model__degree=5, model__gamma=0.01, model__kernel=rbf, preprocessor__num__imputer__strategy=median, total=   2.2s\n"
     ]
    },
    {
     "name": "stderr",
     "output_type": "stream",
     "text": [
      "[Parallel(n_jobs=1)]: Done 540 out of 540 | elapsed:  9.0min finished\n"
     ]
    },
    {
     "data": {
      "text/plain": [
       "GridSearchCV(cv=5, error_score='raise-deprecating',\n",
       "             estimator=Pipeline(memory=None,\n",
       "                                steps=[('preprocessor',\n",
       "                                        ColumnTransformer(n_jobs=None,\n",
       "                                                          remainder='drop',\n",
       "                                                          sparse_threshold=0.3,\n",
       "                                                          transformer_weights=None,\n",
       "                                                          transformers=[('cat',\n",
       "                                                                         Pipeline(memory=None,\n",
       "                                                                                  steps=[('imputer',\n",
       "                                                                                          SimpleImputer(add_indicator=False,\n",
       "                                                                                                        copy=True,\n",
       "                                                                                                        fill_value='missing',\n",
       "                                                                                                        missing_values=nan,\n",
       "                                                                                                        strategy=...\n",
       "                                            random_state=None, shrinking=True,\n",
       "                                            tol=0.001, verbose=False))],\n",
       "                                verbose=False),\n",
       "             iid='warn', n_jobs=None,\n",
       "             param_grid={'model__C': [0.1, 1, 10], 'model__degree': [3, 4, 5],\n",
       "                         'model__gamma': ['auto', 'scale', 0.01],\n",
       "                         'model__kernel': ['linear', 'rbf'],\n",
       "                         'preprocessor__num__imputer__strategy': ['mean',\n",
       "                                                                  'median']},\n",
       "             pre_dispatch='2*n_jobs', refit=True, return_train_score=False,\n",
       "             scoring=None, verbose=2)"
      ]
     },
     "execution_count": 24,
     "metadata": {},
     "output_type": "execute_result"
    }
   ],
   "source": [
    "from sklearn.model_selection import GridSearchCV\n",
    "\n",
    "gs_pipe_grid = {\n",
    "    'preprocessor__num__imputer__strategy': ['mean', 'median'],\n",
    "    'model__kernel': ['linear', 'rbf'],\n",
    "    'model__gamma': ['auto', 'scale', 0.01],\n",
    "    'model__C': [0.1, 1, 10],\n",
    "    'model__degree': [3, 4 , 5]\n",
    "}\n",
    "\n",
    "gs_svc = GridSearchCV(estimator = model,\n",
    "                      param_grid = gs_pipe_grid,\n",
    "                      cv = 5,\n",
    "                      verbose = 2,\n",
    "                      refit = True)\n",
    "\n",
    "gs_svc.fit(X_train, y_train)"
   ]
  },
  {
   "cell_type": "code",
   "execution_count": 25,
   "metadata": {},
   "outputs": [
    {
     "data": {
      "text/plain": [
       "{'model__C': 0.1,\n",
       " 'model__degree': 3,\n",
       " 'model__gamma': 'auto',\n",
       " 'model__kernel': 'linear',\n",
       " 'preprocessor__num__imputer__strategy': 'mean'}"
      ]
     },
     "execution_count": 25,
     "metadata": {},
     "output_type": "execute_result"
    }
   ],
   "source": [
    "gs_svc.best_params_"
   ]
  },
  {
   "cell_type": "code",
   "execution_count": 27,
   "metadata": {},
   "outputs": [
    {
     "name": "stdout",
     "output_type": "stream",
     "text": [
      "Acc: 67.13%\n",
      "Precision: 0.67\n",
      "Recall: 1.00\n",
      "F1 score: 0.80\n"
     ]
    }
   ],
   "source": [
    "gs_y_preds = gs_svc.predict(X_test)\n",
    "\n",
    "gs_metrics = evaluate_preds(y_test, gs_y_preds)"
   ]
  },
  {
   "cell_type": "markdown",
   "metadata": {},
   "source": [
    "**Compare Metrics**"
   ]
  },
  {
   "cell_type": "code",
   "execution_count": 28,
   "metadata": {},
   "outputs": [
    {
     "data": {
      "image/png": "[encoded data removed]",
      "text/plain": [
       "<Figure size 720x720 with 1 Axes>"
      ]
     },
     "metadata": {
      "needs_background": "light"
     },
     "output_type": "display_data"
    }
   ],
   "source": [
    "# Comparing all the metrics of the models\n",
    "compare_metrics = pd.DataFrame({'baseline': baseline_metrics,\n",
    "                                'random search': rs_metrics,\n",
    "                                'grid_search': gs_metrics})\n",
    "\n",
    "compare_metrics.plot.bar(figsize = (10, 10));"
   ]
  },
  {
   "attachments": {
    "GridSearch_Mistake.JPG": {
     "image/jpeg": "[encoded data removed]"
    },
    "GridSearch_Mistake_Outcome.JPG": {
     "image/jpeg": "[encoded data removed]"
    }
   },
   "cell_type": "markdown",
   "metadata": {},
   "source": [
    "**Big Mistake to never do again**\n",
    "\n",
    "![GridSearch_Mistake.JPG](attachment:GridSearch_Mistake.JPG)\n",
    "![GridSearch_Mistake_Outcome.JPG](attachment:GridSearch_Mistake_Outcome.JPG)\n",
    "\n",
    "Same as the Randomized Search CV model, besides the .01% difference in precision."
   ]
  },
  {
   "cell_type": "markdown",
   "metadata": {},
   "source": [
    "**Save and Load Model (Model Transportation)**\n",
    "\n",
    "Using Pickle instead of Joblib because there aren't a lot of samples of data."
   ]
  },
  {
   "cell_type": "code",
   "execution_count": 34,
   "metadata": {},
   "outputs": [],
   "source": [
    "import pickle\n",
    "\n",
    "# Save an existing model to the file\n",
    "pickle.dump(rs_svc, open('rs_svc_module.pkl', 'wb'))"
   ]
  },
  {
   "cell_type": "code",
   "execution_count": 35,
   "metadata": {},
   "outputs": [],
   "source": [
    "# Load a saved model\n",
    "loaded_pickle_model = pickle.load(open('rs_svc_module.pkl', 'rb'))"
   ]
  },
  {
   "cell_type": "code",
   "execution_count": 36,
   "metadata": {},
   "outputs": [
    {
     "name": "stdout",
     "output_type": "stream",
     "text": [
      "Acc: 68.02%\n",
      "Precision: 0.68\n",
      "Recall: 0.97\n",
      "F1 score: 0.80\n"
     ]
    },
    {
     "data": {
      "text/plain": [
       "{'accuracy': 0.68, 'precision': 0.68, 'recall': 0.98, 'f1': 0.8}"
      ]
     },
     "execution_count": 36,
     "metadata": {},
     "output_type": "execute_result"
    }
   ],
   "source": [
    "# Check if model is loaded: Make some predictions\n",
    "pickle_y_preds = loaded_pickle_model.predict(X_test)\n",
    "evaluate_preds(y_test, pickle_y_preds)"
   ]
  },
  {
   "cell_type": "markdown",
   "metadata": {},
   "source": [
    "**Make Predictions**\n",
    "\n",
    "Also see which feature has the most correlation to the label for a better idea of how the model predicts new data."
   ]
  },
  {
   "cell_type": "code",
   "execution_count": 76,
   "metadata": {},
   "outputs": [
    {
     "name": "stdout",
     "output_type": "stream",
     "text": [
      "['Reach_m', 'Weight_kg', 'BMI'] \n",
      "            Win       Age  Height_m   Reach_m  Weight_kg       BMI\n",
      "Win        NaN  0.161882  0.074239  0.066894   0.111137  0.113225\n",
      "Age        NaN       NaN  0.074404  0.075055   0.186072  0.222181\n",
      "Height_m   NaN       NaN       NaN  0.889551   0.780982  0.463369\n",
      "Reach_m    NaN       NaN       NaN       NaN   0.762441  0.499848\n",
      "Weight_kg  NaN       NaN       NaN       NaN        NaN  0.911960\n",
      "BMI        NaN       NaN       NaN       NaN        NaN       NaN\n"
     ]
    }
   ],
   "source": [
    "cor = ufc_df.corr().abs()\n",
    "upper = cor.where(np.triu(np.ones(cor.shape), k=1).astype(np.bool))\n",
    "# Feature with correlation greater than 0.7\n",
    "high_corr = [column for column in upper.columns if any(upper[column] > 0.70)]\n",
    "print(high_corr, '\\n', upper)"
   ]
  },
  {
   "cell_type": "code",
   "execution_count": 86,
   "metadata": {},
   "outputs": [
    {
     "data": {
      "text/html": [
       "<div>\n",
       "<style scoped>\n",
       "    .dataframe tbody tr th:only-of-type {\n",
       "        vertical-align: middle;\n",
       "    }\n",
       "\n",
       "    .dataframe tbody tr th {\n",
       "        vertical-align: top;\n",
       "    }\n",
       "\n",
       "    .dataframe thead th {\n",
       "        text-align: right;\n",
       "    }\n",
       "</style>\n",
       "<table border=\"1\" class=\"dataframe\">\n",
       "  <thead>\n",
       "    <tr style=\"text-align: right;\">\n",
       "      <th></th>\n",
       "      <th>Win</th>\n",
       "      <th>Stance</th>\n",
       "      <th>Age</th>\n",
       "      <th>Height_m</th>\n",
       "      <th>Reach_m</th>\n",
       "      <th>Weight_kg</th>\n",
       "      <th>BMI</th>\n",
       "    </tr>\n",
       "  </thead>\n",
       "  <tbody>\n",
       "    <tr>\n",
       "      <th>0</th>\n",
       "      <td>1</td>\n",
       "      <td>Orthodox</td>\n",
       "      <td>32.0</td>\n",
       "      <td>1.63</td>\n",
       "      <td>1.63</td>\n",
       "      <td>61.23</td>\n",
       "      <td>23.17</td>\n",
       "    </tr>\n",
       "  </tbody>\n",
       "</table>\n",
       "</div>"
      ],
      "text/plain": [
       "   Win    Stance   Age  Height_m  Reach_m  Weight_kg    BMI\n",
       "0    1  Orthodox  32.0      1.63     1.63      61.23  23.17"
      ]
     },
     "execution_count": 86,
     "metadata": {},
     "output_type": "execute_result"
    }
   ],
   "source": [
    "ufc_df[:1]"
   ]
  },
  {
   "cell_type": "code",
   "execution_count": 174,
   "metadata": {},
   "outputs": [
    {
     "name": "stdout",
     "output_type": "stream",
     "text": [
      "[1] [1] [1]\n"
     ]
    }
   ],
   "source": [
    "# Defining one new instance\n",
    "Xnew = pd.DataFrame([['Orthodox', 22.5, 1.60, 1.68, 72.57, 28.35]],\n",
    "                    columns = ['Stance', 'Age', 'Height_m',\n",
    "                               'Reach_m', 'Weight_kg', 'BMI'],\n",
    "                    dtype = float)\n",
    "# Make a prediction\n",
    "print(model.predict(Xnew), rs_svc.predict(Xnew), gs_svc.predict(Xnew))"
   ]
  }
 ],
 "metadata": {
  "kernelspec": {
   "display_name": "Python 3",
   "language": "python",
   "name": "python3"
  },
  "language_info": {
   "codemirror_mode": {
    "name": "ipython",
    "version": 3
   },
   "file_extension": ".py",
   "mimetype": "text/x-python",
   "name": "python",
   "nbconvert_exporter": "python",
   "pygments_lexer": "ipython3",
   "version": "3.7.4"
  }
 },
 "nbformat": 4,
 "nbformat_minor": 2
}
